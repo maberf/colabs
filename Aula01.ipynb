{
  "cells": [
    {
      "cell_type": "markdown",
      "metadata": {
        "id": "view-in-github",
        "colab_type": "text"
      },
      "source": [
        "<a href=\"https://colab.research.google.com/github/maberf/colabs/blob/main/Aula01.ipynb\" target=\"_parent\"><img src=\"https://colab.research.google.com/assets/colab-badge.svg\" alt=\"Open In Colab\"/></a>"
      ]
    },
    {
      "cell_type": "markdown",
      "metadata": {
        "id": "JhAyN8e-n19m"
      },
      "source": [
        "<b> <font color = 'crimson'> <font size = \"6.75\"> Aula 01\n",
        "    \n",
        "---"
      ]
    },
    {
      "cell_type": "markdown",
      "metadata": {
        "id": "Q3bdd04Kn19o"
      },
      "source": [
        "# <font color='blue'> Programa do evento"
      ]
    },
    {
      "cell_type": "markdown",
      "metadata": {
        "id": "YOtnAUWFn19o"
      },
      "source": [
        "<b> <font color='blue'> Aula 01 - Analytics descritivo de uma única ação\n",
        "- Obtenção de dados (séries de preços)\n",
        "- Cálculo do retorno de uma ação\n",
        "- Cálculo do risco de uma ação </b>\n",
        "\n",
        "<br>\n",
        "\n",
        "Aula 02 - Analytics descritivo de uma carteira de ações\n",
        "- Cálculo do retorno de uma carteira\n",
        "- Cálculo do risco de uma carteira\n",
        "\n",
        "<br>\n",
        "\n",
        "Aula 03 - Analytics prescritivo de uma carteira de ações (continuação)\n",
        "- Simulação de retorno vs. risco (introdução à simulação de Monte Carlo)\n",
        "- Otimização de alocação\n",
        "    \n",
        "<br>\n",
        "    \n",
        "    \n",
        "Aula 04 - Derivativos\n",
        "- Como funciona uma call option (payoff, P&L)\n",
        "- Simulação de Monte Carlo para o preço do ativo\n",
        "- Simulação de Monte Carlo para o P&L do derivativo\n",
        "- Análises gráficas\n",
        "- Análise de uma estratégia de trading com calls"
      ]
    },
    {
      "cell_type": "code",
      "execution_count": null,
      "metadata": {
        "id": "mrTnF2q_n19o"
      },
      "outputs": [],
      "source": []
    },
    {
      "cell_type": "markdown",
      "metadata": {
        "id": "WC-O-POtn19o"
      },
      "source": [
        "# <font color='blue'> Interfaces para programar em Python"
      ]
    },
    {
      "cell_type": "markdown",
      "metadata": {
        "id": "fnCM62cMn19p"
      },
      "source": [
        "Uma **IDE** (integrated development environment = ambiente de desenvolvimento integrado) é um aplicativo que fornece diversos recursos aos programadores para o desenvolvimento de seus programas/ projetos."
      ]
    },
    {
      "cell_type": "markdown",
      "metadata": {
        "id": "4-rpiR6Gn19p"
      },
      "source": [
        "Para escrever e rodar programas na linguagem Python, há várias IDEs disponíveis no mercado.\n",
        "\n",
        "- Algumas interfaces são gratuitas, outras pagas,\n",
        "- Algumas são mais sofisticadas, outras menos,\n",
        "- Algumas são melhores para certos usos, outras melhores para outros usos (e.g., programação orientada a objeto, desenvolvimento e prototipagem de modelos)."
      ]
    },
    {
      "cell_type": "markdown",
      "metadata": {
        "id": "hcaEgPOgn19p"
      },
      "source": [
        "## <font color='Green'> Jupyter Notebook"
      ]
    },
    {
      "cell_type": "markdown",
      "metadata": {
        "id": "cF7kOFpQn19p"
      },
      "source": [
        "O Jupyter Notebook é um aplicativo de código aberto (open-source) que permite criar e compartilhar documentos que contêm código (programas), gráficos, equações e texto.\n",
        "\n",
        "Os usos de um Jupyter Notebook incluem:\n",
        "- Limpeza e manipulação/ transformação de dados,\n",
        "- Simulação numérica,\n",
        "- Otimização,\n",
        "- Modelagem estocástica (i.e., construção de modelos que incorporam ferramentas de teoria de probabilidade/ estatística),\n",
        "- Visualização de dados,\n",
        "- Machine learning (aprendizado de máquina),\n",
        "- Automatização de atividades,\n",
        "- etc.\n"
      ]
    },
    {
      "cell_type": "markdown",
      "metadata": {
        "id": "0KvwaEo9n19p"
      },
      "source": [
        "O Jupyter precisa ser instalado localmente na máquina do usuário.\n",
        "\n",
        "A maneira mais simples de instalar o Jupyter é instalando o Anaconda:\n",
        "\n",
        "https://www.anaconda.com/products/individual"
      ]
    },
    {
      "cell_type": "markdown",
      "metadata": {
        "id": "43jyBFwfn19p"
      },
      "source": [
        "Um Jupyter notebook é um arquivo do tipo (i.e., com a extensão): **.ipynb**.\n",
        "\n",
        "Um Jupyter notebook pode ser exportado para vários outros formatos, por exemplo: pdf, html, py"
      ]
    },
    {
      "cell_type": "markdown",
      "metadata": {
        "id": "Qr4cpJW-n19q"
      },
      "source": [
        "## <font color='Green'> Google Colab"
      ]
    },
    {
      "cell_type": "markdown",
      "metadata": {
        "id": "xFygJmJCn19q"
      },
      "source": [
        "Google Colaboratory = Google Colab.\n",
        "\n",
        "O Google Colab também é gratuito e funciona de forma análoga ao Jupyter (com algumas vantagens e algumas desvantagens).\n",
        "\n",
        "https://research.google.com/colaboratory/"
      ]
    },
    {
      "cell_type": "markdown",
      "metadata": {
        "id": "N7CW-00in19q"
      },
      "source": [
        "Vantagens de usar o Colab:\n",
        "\n",
        "- Você não precisa instalar nada no seu computador.\n",
        "- Desempenho: você usa o poder computacional dos servidores do Google em vez de sua própria máquina (muito útil se sua máquina não é tão poderosa, ou se os modelos/programas a serem rodados exigem muita capacidade de processamento - e.g., IA, simulação).\n",
        "- Arquivo salvo na nuven (Google drive)."
      ]
    },
    {
      "cell_type": "code",
      "execution_count": null,
      "metadata": {
        "id": "VTlom_17n19q"
      },
      "outputs": [],
      "source": []
    },
    {
      "cell_type": "markdown",
      "metadata": {
        "id": "hwp9-0P4n19q"
      },
      "source": [
        "# <font color='blue'> Python/ Jupyter basics 0.01"
      ]
    },
    {
      "cell_type": "markdown",
      "metadata": {
        "id": "83_Xjizmn19q"
      },
      "source": [
        "Isso é uma célula que contém um texto"
      ]
    },
    {
      "cell_type": "code",
      "execution_count": null,
      "metadata": {
        "id": "DYL6n-cen19q"
      },
      "outputs": [],
      "source": [
        "# esta é uma célula com um \"programa\"\n",
        "# um programa é uma sequência de comandos a serem executados pelo Python\n",
        "\n",
        "1 + 1  # isto é um comentário ignorado pelo Python"
      ]
    },
    {
      "cell_type": "code",
      "execution_count": null,
      "metadata": {
        "id": "sBAbWmmKn19q"
      },
      "outputs": [],
      "source": [
        "# esse é um \"programa\" mais sofisticado que o anterior\n",
        "\n",
        "a = 4 # 'a' é uma variável - um espaço na memória do computador - em que podemos \"guardar coisas\"\n",
        "b = 3\n",
        "c = a * b\n",
        "\n",
        "# mostrando o resultado\n",
        "c"
      ]
    },
    {
      "cell_type": "markdown",
      "metadata": {
        "id": "7Sjzrblan19q"
      },
      "source": [
        "Células podem ter texto"
      ]
    },
    {
      "cell_type": "markdown",
      "metadata": {
        "id": "ibMXDzgnn19q"
      },
      "source": [
        "E também equações matemáticas escritas em LaTeX\n",
        "\n",
        "$\\hat{Y_t} = \\alpha + \\beta \\cdot X_t$\n",
        "\n",
        "$\\beta = \\dfrac{cov(Y_t, X_t)}{Var(X_t)} = \\rho \\cdot \\dfrac{\\sigma_2}{\\sigma_1}$\n",
        "\n",
        "$\\alpha = E(Y_t) - \\beta \\cdot  E(X_t) $\n",
        "\n",
        "$ \\dfrac{\\partial V_t}{\\partial t}\n",
        "   + \\dfrac{1}{2} \\cdot \\sigma^{2} \\cdot S_t^2 \\cdot \\dfrac{\\partial^2 V_t}{\\partial S_t^2}\n",
        "      + (r - q) \\cdot S_t \\cdot \\dfrac{\\partial V_t}{\\partial S_t}\n",
        "      - r \\cdot V_t =0  $\n",
        "\n",
        "$ \\dfrac{\\partial u}{\\partial t}\n",
        "   = h^2 \\cdot \\left( \\dfrac{\\partial^2 u}{\\partial x^2}\n",
        "      + \\dfrac{\\partial^2 u}{\\partial y^2}\n",
        "      + \\dfrac{\\partial^2 u}{\\partial z^2} \\right) $\n"
      ]
    },
    {
      "cell_type": "code",
      "execution_count": null,
      "metadata": {
        "id": "Yjs90-Pcn19r"
      },
      "outputs": [],
      "source": []
    },
    {
      "cell_type": "markdown",
      "metadata": {
        "id": "Rl_hhl5Zn19r"
      },
      "source": [
        "# <font color='blue'> Alguns conceitos teóricos iniciais"
      ]
    },
    {
      "cell_type": "markdown",
      "metadata": {
        "id": "C-2rYKd_n19r"
      },
      "source": [
        "## <font color='Green'> Dados"
      ]
    },
    {
      "cell_type": "markdown",
      "metadata": {
        "id": "6ix1DWHon19r"
      },
      "source": [
        "Registros de eventos e seus atributos (quantitativos ou qualitativos)."
      ]
    },
    {
      "cell_type": "markdown",
      "metadata": {
        "id": "3YqUKWvmn19r"
      },
      "source": [
        "## <font color='Green'> Informação"
      ]
    },
    {
      "cell_type": "markdown",
      "metadata": {
        "id": "CDdsLhlKn19r"
      },
      "source": [
        "Informação são:\n",
        "\n",
        "- Dados relacionados a outros conjuntos de dados.\n",
        "- Dados inseridos dentro de um contexto."
      ]
    },
    {
      "cell_type": "markdown",
      "metadata": {
        "id": "RnZEW9XKn19r"
      },
      "source": [
        "## <font color='Green'> Time series (séries temporais)"
      ]
    },
    {
      "cell_type": "markdown",
      "metadata": {
        "id": "fYHy3Uf3n19r"
      },
      "source": [
        "Uma série temporal é um conjunto de observações que são registradas e organizadas sequencialmente de acordo com o instante de tempo (data/ horário) em que ocorrem.\n",
        "\n",
        "Finanças é um campo em que as séries temporais surgem naturalmente a partir da evolução temporal de diversas variáveis de interesse:\n",
        "\n",
        "- preços de ativos,\n",
        "- volumes negociados,\n",
        "- índices (de ações, de preços, de moedas, etc.),\n",
        "- variáveis econômicas (taxas de juros, taxas de câmbio, PIB, etc.),\n",
        "- etc."
      ]
    },
    {
      "cell_type": "markdown",
      "metadata": {
        "id": "hkwDdzPTn19r"
      },
      "source": [
        "## <font color='Green'> Panel data (painel de dados)"
      ]
    },
    {
      "cell_type": "markdown",
      "metadata": {
        "id": "EG8_ziq5n19r"
      },
      "source": [
        "Panel data (painel/ tabela de dados) é um conjunto de dados multidimensional, enquanto uma série temporal é um painel de dados unidimensional.\n",
        "\n",
        "As diferentes dimensões de um painel de dados são caracterizadas por atributos que não o tempo, e.g.:\n",
        "- preço de fechamento,\n",
        "- preço máximo,\n",
        "- preço mínimo,\n",
        "- volume,\n",
        "- valor de mercado de cada instrumento componente de uma carteira de investimentos,\n",
        "- valor de mercado da carteira inteira.\n",
        "\n",
        "**Exemplo - uma planilha de excel.**\n"
      ]
    },
    {
      "cell_type": "code",
      "execution_count": null,
      "metadata": {
        "id": "rJU-7Dq9n19r"
      },
      "outputs": [],
      "source": []
    },
    {
      "cell_type": "markdown",
      "metadata": {
        "id": "tP68DOMqn19r"
      },
      "source": [
        "# <font color='blue'> Libraries/ packages/ modules (bibliotecas/ pacotes/ módulos)"
      ]
    },
    {
      "cell_type": "markdown",
      "metadata": {
        "id": "Jc-erFmjn19r"
      },
      "source": [
        "## <font color='Green'> Algumas bibliotecas essenciais do Python"
      ]
    },
    {
      "cell_type": "markdown",
      "metadata": {
        "id": "Gxn50oQJn19r"
      },
      "source": [
        "### Pandas"
      ]
    },
    {
      "cell_type": "markdown",
      "metadata": {
        "id": "R0193Toyn19r"
      },
      "source": [
        "O **Pandas** é uma biblioteca (i.e., um pacote) escrita para a linguagem de programação Python para manipulação e análise de dados, organizados na forma de séries temporais e/ou painéis (tabelas) de dados.\n",
        "\n",
        "O nome **Pandas** é derivado do termo **panel data**."
      ]
    },
    {
      "cell_type": "markdown",
      "metadata": {
        "id": "EoTsvVsTn19r"
      },
      "source": [
        "Um **DataFrame** é uma estrutura de dados bidimensional no pacote Pandas, ou seja, os dados são organizados de forma tabular em linhas e colunas.\n",
        "\n",
        "Um **DataFrame** é o corresppondente do Python a uma ***pasta (sheet) em uma planilha de Excel***."
      ]
    },
    {
      "cell_type": "markdown",
      "metadata": {
        "id": "lx0m5alyn19r"
      },
      "source": [
        "### NumPy"
      ]
    },
    {
      "cell_type": "markdown",
      "metadata": {
        "id": "95gtAoxwn19r"
      },
      "source": [
        "NumPy, abreviação de **Numerical Python**, é a base da computação numérica em Python.\n",
        "\n",
        "O NumPy fornece as estruturas de dados, algoritmos e bibliotecas necessários para a maioria das aplicações científicas que envolvem dados numéricos em Python. NumPy contém, entre outras coisas:\n",
        "\n",
        "- Estruturas matriciais multidimensionais (array objects) rápidas e eficientes\n",
        "- Funções para realizar operações com matrizes e entre matrizes\n",
        "- Operações de álgebra linear, transformadas de Fourier e geração de números aleatórios\n",
        "\n",
        "Para matrizes numéricas, os NumPy arrays são mais eficientes para armazenar e manipular dados do que outras estruturas de dados originais do Python."
      ]
    },
    {
      "cell_type": "markdown",
      "metadata": {
        "id": "aup00Pqrn19u"
      },
      "source": [
        "### Matplotlib"
      ]
    },
    {
      "cell_type": "markdown",
      "metadata": {
        "id": "1h7Xn0rPn19u"
      },
      "source": [
        "Matplotlib é a biblioteca do Python mais popular para a produção de gráficos e outras visualizações de dados bidimensionais - embora existam outras bibliotecas de visualização disponíveis em Python.\n"
      ]
    },
    {
      "cell_type": "markdown",
      "metadata": {
        "id": "5PaExIabn19u"
      },
      "source": [
        "### Python Package Index - PyPI"
      ]
    },
    {
      "cell_type": "markdown",
      "metadata": {
        "id": "_A0FgKq0n19u"
      },
      "source": [
        "O Python Package Index (PyPI) é um repositório de software para a linguagem de programação Python.\n",
        "\n",
        "O PyPI ajuda você a encontrar e instalar software desenvolvido e compartilhado pela comunidade Python.\n",
        "\n",
        "Os autores de pacotes usam o PyPI para distribuir seu software.\n",
        "\n",
        "https://pypi.org/"
      ]
    },
    {
      "cell_type": "code",
      "execution_count": null,
      "metadata": {
        "id": "_wDZskwNn19u"
      },
      "outputs": [],
      "source": []
    },
    {
      "cell_type": "markdown",
      "metadata": {
        "id": "p2vkqlyOn19v"
      },
      "source": [
        "## <font color='Green'> Instalação de pacotes"
      ]
    },
    {
      "cell_type": "markdown",
      "metadata": {
        "id": "gQYZ-q_Hn19v"
      },
      "source": [
        "Determinados pacotes precisam ser instalados antes de serem importados."
      ]
    },
    {
      "cell_type": "markdown",
      "metadata": {
        "id": "nI1RJcrbn19v"
      },
      "source": [
        "Instalar o pacote 'yfinance':"
      ]
    },
    {
      "cell_type": "code",
      "execution_count": null,
      "metadata": {
        "id": "MPAw-Akpn19v"
      },
      "outputs": [],
      "source": [
        "# pip install yfinance"
      ]
    },
    {
      "cell_type": "code",
      "execution_count": null,
      "metadata": {
        "id": "Fg80DFU_n19v"
      },
      "outputs": [],
      "source": []
    },
    {
      "cell_type": "markdown",
      "metadata": {
        "id": "WX3PD-xMn19v"
      },
      "source": [
        "Instalar o pacote 'plotly':\n"
      ]
    },
    {
      "cell_type": "code",
      "execution_count": null,
      "metadata": {
        "id": "7u3xElUZn19v"
      },
      "outputs": [],
      "source": [
        "# pip install plotly"
      ]
    },
    {
      "cell_type": "code",
      "execution_count": null,
      "metadata": {
        "id": "CijYw4Zon19v"
      },
      "outputs": [],
      "source": []
    },
    {
      "cell_type": "markdown",
      "metadata": {
        "id": "IBPXllUDn19v"
      },
      "source": [
        "## <font color='Green'> Importação de pacotes"
      ]
    },
    {
      "cell_type": "code",
      "execution_count": 4,
      "metadata": {
        "id": "IT_tJQXln19v"
      },
      "outputs": [],
      "source": [
        "import pandas as pd\n",
        "import yfinance as yf\n",
        "import numpy as np\n",
        "\n",
        "import datetime as dt\n",
        "from datetime import date, timedelta, datetime"
      ]
    },
    {
      "cell_type": "code",
      "execution_count": 5,
      "metadata": {
        "id": "IIjRA3L5n19v"
      },
      "outputs": [],
      "source": [
        "#plot\n",
        "\n",
        "import matplotlib as plt\n",
        "import matplotlib.pyplot as plt\n",
        "\n",
        "import plotly.express as px\n",
        "import plotly.graph_objects as go\n",
        "from plotly.subplots import make_subplots\n",
        "\n",
        "import seaborn as sns\n",
        "sns.set_style('darkgrid')\n",
        "plt.rc(\"figure\", figsize = (20, 10))\n",
        "plt.rc(\"savefig\", dpi = 90)\n",
        "plt.rc(\"font\",family = \"sans-serif\")\n",
        "plt.rc(\"font\",size = 14)"
      ]
    },
    {
      "cell_type": "code",
      "execution_count": null,
      "metadata": {
        "id": "x6hIa0zYn19v"
      },
      "outputs": [],
      "source": []
    },
    {
      "cell_type": "markdown",
      "metadata": {
        "id": "ka2QJ6tgn19v"
      },
      "source": [
        "# <font color='blue'> Analytics descritivo de uma única ação"
      ]
    },
    {
      "cell_type": "markdown",
      "metadata": {
        "id": "J4Ii3YKcn19v"
      },
      "source": [
        "## <font color='Green'> DataFrame com séries de preços"
      ]
    },
    {
      "cell_type": "markdown",
      "metadata": {
        "id": "f5AzoqiIn19v"
      },
      "source": [
        "### Criação do DataFrame"
      ]
    },
    {
      "cell_type": "code",
      "execution_count": 6,
      "metadata": {
        "scrolled": false,
        "colab": {
          "base_uri": "https://localhost:8080/",
          "height": 472
        },
        "id": "CmdRKtPcn19v",
        "outputId": "53fa6096-d466-44e0-9d8d-1df8b3ececf7"
      },
      "outputs": [
        {
          "output_type": "stream",
          "name": "stderr",
          "text": [
            "\r[*********************100%***********************]  1 of 1 completed\n"
          ]
        },
        {
          "output_type": "execute_result",
          "data": {
            "text/plain": [
              "                  Open        High         Low       Close   Adj Close  \\\n",
              "Date                                                                     \n",
              "2017-04-03   35.927502   36.029999   35.762501   35.924999   33.451565   \n",
              "2017-04-04   35.812500   36.222500   35.792500   36.192501   33.700645   \n",
              "2017-04-05   36.055000   36.365002   35.952499   36.005001   33.526062   \n",
              "2017-04-06   36.072498   36.130001   35.862499   35.915001   33.442257   \n",
              "2017-04-07   35.932499   36.044998   35.817501   35.834999   33.367764   \n",
              "...                ...         ...         ...         ...         ...   \n",
              "2024-10-14  228.699997  231.729996  228.600006  231.300003  231.300003   \n",
              "2024-10-15  233.610001  237.490005  232.369995  233.850006  233.850006   \n",
              "2024-10-16  231.600006  232.119995  229.839996  231.779999  231.779999   \n",
              "2024-10-17  233.429993  233.850006  230.520004  232.149994  232.149994   \n",
              "2024-10-18  236.179993  236.179993  234.009995  235.000000  235.000000   \n",
              "\n",
              "               Volume  \n",
              "Date                   \n",
              "2017-04-03   79942800  \n",
              "2017-04-04   79565600  \n",
              "2017-04-05  110871600  \n",
              "2017-04-06   84596000  \n",
              "2017-04-07   66688800  \n",
              "...               ...  \n",
              "2024-10-14   39882100  \n",
              "2024-10-15   64751400  \n",
              "2024-10-16   34082200  \n",
              "2024-10-17   32993800  \n",
              "2024-10-18   46416300  \n",
              "\n",
              "[1900 rows x 6 columns]"
            ],
            "text/html": [
              "\n",
              "  <div id=\"df-a1c52564-9171-4836-86fe-6c39f62f6c9c\" class=\"colab-df-container\">\n",
              "    <div>\n",
              "<style scoped>\n",
              "    .dataframe tbody tr th:only-of-type {\n",
              "        vertical-align: middle;\n",
              "    }\n",
              "\n",
              "    .dataframe tbody tr th {\n",
              "        vertical-align: top;\n",
              "    }\n",
              "\n",
              "    .dataframe thead th {\n",
              "        text-align: right;\n",
              "    }\n",
              "</style>\n",
              "<table border=\"1\" class=\"dataframe\">\n",
              "  <thead>\n",
              "    <tr style=\"text-align: right;\">\n",
              "      <th></th>\n",
              "      <th>Open</th>\n",
              "      <th>High</th>\n",
              "      <th>Low</th>\n",
              "      <th>Close</th>\n",
              "      <th>Adj Close</th>\n",
              "      <th>Volume</th>\n",
              "    </tr>\n",
              "    <tr>\n",
              "      <th>Date</th>\n",
              "      <th></th>\n",
              "      <th></th>\n",
              "      <th></th>\n",
              "      <th></th>\n",
              "      <th></th>\n",
              "      <th></th>\n",
              "    </tr>\n",
              "  </thead>\n",
              "  <tbody>\n",
              "    <tr>\n",
              "      <th>2017-04-03</th>\n",
              "      <td>35.927502</td>\n",
              "      <td>36.029999</td>\n",
              "      <td>35.762501</td>\n",
              "      <td>35.924999</td>\n",
              "      <td>33.451565</td>\n",
              "      <td>79942800</td>\n",
              "    </tr>\n",
              "    <tr>\n",
              "      <th>2017-04-04</th>\n",
              "      <td>35.812500</td>\n",
              "      <td>36.222500</td>\n",
              "      <td>35.792500</td>\n",
              "      <td>36.192501</td>\n",
              "      <td>33.700645</td>\n",
              "      <td>79565600</td>\n",
              "    </tr>\n",
              "    <tr>\n",
              "      <th>2017-04-05</th>\n",
              "      <td>36.055000</td>\n",
              "      <td>36.365002</td>\n",
              "      <td>35.952499</td>\n",
              "      <td>36.005001</td>\n",
              "      <td>33.526062</td>\n",
              "      <td>110871600</td>\n",
              "    </tr>\n",
              "    <tr>\n",
              "      <th>2017-04-06</th>\n",
              "      <td>36.072498</td>\n",
              "      <td>36.130001</td>\n",
              "      <td>35.862499</td>\n",
              "      <td>35.915001</td>\n",
              "      <td>33.442257</td>\n",
              "      <td>84596000</td>\n",
              "    </tr>\n",
              "    <tr>\n",
              "      <th>2017-04-07</th>\n",
              "      <td>35.932499</td>\n",
              "      <td>36.044998</td>\n",
              "      <td>35.817501</td>\n",
              "      <td>35.834999</td>\n",
              "      <td>33.367764</td>\n",
              "      <td>66688800</td>\n",
              "    </tr>\n",
              "    <tr>\n",
              "      <th>...</th>\n",
              "      <td>...</td>\n",
              "      <td>...</td>\n",
              "      <td>...</td>\n",
              "      <td>...</td>\n",
              "      <td>...</td>\n",
              "      <td>...</td>\n",
              "    </tr>\n",
              "    <tr>\n",
              "      <th>2024-10-14</th>\n",
              "      <td>228.699997</td>\n",
              "      <td>231.729996</td>\n",
              "      <td>228.600006</td>\n",
              "      <td>231.300003</td>\n",
              "      <td>231.300003</td>\n",
              "      <td>39882100</td>\n",
              "    </tr>\n",
              "    <tr>\n",
              "      <th>2024-10-15</th>\n",
              "      <td>233.610001</td>\n",
              "      <td>237.490005</td>\n",
              "      <td>232.369995</td>\n",
              "      <td>233.850006</td>\n",
              "      <td>233.850006</td>\n",
              "      <td>64751400</td>\n",
              "    </tr>\n",
              "    <tr>\n",
              "      <th>2024-10-16</th>\n",
              "      <td>231.600006</td>\n",
              "      <td>232.119995</td>\n",
              "      <td>229.839996</td>\n",
              "      <td>231.779999</td>\n",
              "      <td>231.779999</td>\n",
              "      <td>34082200</td>\n",
              "    </tr>\n",
              "    <tr>\n",
              "      <th>2024-10-17</th>\n",
              "      <td>233.429993</td>\n",
              "      <td>233.850006</td>\n",
              "      <td>230.520004</td>\n",
              "      <td>232.149994</td>\n",
              "      <td>232.149994</td>\n",
              "      <td>32993800</td>\n",
              "    </tr>\n",
              "    <tr>\n",
              "      <th>2024-10-18</th>\n",
              "      <td>236.179993</td>\n",
              "      <td>236.179993</td>\n",
              "      <td>234.009995</td>\n",
              "      <td>235.000000</td>\n",
              "      <td>235.000000</td>\n",
              "      <td>46416300</td>\n",
              "    </tr>\n",
              "  </tbody>\n",
              "</table>\n",
              "<p>1900 rows × 6 columns</p>\n",
              "</div>\n",
              "    <div class=\"colab-df-buttons\">\n",
              "\n",
              "  <div class=\"colab-df-container\">\n",
              "    <button class=\"colab-df-convert\" onclick=\"convertToInteractive('df-a1c52564-9171-4836-86fe-6c39f62f6c9c')\"\n",
              "            title=\"Convert this dataframe to an interactive table.\"\n",
              "            style=\"display:none;\">\n",
              "\n",
              "  <svg xmlns=\"http://www.w3.org/2000/svg\" height=\"24px\" viewBox=\"0 -960 960 960\">\n",
              "    <path d=\"M120-120v-720h720v720H120Zm60-500h600v-160H180v160Zm220 220h160v-160H400v160Zm0 220h160v-160H400v160ZM180-400h160v-160H180v160Zm440 0h160v-160H620v160ZM180-180h160v-160H180v160Zm440 0h160v-160H620v160Z\"/>\n",
              "  </svg>\n",
              "    </button>\n",
              "\n",
              "  <style>\n",
              "    .colab-df-container {\n",
              "      display:flex;\n",
              "      gap: 12px;\n",
              "    }\n",
              "\n",
              "    .colab-df-convert {\n",
              "      background-color: #E8F0FE;\n",
              "      border: none;\n",
              "      border-radius: 50%;\n",
              "      cursor: pointer;\n",
              "      display: none;\n",
              "      fill: #1967D2;\n",
              "      height: 32px;\n",
              "      padding: 0 0 0 0;\n",
              "      width: 32px;\n",
              "    }\n",
              "\n",
              "    .colab-df-convert:hover {\n",
              "      background-color: #E2EBFA;\n",
              "      box-shadow: 0px 1px 2px rgba(60, 64, 67, 0.3), 0px 1px 3px 1px rgba(60, 64, 67, 0.15);\n",
              "      fill: #174EA6;\n",
              "    }\n",
              "\n",
              "    .colab-df-buttons div {\n",
              "      margin-bottom: 4px;\n",
              "    }\n",
              "\n",
              "    [theme=dark] .colab-df-convert {\n",
              "      background-color: #3B4455;\n",
              "      fill: #D2E3FC;\n",
              "    }\n",
              "\n",
              "    [theme=dark] .colab-df-convert:hover {\n",
              "      background-color: #434B5C;\n",
              "      box-shadow: 0px 1px 3px 1px rgba(0, 0, 0, 0.15);\n",
              "      filter: drop-shadow(0px 1px 2px rgba(0, 0, 0, 0.3));\n",
              "      fill: #FFFFFF;\n",
              "    }\n",
              "  </style>\n",
              "\n",
              "    <script>\n",
              "      const buttonEl =\n",
              "        document.querySelector('#df-a1c52564-9171-4836-86fe-6c39f62f6c9c button.colab-df-convert');\n",
              "      buttonEl.style.display =\n",
              "        google.colab.kernel.accessAllowed ? 'block' : 'none';\n",
              "\n",
              "      async function convertToInteractive(key) {\n",
              "        const element = document.querySelector('#df-a1c52564-9171-4836-86fe-6c39f62f6c9c');\n",
              "        const dataTable =\n",
              "          await google.colab.kernel.invokeFunction('convertToInteractive',\n",
              "                                                    [key], {});\n",
              "        if (!dataTable) return;\n",
              "\n",
              "        const docLinkHtml = 'Like what you see? Visit the ' +\n",
              "          '<a target=\"_blank\" href=https://colab.research.google.com/notebooks/data_table.ipynb>data table notebook</a>'\n",
              "          + ' to learn more about interactive tables.';\n",
              "        element.innerHTML = '';\n",
              "        dataTable['output_type'] = 'display_data';\n",
              "        await google.colab.output.renderOutput(dataTable, element);\n",
              "        const docLink = document.createElement('div');\n",
              "        docLink.innerHTML = docLinkHtml;\n",
              "        element.appendChild(docLink);\n",
              "      }\n",
              "    </script>\n",
              "  </div>\n",
              "\n",
              "\n",
              "<div id=\"df-5b9cfc0c-9bbd-41e1-833e-3f0185335372\">\n",
              "  <button class=\"colab-df-quickchart\" onclick=\"quickchart('df-5b9cfc0c-9bbd-41e1-833e-3f0185335372')\"\n",
              "            title=\"Suggest charts\"\n",
              "            style=\"display:none;\">\n",
              "\n",
              "<svg xmlns=\"http://www.w3.org/2000/svg\" height=\"24px\"viewBox=\"0 0 24 24\"\n",
              "     width=\"24px\">\n",
              "    <g>\n",
              "        <path d=\"M19 3H5c-1.1 0-2 .9-2 2v14c0 1.1.9 2 2 2h14c1.1 0 2-.9 2-2V5c0-1.1-.9-2-2-2zM9 17H7v-7h2v7zm4 0h-2V7h2v10zm4 0h-2v-4h2v4z\"/>\n",
              "    </g>\n",
              "</svg>\n",
              "  </button>\n",
              "\n",
              "<style>\n",
              "  .colab-df-quickchart {\n",
              "      --bg-color: #E8F0FE;\n",
              "      --fill-color: #1967D2;\n",
              "      --hover-bg-color: #E2EBFA;\n",
              "      --hover-fill-color: #174EA6;\n",
              "      --disabled-fill-color: #AAA;\n",
              "      --disabled-bg-color: #DDD;\n",
              "  }\n",
              "\n",
              "  [theme=dark] .colab-df-quickchart {\n",
              "      --bg-color: #3B4455;\n",
              "      --fill-color: #D2E3FC;\n",
              "      --hover-bg-color: #434B5C;\n",
              "      --hover-fill-color: #FFFFFF;\n",
              "      --disabled-bg-color: #3B4455;\n",
              "      --disabled-fill-color: #666;\n",
              "  }\n",
              "\n",
              "  .colab-df-quickchart {\n",
              "    background-color: var(--bg-color);\n",
              "    border: none;\n",
              "    border-radius: 50%;\n",
              "    cursor: pointer;\n",
              "    display: none;\n",
              "    fill: var(--fill-color);\n",
              "    height: 32px;\n",
              "    padding: 0;\n",
              "    width: 32px;\n",
              "  }\n",
              "\n",
              "  .colab-df-quickchart:hover {\n",
              "    background-color: var(--hover-bg-color);\n",
              "    box-shadow: 0 1px 2px rgba(60, 64, 67, 0.3), 0 1px 3px 1px rgba(60, 64, 67, 0.15);\n",
              "    fill: var(--button-hover-fill-color);\n",
              "  }\n",
              "\n",
              "  .colab-df-quickchart-complete:disabled,\n",
              "  .colab-df-quickchart-complete:disabled:hover {\n",
              "    background-color: var(--disabled-bg-color);\n",
              "    fill: var(--disabled-fill-color);\n",
              "    box-shadow: none;\n",
              "  }\n",
              "\n",
              "  .colab-df-spinner {\n",
              "    border: 2px solid var(--fill-color);\n",
              "    border-color: transparent;\n",
              "    border-bottom-color: var(--fill-color);\n",
              "    animation:\n",
              "      spin 1s steps(1) infinite;\n",
              "  }\n",
              "\n",
              "  @keyframes spin {\n",
              "    0% {\n",
              "      border-color: transparent;\n",
              "      border-bottom-color: var(--fill-color);\n",
              "      border-left-color: var(--fill-color);\n",
              "    }\n",
              "    20% {\n",
              "      border-color: transparent;\n",
              "      border-left-color: var(--fill-color);\n",
              "      border-top-color: var(--fill-color);\n",
              "    }\n",
              "    30% {\n",
              "      border-color: transparent;\n",
              "      border-left-color: var(--fill-color);\n",
              "      border-top-color: var(--fill-color);\n",
              "      border-right-color: var(--fill-color);\n",
              "    }\n",
              "    40% {\n",
              "      border-color: transparent;\n",
              "      border-right-color: var(--fill-color);\n",
              "      border-top-color: var(--fill-color);\n",
              "    }\n",
              "    60% {\n",
              "      border-color: transparent;\n",
              "      border-right-color: var(--fill-color);\n",
              "    }\n",
              "    80% {\n",
              "      border-color: transparent;\n",
              "      border-right-color: var(--fill-color);\n",
              "      border-bottom-color: var(--fill-color);\n",
              "    }\n",
              "    90% {\n",
              "      border-color: transparent;\n",
              "      border-bottom-color: var(--fill-color);\n",
              "    }\n",
              "  }\n",
              "</style>\n",
              "\n",
              "  <script>\n",
              "    async function quickchart(key) {\n",
              "      const quickchartButtonEl =\n",
              "        document.querySelector('#' + key + ' button');\n",
              "      quickchartButtonEl.disabled = true;  // To prevent multiple clicks.\n",
              "      quickchartButtonEl.classList.add('colab-df-spinner');\n",
              "      try {\n",
              "        const charts = await google.colab.kernel.invokeFunction(\n",
              "            'suggestCharts', [key], {});\n",
              "      } catch (error) {\n",
              "        console.error('Error during call to suggestCharts:', error);\n",
              "      }\n",
              "      quickchartButtonEl.classList.remove('colab-df-spinner');\n",
              "      quickchartButtonEl.classList.add('colab-df-quickchart-complete');\n",
              "    }\n",
              "    (() => {\n",
              "      let quickchartButtonEl =\n",
              "        document.querySelector('#df-5b9cfc0c-9bbd-41e1-833e-3f0185335372 button');\n",
              "      quickchartButtonEl.style.display =\n",
              "        google.colab.kernel.accessAllowed ? 'block' : 'none';\n",
              "    })();\n",
              "  </script>\n",
              "</div>\n",
              "\n",
              "  <div id=\"id_756cf95b-f07a-4cec-9674-f4404a518bc3\">\n",
              "    <style>\n",
              "      .colab-df-generate {\n",
              "        background-color: #E8F0FE;\n",
              "        border: none;\n",
              "        border-radius: 50%;\n",
              "        cursor: pointer;\n",
              "        display: none;\n",
              "        fill: #1967D2;\n",
              "        height: 32px;\n",
              "        padding: 0 0 0 0;\n",
              "        width: 32px;\n",
              "      }\n",
              "\n",
              "      .colab-df-generate:hover {\n",
              "        background-color: #E2EBFA;\n",
              "        box-shadow: 0px 1px 2px rgba(60, 64, 67, 0.3), 0px 1px 3px 1px rgba(60, 64, 67, 0.15);\n",
              "        fill: #174EA6;\n",
              "      }\n",
              "\n",
              "      [theme=dark] .colab-df-generate {\n",
              "        background-color: #3B4455;\n",
              "        fill: #D2E3FC;\n",
              "      }\n",
              "\n",
              "      [theme=dark] .colab-df-generate:hover {\n",
              "        background-color: #434B5C;\n",
              "        box-shadow: 0px 1px 3px 1px rgba(0, 0, 0, 0.15);\n",
              "        filter: drop-shadow(0px 1px 2px rgba(0, 0, 0, 0.3));\n",
              "        fill: #FFFFFF;\n",
              "      }\n",
              "    </style>\n",
              "    <button class=\"colab-df-generate\" onclick=\"generateWithVariable('df_acao')\"\n",
              "            title=\"Generate code using this dataframe.\"\n",
              "            style=\"display:none;\">\n",
              "\n",
              "  <svg xmlns=\"http://www.w3.org/2000/svg\" height=\"24px\"viewBox=\"0 0 24 24\"\n",
              "       width=\"24px\">\n",
              "    <path d=\"M7,19H8.4L18.45,9,17,7.55,7,17.6ZM5,21V16.75L18.45,3.32a2,2,0,0,1,2.83,0l1.4,1.43a1.91,1.91,0,0,1,.58,1.4,1.91,1.91,0,0,1-.58,1.4L9.25,21ZM18.45,9,17,7.55Zm-12,3A5.31,5.31,0,0,0,4.9,8.1,5.31,5.31,0,0,0,1,6.5,5.31,5.31,0,0,0,4.9,4.9,5.31,5.31,0,0,0,6.5,1,5.31,5.31,0,0,0,8.1,4.9,5.31,5.31,0,0,0,12,6.5,5.46,5.46,0,0,0,6.5,12Z\"/>\n",
              "  </svg>\n",
              "    </button>\n",
              "    <script>\n",
              "      (() => {\n",
              "      const buttonEl =\n",
              "        document.querySelector('#id_756cf95b-f07a-4cec-9674-f4404a518bc3 button.colab-df-generate');\n",
              "      buttonEl.style.display =\n",
              "        google.colab.kernel.accessAllowed ? 'block' : 'none';\n",
              "\n",
              "      buttonEl.onclick = () => {\n",
              "        google.colab.notebook.generateWithVariable('df_acao');\n",
              "      }\n",
              "      })();\n",
              "    </script>\n",
              "  </div>\n",
              "\n",
              "    </div>\n",
              "  </div>\n"
            ],
            "application/vnd.google.colaboratory.intrinsic+json": {
              "type": "dataframe",
              "variable_name": "df_acao",
              "summary": "{\n  \"name\": \"df_acao\",\n  \"rows\": 1900,\n  \"fields\": [\n    {\n      \"column\": \"Date\",\n      \"properties\": {\n        \"dtype\": \"date\",\n        \"min\": \"2017-04-03 00:00:00\",\n        \"max\": \"2024-10-18 00:00:00\",\n        \"num_unique_values\": 1900,\n        \"samples\": [\n          \"2022-02-08 00:00:00\",\n          \"2017-09-11 00:00:00\",\n          \"2019-06-17 00:00:00\"\n        ],\n        \"semantic_type\": \"\",\n        \"description\": \"\"\n      }\n    },\n    {\n      \"column\": \"Open\",\n      \"properties\": {\n        \"dtype\": \"number\",\n        \"std\": 58.8541199224981,\n        \"min\": 35.30500030517578,\n        \"max\": 236.47999572753906,\n        \"num_unique_values\": 1805,\n        \"samples\": [\n          166.2100067138672,\n          35.724998474121094,\n          71.63249969482422\n        ],\n        \"semantic_type\": \"\",\n        \"description\": \"\"\n      }\n    },\n    {\n      \"column\": \"High\",\n      \"properties\": {\n        \"dtype\": \"number\",\n        \"std\": 59.44203207070557,\n        \"min\": 35.470001220703125,\n        \"max\": 237.49000549316406,\n        \"num_unique_values\": 1805,\n        \"samples\": [\n          170.61000061035156,\n          36.1875,\n          72.70500183105469\n        ],\n        \"semantic_type\": \"\",\n        \"description\": \"\"\n      }\n    },\n    {\n      \"column\": \"Low\",\n      \"properties\": {\n        \"dtype\": \"number\",\n        \"std\": 58.28826964614563,\n        \"min\": 35.01499938964844,\n        \"max\": 234.00999450683594,\n        \"num_unique_values\": 1825,\n        \"samples\": [\n          51.79249954223633,\n          208.61000061035156,\n          45.182498931884766\n        ],\n        \"semantic_type\": \"\",\n        \"description\": \"\"\n      }\n    },\n    {\n      \"column\": \"Close\",\n      \"properties\": {\n        \"dtype\": \"number\",\n        \"std\": 58.89662555066844,\n        \"min\": 35.16999816894531,\n        \"max\": 235.0,\n        \"num_unique_values\": 1812,\n        \"samples\": [\n          194.27000427246094,\n          72.33000183105469,\n          228.1999969482422\n        ],\n        \"semantic_type\": \"\",\n        \"description\": \"\"\n      }\n    },\n    {\n      \"column\": \"Adj Close\",\n      \"properties\": {\n        \"dtype\": \"number\",\n        \"std\": 59.349056792911924,\n        \"min\": 32.74853515625,\n        \"max\": 235.0,\n        \"num_unique_values\": 1878,\n        \"samples\": [\n          143.65443420410156,\n          144.5702667236328,\n          164.08155822753906\n        ],\n        \"semantic_type\": \"\",\n        \"description\": \"\"\n      }\n    },\n    {\n      \"column\": \"Volume\",\n      \"properties\": {\n        \"dtype\": \"number\",\n        \"std\": 54060275,\n        \"min\": 24048300,\n        \"max\": 426510000,\n        \"num_unique_values\": 1895,\n        \"samples\": [\n          74064300,\n          127111600,\n          84183100\n        ],\n        \"semantic_type\": \"\",\n        \"description\": \"\"\n      }\n    }\n  ]\n}"
            }
          },
          "metadata": {},
          "execution_count": 6
        }
      ],
      "source": [
        "# série de preços diária da Apple Inc. - open, high, low, close, volume, ajuste (adj close)\n",
        "\n",
        "# determinando a data inicial da série de preços\n",
        "data_inicial = date(2017, 4, 1)\n",
        "\n",
        "# determinando a data final da série de preços\n",
        "# end_date = dt.datetime(2021, 4, 1)\n",
        "data_final = datetime.today()\n",
        "\n",
        "# ticker symbol do ativo que queremos estudar\n",
        "# 'AAPL'  # Apple Inc.\n",
        "\n",
        "# criando o DataFrame com as séries de preços\n",
        "df_acao = yf.download('AAPL', data_inicial, data_final)\n",
        "\n",
        "# mostrando o resultado\n",
        "df_acao"
      ]
    },
    {
      "cell_type": "code",
      "execution_count": null,
      "metadata": {
        "id": "hs6Slj8zn19w"
      },
      "outputs": [],
      "source": [
        "# recortando (slicing) o DataFrame - só uma coluna - pandas series\n",
        "volume = df_acao['Volume']\n",
        "\n",
        "# mostrando o resultado\n",
        "volume\n",
        "\n",
        "# # mostrando o type do objeto do python\n",
        "# type(volume)"
      ]
    },
    {
      "cell_type": "code",
      "execution_count": null,
      "metadata": {
        "scrolled": false,
        "id": "t9GLmi6xn19w"
      },
      "outputs": [],
      "source": [
        "# recortando (slicing) o DataFrame\n",
        "df_preço_max_min = df_acao.loc[:, ['Close', 'High', 'Low']]\n",
        "\n",
        "# renomeando colunas\n",
        "df_preço_max_min = df_preço_max_min.rename(columns = {'Close': 'Preço', 'High': 'Max', 'Low': 'Min'})\n",
        "\n",
        "# mostrando o resultado\n",
        "df_preço_max_min\n",
        "\n",
        "# # mostrando o type do objeto do python\n",
        "# type(df_preço_max_min)"
      ]
    },
    {
      "cell_type": "code",
      "execution_count": null,
      "metadata": {
        "id": "i5gqpS2Qn19w"
      },
      "outputs": [],
      "source": []
    },
    {
      "cell_type": "markdown",
      "metadata": {
        "id": "euauGxuen19w"
      },
      "source": [
        "### Visualização do DataFrame (gráfico das séries de preços)"
      ]
    },
    {
      "cell_type": "code",
      "execution_count": null,
      "metadata": {
        "scrolled": false,
        "id": "wmaplgyln19w"
      },
      "outputs": [],
      "source": [
        "# plot dos preços Preço, Max e Min de uma única ação\n",
        "# df_preço_max_min.plot();\n",
        "\n",
        "# filtrando desde a data '2020-02-05' para não ficar muito longa a série - ruim para visualizar\n",
        "df_preço_max_min.loc['2020-02-05':, :].plot();\n",
        "\n",
        "# plotando os volumes negociados em um eixo secundário\n",
        "volume['2020-02-05':].plot(secondary_y = True, color = \"blue\", linestyle = '--', lw = 0.6)\n",
        "\n",
        "# definindo a legenda do eixo secundário\n",
        "plt.legend(loc = 'lower right');"
      ]
    },
    {
      "cell_type": "code",
      "execution_count": null,
      "metadata": {
        "scrolled": false,
        "id": "GuAw6Y3cn19w"
      },
      "outputs": [],
      "source": [
        "# um outro pacote de gráficos - apenas para ilustrar (no curso veremos vários pacotes gráficos)\n",
        "\n",
        "# criando o DataFrames a serem plotados\n",
        "df_preco_plot = df_preço_max_min.loc['2020-02-05':,'Preço']\n",
        "df_volume_plot = volume['2020-02-05':]\n",
        "\n",
        "\n",
        "# criando objeto gráfico\n",
        "fig =  make_subplots(specs = [[{\"secondary_y\": True}]])\n",
        "\n",
        "# criando eixo primário\n",
        "fig.add_trace(\n",
        "    go.Scatter(x = df_preco_plot.index, y = df_preco_plot, name = \"Preço\"), secondary_y = False)\n",
        "\n",
        "# criando eixo secundário\n",
        "fig.add_trace(\n",
        "    go.Scatter(x = df_volume_plot.index, y = df_volume_plot, name = \"Volume\", line_width = .5), secondary_y = True)\n",
        "\n",
        "fig.update_layout(title = 'Preço de fechamento e volume de vendas')\n",
        "\n",
        "# exibindo objeto gráfico\n",
        "fig.show()"
      ]
    },
    {
      "cell_type": "code",
      "execution_count": null,
      "metadata": {
        "id": "VD9UotAhn19w"
      },
      "outputs": [],
      "source": []
    },
    {
      "cell_type": "markdown",
      "metadata": {
        "id": "l3z-G3P2n19w"
      },
      "source": [
        "## <font color='Green'> Retornos"
      ]
    },
    {
      "cell_type": "markdown",
      "metadata": {
        "id": "pB6Rtra2n19w"
      },
      "source": [
        "### Definição conceitual"
      ]
    },
    {
      "cell_type": "markdown",
      "metadata": {
        "id": "BK8J7k4Hn19w"
      },
      "source": [
        "O **retorno financeiro** de um ativo durante um determinado intervalo de tempo corresponde a quanto variou, em termos financeiros (i.e., em $), o preço desse ativo.\n",
        "\n",
        "O **retorno percentual** de um ativo durante um determinado intervalo de tempo corresponde a quanto variou, percentualmente, o preço desse ativo.\n"
      ]
    },
    {
      "cell_type": "markdown",
      "metadata": {
        "id": "uwRlB6Y1n19w"
      },
      "source": [
        "###  Definição matemática"
      ]
    },
    {
      "cell_type": "markdown",
      "metadata": {
        "id": "uCtl1H6Qn19w"
      },
      "source": [
        "Sejam:\n",
        "\n",
        "$P(t) = P_{t}$ : preço do ativo no instante $t$\n",
        "\n",
        "$P(t + \\Delta t) = P_{t + \\Delta t}$ : preço do ativo no instante $t + \\Delta t$"
      ]
    },
    {
      "cell_type": "markdown",
      "metadata": {
        "id": "OXjbcbcGn19w"
      },
      "source": [
        "O **retorno financeiro** entre $t$ e $t + \\Delta t$ corresponde à **variação de preço entre $t$ e $t+\\Delta t$:**  \n",
        "\n",
        "$\\Delta P_{t, \\ t + \\Delta t} = \\Delta P_t = P(t + \\Delta t) - P(t) = P_{t+\\Delta t} - P_{t}$"
      ]
    },
    {
      "cell_type": "markdown",
      "metadata": {
        "id": "VtMbp5yan19w"
      },
      "source": [
        "O **retorno percentual (%)** entre $t$ e $t + \\Delta t$ é dado por:\n",
        "\n",
        "$ret_{t, \\ t + \\Delta t} = r_t =  \\dfrac{\\Delta P_t}{P_{t}} = \\dfrac{P_{t + \\Delta t} - P_{t}}{P_{t}} = \\dfrac{P_{t + \\Delta t}}{P_{t}} - 1$\n"
      ]
    },
    {
      "cell_type": "markdown",
      "metadata": {
        "id": "PtLUd6ovn19w"
      },
      "source": [
        "### Composição de retornos"
      ]
    },
    {
      "cell_type": "markdown",
      "metadata": {
        "id": "xCZ-fGmcn19w"
      },
      "source": [
        "**IMPORTANTE: o retorno percentual para um determinado período (entre $t$ e $t+n$) NÃO CORRESPONDE à soma dos retornos percentuais dos sub-períodos que compõem esse período:**\n",
        "\n",
        "$ret_{t, t+n} \\neq ret_{t, t+1} + ret_{t+1, t+2} + \\ ... \\; + ret_{t+n-1, t+n}$\n",
        "\n",
        "<br>\n",
        "\n",
        "**Exemplo:**\n",
        "\n",
        "$S_t = \\$100 \\quad \\longrightarrow  \\quad  \\Delta{P_t} = - \\$50  \\quad \\longrightarrow  \\quad S_{t+1} = \\$50 \\quad \\longrightarrow  \\quad \\Delta P_{t+1} = \\$25 \\quad \\longrightarrow  \\quad S_{t+2} = \\$75 $\n",
        "\n",
        "<br>\n",
        "\n",
        "$S_t = \\$100 \\quad \\longrightarrow  \\quad ret_{t, t+1}=-50\\%  \\quad \\longrightarrow  \\quad S_{t+1} = \\$50 \\quad \\longrightarrow  \\quad ret_{t+1, t+2}= 50\\%  \\quad \\longrightarrow  \\quad S_{t+2} = \\$75$\n",
        "\n",
        "<br>\n",
        "\n",
        "<font color='red'> $ ret_{t, t+1} + ret_{t+1, t+2} = -50\\% + 50\\% = 0\\% \\quad \\neq \\quad $ Retorno total $(\\%) = ret_{t, t+2} = - 25\\%$\n"
      ]
    },
    {
      "cell_type": "markdown",
      "metadata": {
        "id": "PgzqYkdFn19w"
      },
      "source": [
        "**Para obter o retorno percentual no período, podemos, *sim*, somar as variações de preço (i.e., os retornos FINANCEIROS) dos sub-períodos, e então dividir pelo valor inicial:**\n",
        "\n",
        "<br>\n",
        "\n",
        "$Ret_{t, t+2} (\\$) = \\Delta P_t + \\Delta P_{t+1} = -\\$50 + \\$25 = -\\$25 $\n",
        "\n",
        "<br>\n",
        "\n",
        "$Ret_{t, t+2} (\\%) = \\dfrac{Ret_{t, t+2} (\\$)}{S_t} = \\dfrac{(\\Delta P_t + \\Delta P_{t+1})}{S_t} = \\dfrac{S_{t+2} - S_t}{S_t} = \\dfrac{S_{t+2}}{S_t} - 1= - 25\\%$\n",
        "\n"
      ]
    },
    {
      "cell_type": "code",
      "execution_count": null,
      "metadata": {
        "id": "hzY21enqn19x"
      },
      "outputs": [],
      "source": []
    },
    {
      "cell_type": "markdown",
      "metadata": {
        "id": "gSEG0oRBn19x"
      },
      "source": [
        "###  Cálculo dos retornos entre $t$ e $t+1$ $\\left( \\Delta t = 1 \\text {dia} \\right)$"
      ]
    },
    {
      "cell_type": "code",
      "execution_count": null,
      "metadata": {
        "scrolled": false,
        "id": "TLrXYLWvn19x"
      },
      "outputs": [],
      "source": [
        "# um exemplo fictício didático\n",
        "# criando um DataFrame de preços de uma ação\n",
        "df01 = pd.DataFrame({'Preço': [100, 101, 103, 106, 110, 115, 121, 128, 136]})\n",
        "\n",
        "# calculando a variação de preço\n",
        "df01['d_Preço'] = df01['Preço'].diff(periods = 1)\n",
        "\n",
        "# calculando os retornos a cada período (shift negativo é para trás no tempo, positivo é para frente)\n",
        "# df01['Ret'] = df01['Preço'].shift(periods = 1)\n",
        "df01['Ret'] = df01['d_Preço'] / df01['Preço'].shift(periods = 1)\n",
        "\n",
        "# outra forma de calcular retornos\n",
        "df01['Ret2'] = (df01['Preço'] / df01['Preço'].shift(periods = 1)) - 1\n",
        "\n",
        "# outra forma de calcular retornos - pct_change\n",
        "df01['Ret3 '] = df01['Preço'].pct_change(periods = 1)\n",
        "\n",
        "# mostrando o resultado\n",
        "df01"
      ]
    },
    {
      "cell_type": "code",
      "execution_count": null,
      "metadata": {
        "scrolled": false,
        "id": "2hh52zG8n19x"
      },
      "outputs": [],
      "source": [
        "# criando um DataFrame de preços de uma ação\n",
        "df01 = df_acao.loc[:,['Adj Close']].rename(columns = {'Adj Close': 'Preço'})\n",
        "\n",
        "# calculando  retornos\n",
        "df01['Ret'] = df01['Preço'].pct_change(periods = 1)\n",
        "\n",
        "# mostrando o resultado\n",
        "df01"
      ]
    },
    {
      "cell_type": "markdown",
      "metadata": {
        "id": "IC-vskUEn19x"
      },
      "source": [
        "### Visualização da série temporal de retornos (%)"
      ]
    },
    {
      "cell_type": "code",
      "execution_count": null,
      "metadata": {
        "scrolled": false,
        "id": "pL3L_zJWn19x"
      },
      "outputs": [],
      "source": [
        "# eixo com série de preços\n",
        "ax1 = df01.loc[:,'Preço'].plot(style = \"darkblue\", lw = 1.75, figsize = (20,10));\n",
        "plt.legend(loc = 'best') # definindo a legenda\n",
        "ax1.set_ylabel('Preço');  # definindo os nomes dos eixos\n",
        "\n",
        "\n",
        "# eixo com série de retornos\n",
        "ax2 = df01.loc[:,'Ret'].plot(secondary_y = True, style = \"blue\", lw = 0.25)\n",
        "plt.legend(loc = 'lower right') # definindo a legenda\n",
        "ax2.set_ylabel('Ret')  # definindo os nomes dos eixos\n",
        "\n",
        "\n",
        "# eixo com série de retornos positivos\n",
        "rets_positivos = np.maximum(df01.loc[:,'Ret'], 0).replace(0, np.nan)\n",
        "ax02a = rets_positivos.plot(secondary_y = True, style ='.', color = 'green', markersize = 5, markevery = 1)\n",
        "\n",
        "\n",
        "# eixo com série de retornos negativos\n",
        "rets_negativos = np.minimum(df01.loc[:,'Ret'], 0).replace(0, np.nan)\n",
        "ax02a = rets_negativos.plot(secondary_y = True, style ='.', color = 'red', markersize = 5, markevery = 1)\n"
      ]
    },
    {
      "cell_type": "code",
      "execution_count": null,
      "metadata": {
        "id": "GVKAgaDln19x"
      },
      "outputs": [],
      "source": []
    },
    {
      "cell_type": "markdown",
      "metadata": {
        "id": "xHJqffTxn19x"
      },
      "source": [
        "###  Cálculo do retorno entre $t$ e $t+n$"
      ]
    },
    {
      "cell_type": "code",
      "execution_count": null,
      "metadata": {
        "id": "UK4L_3Jqn19x"
      },
      "outputs": [],
      "source": [
        "# preço na data mais antiga (primeiro dado da série temporal)\n",
        "df01['Preço'].iloc[0]"
      ]
    },
    {
      "cell_type": "code",
      "execution_count": null,
      "metadata": {
        "id": "b3G58uGPn19x"
      },
      "outputs": [],
      "source": [
        "# preço na data mais recente (último dado da série temporal)\n",
        "df01['Preço'].iloc[-1]"
      ]
    },
    {
      "cell_type": "code",
      "execution_count": null,
      "metadata": {
        "scrolled": true,
        "id": "KIk9Y7mZn19x"
      },
      "outputs": [],
      "source": [
        "# calculando o retorno da ação entre t e t+n\n",
        "ret_t_tn = (df01['Preço'].iloc[-1] / df01['Preço'].iloc[0]) - 1\n",
        "ret_t_tn"
      ]
    },
    {
      "cell_type": "code",
      "execution_count": null,
      "metadata": {
        "id": "of4meLZ8n19x"
      },
      "outputs": [],
      "source": [
        "# calculando o retorno da ação entre t e t+n\n",
        "# podemos somar os ganhos financeiros diários e, em seguida, dividir pelo preço inicial da ação\n",
        "\n",
        "df01['Preço'].diff(periods = 1).sum() / df01['Preço'].iloc[0]"
      ]
    },
    {
      "cell_type": "code",
      "execution_count": null,
      "metadata": {
        "scrolled": true,
        "id": "VIPZMmGzn19x"
      },
      "outputs": [],
      "source": [
        "# o retorno em um determinado período NÃO É IGUAL, obviamente, à soma dos retornos dos sub-períodos (soma da coluna Ret)\n",
        "# subir 100% e depois cair 50% --> retorno = 0% (e não: (+100%) + (-50%) = 50%)\n",
        "df01['Ret'].sum()"
      ]
    },
    {
      "cell_type": "code",
      "execution_count": null,
      "metadata": {
        "id": "nw3nCqpVn19x"
      },
      "outputs": [],
      "source": []
    },
    {
      "cell_type": "markdown",
      "metadata": {
        "id": "dZpdC9oNn19x"
      },
      "source": [
        "## <font color='Green'> Risco"
      ]
    },
    {
      "cell_type": "markdown",
      "metadata": {
        "id": "_X8oSDRJn19y"
      },
      "source": [
        "###  Conceitos fundamentais"
      ]
    },
    {
      "cell_type": "markdown",
      "metadata": {
        "id": "9jQUFwyxn19y"
      },
      "source": [
        "**Risco é inevitável:**\n",
        "\n",
        "\"É impossível ganhar os grandes prêmios da vida sem correr riscos\" - Theodore Roosevelt"
      ]
    },
    {
      "cell_type": "markdown",
      "metadata": {
        "id": "FCgvJhHUn19y"
      },
      "source": [
        "**Definição 01**\n",
        "\n",
        "Risco é a medida: \\\n",
        "1 - da probabilidade (da chance, frequência) de ocorrência de efeitos adversos, \\\n",
        "2 - da gravidade (severidade) desses efeitos adversos.\n",
        "\n",
        "Lowrance (Of Acceptable Risk. Science and the determination of safety.)"
      ]
    },
    {
      "cell_type": "markdown",
      "metadata": {
        "id": "UR-avOBin19y"
      },
      "source": [
        "**Definição 02**\n",
        "\n",
        "Risco é o conjunto de respostas às 3 seguintes perguntas: \\\n",
        "1 - O que pode dar errado? (cenários de acidente) \\\n",
        "2 - Qual é a probabilidade disso? (probabilidades, frequências) \\\n",
        "3 - Quais são as consequências? (efeitos adversos, resultados, severidade)\n",
        "\n",
        "Kaplan & Garrick (On The Quantitative Definition of Risk.)"
      ]
    },
    {
      "cell_type": "markdown",
      "metadata": {
        "id": "Y-rzTS8un19y"
      },
      "source": [
        "**No caso de investimentos:**\n",
        "\n",
        "O ***driver* de risco** (i.e., quem é responsável diretamente pelo risco do investimento) é o **comportamento dos retornos** aos quais estamos expostos.\n",
        "\n",
        "Essa exposição ocorre por possuirmos uma carteira com determinadas posições em determinados instrumentos financeiros."
      ]
    },
    {
      "cell_type": "markdown",
      "metadata": {
        "id": "hYMMDSg9n19y"
      },
      "source": [
        "###  Modelagem de riscos"
      ]
    },
    {
      "cell_type": "markdown",
      "metadata": {
        "id": "c3JAFyLgn19y"
      },
      "source": [
        "Qual é a ferramenta matemática que permite descrever o comportamento dos retornos (i.e., modelar os riscos)?\n",
        "\n",
        "Resposta curta: a distribuição de probabilidade dos retornos.\n",
        "\n",
        "Essa distribuição será aproximada pelo histograma de frequências do retorno."
      ]
    },
    {
      "cell_type": "markdown",
      "metadata": {
        "id": "CvpHuKW3n19y"
      },
      "source": [
        "**O histograma de retornos mostra como \"os retornos estão distribuídos\", ou seja:**\n",
        "\n",
        "**1 - Que valores os retornos assumiram em determinado período? \\\n",
        "2 - Com que frequência cada um desses valores ocorreu?**"
      ]
    },
    {
      "cell_type": "code",
      "execution_count": null,
      "metadata": {
        "scrolled": false,
        "id": "0ykKf_SDn19y"
      },
      "outputs": [],
      "source": [
        "# apenas plotando novamente o gráfico anterior para referência\n",
        "\n",
        "# eixo com série de preços\n",
        "# \"plt.subplot\" - 1o argumento: número de linhas, 2o argumento: número de colunas, 3o argumento: posições ocupadas pelo gráfico\n",
        "plt.subplot(1, 4, (1, 3))\n",
        "ax1 = df01.loc[:,'Preço'].plot(style = \"darkblue\", lw = 1.75, figsize = (20, 10));\n",
        "plt.legend(loc = 'best') # definindo a legenda\n",
        "ax1.set_ylabel('Preço')  # definindo os nomes dos eixos\n",
        "\n",
        "\n",
        "# eixo com série de retornos\n",
        "ax2 = df01.loc[:,'Ret'].plot(secondary_y = True, style = \"blue\", lw = 0.25)\n",
        "plt.legend(loc = 'best') # definindo a legenda\n",
        "# ax2.set_ylabel('Ret')  # definindo os nomes dos eixos\n",
        "\n",
        "\n",
        "# eixo com série de retornos positivos\n",
        "rets_positivos = np.maximum(df01.loc[:,'Ret'], 0).replace(0, np.nan)\n",
        "ax02a = rets_positivos.plot(secondary_y = True, style ='.', color = 'green', markersize = 5, markevery = 1)\n",
        "\n",
        "\n",
        "# eixo com série de retornos negativos\n",
        "rets_negativos = np.minimum(df01.loc[:,'Ret'], 0).replace(0, np.nan)\n",
        "ax02a = rets_negativos.plot(secondary_y = True, style ='.', color = 'red', markersize = 5, markevery = 1)\n",
        "\n",
        "\n",
        "# como é construído um histograma de frequências? - explicar que cada ponto vai em cada bin...\n",
        "# histograma dos retornos\n",
        "plt.subplot(1, 4, 4)\n",
        "histograma = df01.loc[:,'Ret'].hist(bins = 60, orientation = \"horizontal\");\n",
        "histograma.set_xlabel(\"Frequência\")\n",
        "plt.yticks([]);"
      ]
    },
    {
      "cell_type": "code",
      "execution_count": null,
      "metadata": {
        "scrolled": false,
        "id": "JdXRTMzpn19y"
      },
      "outputs": [],
      "source": [
        "# calculando algumas métricas estatísticas dada a série temporal de retornos\n",
        "\n",
        "stats = df01.loc[:,'Ret'].describe(percentiles = [.025, 0.05, 0.1, 0.25, 0.5, 0.75, 0.99])\n",
        "stats"
      ]
    },
    {
      "cell_type": "code",
      "execution_count": null,
      "metadata": {
        "scrolled": false,
        "id": "-TM4zFF6n19y"
      },
      "outputs": [],
      "source": [
        "# como é construído um histograma de frequências - explicar que cada ponto vai em cada bin...\n",
        "# histograma dos retornos\n",
        "df01.loc[:,'Ret'].hist(bins = 60);\n",
        "\n",
        "plt.axvline(x = stats.loc['mean'], color = 'red', lw = 1.5);\n",
        "plt.axvline(x = stats.loc['50%'], color = 'yellow', lw = 1.5);\n",
        "plt.axvline(x = stats.loc['2.5%'], color = 'green', lw = 1.5);\n",
        "plt.axvline(x = stats.loc['5%'], color = 'blue', lw = 1.5);\n",
        "plt.axvline(x = stats.loc['99%'], color = 'magenta', lw = 1.5);\n"
      ]
    },
    {
      "cell_type": "code",
      "execution_count": null,
      "metadata": {
        "id": "daQzRqA_n19y"
      },
      "outputs": [],
      "source": []
    },
    {
      "cell_type": "markdown",
      "metadata": {
        "id": "8xTuTZQOn19y"
      },
      "source": [
        "### Mensuração de riscos - métricas"
      ]
    },
    {
      "cell_type": "markdown",
      "metadata": {
        "id": "ucegpHOPn19y"
      },
      "source": [
        "Existem diversas métricas de risco usadas no mercado - e elas serão exploradas em detalhes em nosso curso:\n",
        "\n",
        "1 - Desvio padrão dos retornos (considerando certa janela histórica)  \\\n",
        "2 - Semi desvio-padrão \\\n",
        "3 - V@R \\\n",
        "4 - Expected shortfall (conditional value at risk (CVaR), average value at risk (AVaR), expected tail loss (ETL)) \\\n",
        "5 - Drawdown\n",
        "\n",
        "A mais simples, mais tradicional, é o desvio padrão dos retornos. Nessa aula, vamos seguir com ela..."
      ]
    },
    {
      "cell_type": "code",
      "execution_count": null,
      "metadata": {
        "id": "QIzf4xJ8n19y"
      },
      "outputs": [],
      "source": [
        "# calculando o desvio padrão dos retornos considerando uma janela móvel de tamanho 'window'\n",
        "\n",
        "window = 126\n",
        "df01.loc[:,'Ret'].rolling(window, min_periods = 1).std()"
      ]
    },
    {
      "cell_type": "code",
      "execution_count": null,
      "metadata": {
        "id": "zwJnmQFvn19y"
      },
      "outputs": [],
      "source": []
    },
    {
      "cell_type": "markdown",
      "metadata": {
        "id": "PcOV1tEJn19y"
      },
      "source": [
        "## <font color='Green'> Gráfico de controle"
      ]
    },
    {
      "cell_type": "code",
      "execution_count": null,
      "metadata": {
        "scrolled": false,
        "id": "eSx3FqP2n19z"
      },
      "outputs": [],
      "source": [
        "# apenas plotando novamente o gráfico anterior para referência\n",
        "\n",
        "# eixo com série de preços\n",
        "# \"plt.subplot\" - 1o argumento: número de linhas, 2o argumento: número de colunas, 3o argumento: posições ocupadas pelo gráfico\n",
        "plt.subplot(1, 5, (1, 4))\n",
        "ax1 = df01.loc[:,'Preço'].plot(style = \"darkblue\", lw = 1.75, figsize = (20, 10));\n",
        "plt.legend(loc = 'best') # definindo a legenda\n",
        "ax1.set_ylabel('Preço')  # definindo os nomes dos eixos\n",
        "\n",
        "\n",
        "# eixo com série de retornos\n",
        "ax2 = df01.loc[:,'Ret'].plot(secondary_y = True, style = \"blue\", lw = 0.25)\n",
        "plt.legend(loc = 'best') # definindo a legenda\n",
        "# ax2.set_ylabel('Ret')  # definindo os nomes dos eixos\n",
        "\n",
        "\n",
        "# eixo com série de retornos positivos\n",
        "rets_positivos = np.maximum(df01.loc[:,'Ret'], 0).replace(0, np.nan)\n",
        "ax02a = rets_positivos.plot(secondary_y = True, style ='.', color = 'green', markersize = 5, markevery = 1)\n",
        "\n",
        "\n",
        "# eixo com série de retornos negativos\n",
        "rets_negativos = np.minimum(df01.loc[:,'Ret'], 0).replace(0, np.nan)\n",
        "ax02a = rets_negativos.plot(secondary_y = True, style ='.', color = 'red', markersize = 5, markevery = 1)\n",
        "\n",
        "# ------------------------------------------------------------------------------------------------------------\n",
        "# eixos com os desvios-padrão de uma janela móvel \"window\"\n",
        "window = 21\n",
        "sigma = df01.loc[:,'Ret'].rolling(window, min_periods = 1).std()\n",
        "ax4 = (sigma * 2).shift(periods = 1).plot(secondary_y = True, style = \"darkgreen\", lw = 1.5)\n",
        "ax5 = (sigma * -2).shift(periods = 1).plot(secondary_y = True, style = \"red\", lw = 1.15)\n",
        "\n",
        "\n",
        "# ------------------------------------------------------------------------------------------------------------\n",
        "# histograma dos retornos\n",
        "plt.subplot(1, 5, 5)\n",
        "histograma = df01.loc[:,'Ret'].hist(bins = 60, orientation = \"horizontal\");\n",
        "histograma.set_xlabel(\"Frequência\")\n",
        "plt.yticks([]);"
      ]
    },
    {
      "cell_type": "code",
      "execution_count": null,
      "metadata": {
        "id": "bfXP85AKn19z"
      },
      "outputs": [],
      "source": [
        "# apenas plotando novamente o gráfico anterior para referência\n",
        "\n",
        "# eixo com série de preços\n",
        "# \"plt.subplot\" - 1o argumento: número de linhas, 2o argumento: número de colunas, 3o argumento: posições ocupadas pelo gráfico\n",
        "plt.subplot(1, 5, (1, 4))\n",
        "ax1 = df01.loc[:,'Preço'].plot(style = \"darkblue\", lw = 1.75, figsize = (20, 10));\n",
        "plt.legend(loc = 'best') # definindo a legenda\n",
        "ax1.set_ylabel('Preço')  # definindo os nomes dos eixos\n",
        "\n",
        "\n",
        "# eixo com série de retornos\n",
        "ax2 = df01.loc[:,'Ret'].plot(secondary_y = True, style = \"blue\", lw = 0.25)\n",
        "plt.legend(loc = 'best') # definindo a legenda\n",
        "# ax2.set_ylabel('Ret')  # definindo os nomes dos eixos\n",
        "\n",
        "\n",
        "# eixo com série de retornos positivos\n",
        "rets_positivos = np.maximum(df01.loc[:,'Ret'], 0).replace(0, np.nan)\n",
        "ax02a = rets_positivos.plot(secondary_y = True, style ='.', color = 'green', markersize = 5, markevery = 1)\n",
        "\n",
        "\n",
        "# eixo com série de retornos negativos\n",
        "rets_negativos = np.minimum(df01.loc[:,'Ret'], 0).replace(0, np.nan)\n",
        "ax02a = rets_negativos.plot(secondary_y = True, style ='.', color = 'red', markersize = 5, markevery = 1)\n",
        "\n",
        "# ------------------------------------------------------------------------------------------------------------\n",
        "# eixos com os desvios-padrão de uma janela móvel \"window\"\n",
        "window = 21\n",
        "sigma = df01.loc[:,'Ret'].rolling(window, min_periods = 1).std()\n",
        "ax4 = (sigma * 2).shift(periods = 1).plot(secondary_y = True, style = \"darkgreen\", lw = 1.5)\n",
        "ax5 = (sigma * -2).shift(periods = 1).plot(secondary_y = True, style = \"red\", lw = 1.15)\n",
        "\n",
        "# ------------------------------------------------------------------------------------------------------------\n",
        "# calculando o retorno acumulado em uma janela de tamanho window\n",
        "window = 10\n",
        "ret_cum = (1 + df01.loc[:,'Ret']).rolling(window, min_periods = 1).apply(np.prod) - 1\n",
        "ax6 = ret_cum.plot(secondary_y = True, style = \"orange\", lw = 0.5)\n",
        "\n",
        "# calculando o retorno médio em uma janela de tamanho window - lembrando que essa conta está errada!\n",
        "# ret_medio = df01.loc[:,'Ret'].rolling(window, min_periods = 1).mean()\n",
        "# ax6 = ret_medio.plot(secondary_y = True, style = \"purple\", lw = 1.5)\n",
        "\n",
        "# ------------------------------------------------------------------------------------------------------------\n",
        "# histograma dos retornos\n",
        "plt.subplot(1, 5, 5)\n",
        "histograma = df01.loc[:,'Ret'].hist(bins = 60, orientation = \"horizontal\");\n",
        "histograma.set_xlabel(\"Frequência\")\n",
        "plt.yticks([]);"
      ]
    },
    {
      "cell_type": "code",
      "execution_count": null,
      "metadata": {
        "id": "J6DPJfq5n19z"
      },
      "outputs": [],
      "source": []
    }
  ],
  "metadata": {
    "colab": {
      "provenance": [],
      "include_colab_link": true
    },
    "kernelspec": {
      "display_name": "venv",
      "language": "python",
      "name": "python3"
    },
    "language_info": {
      "codemirror_mode": {
        "name": "ipython",
        "version": 3
      },
      "file_extension": ".py",
      "mimetype": "text/x-python",
      "name": "python",
      "nbconvert_exporter": "python",
      "pygments_lexer": "ipython3",
      "version": "3.10.12"
    },
    "toc": {
      "base_numbering": 1,
      "nav_menu": {},
      "number_sections": true,
      "sideBar": true,
      "skip_h1_title": false,
      "title_cell": "Table of Contents",
      "title_sidebar": "Contents",
      "toc_cell": false,
      "toc_position": {},
      "toc_section_display": true,
      "toc_window_display": false
    },
    "varInspector": {
      "cols": {
        "lenName": 16,
        "lenType": 16,
        "lenVar": 40
      },
      "kernels_config": {
        "python": {
          "delete_cmd_postfix": "",
          "delete_cmd_prefix": "del ",
          "library": "var_list.py",
          "varRefreshCmd": "print(var_dic_list())"
        },
        "r": {
          "delete_cmd_postfix": ") ",
          "delete_cmd_prefix": "rm(",
          "library": "var_list.r",
          "varRefreshCmd": "cat(var_dic_list()) "
        }
      },
      "types_to_exclude": [
        "module",
        "function",
        "builtin_function_or_method",
        "instance",
        "_Feature"
      ],
      "window_display": false
    }
  },
  "nbformat": 4,
  "nbformat_minor": 0
}