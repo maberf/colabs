{
  "cells": [
    {
      "cell_type": "markdown",
      "metadata": {
        "id": "view-in-github",
        "colab_type": "text"
      },
      "source": [
        "<a href=\"https://colab.research.google.com/github/maberf/colabs/blob/main/Portfolio.ipynb\" target=\"_parent\"><img src=\"https://colab.research.google.com/assets/colab-badge.svg\" alt=\"Open In Colab\"/></a>"
      ]
    },
    {
      "cell_type": "code",
      "source": [
        "# ##### PORTFOLIO INVESTOR CODE #####\n",
        "#\n",
        "# Code to upload data in Google Sheets to support investiments decisions.\n",
        "# The lists with the tickers and other informations should be filled directly in the code where there are INSERT OR ADJUST HERE lines.\n",
        "# IFIX historic series csv file with time desired (2y, 3y, etc.) from Investing.com should be downloaded to a Google Drive directory which is in the path in code - https://br.investing.com/indices/bm-fbovespa-real-estate-ifix-historical-data .\n",
        "# FUNDS EXPLORER - Copy and paste date from https://www.fundsexplorer.com.br/ranking in a Google Drive directory excel file which is in the path in code.\n",
        "# Before to run the code it is necessary to make these activities.  Check the code below until the ENDING POINT TO MANUAL ACTIVITIES.\n",
        "# Verifiy data on thes files in case of code running problems."
      ],
      "metadata": {
        "id": "uDaN4LeB6Qd2"
      },
      "execution_count": null,
      "outputs": []
    },
    {
      "cell_type": "code",
      "execution_count": null,
      "metadata": {
        "id": "QVYwmuIWyMbm"
      },
      "outputs": [],
      "source": [
        "import pandas as pd\n",
        "import numpy as np\n",
        "from scipy.optimize import minimize\n",
        "import yfinance as yf\n",
        "import os\n",
        "import datetime as dt\n",
        "from google.colab import drive\n",
        "from google.colab import auth\n",
        "from google.auth import default\n",
        "import gspread"
      ]
    },
    {
      "cell_type": "code",
      "execution_count": null,
      "metadata": {
        "id": "cVJoINlOnWyN"
      },
      "outputs": [],
      "source": [
        "# Stock tickers - Insert here# Real Estate Invesments Trust tickers - INSERT OR ADJUST HERE\n",
        "# Try to mantain IBOV + 25 assets in alphabetical order to easly adjust google docs spreadsheet\n",
        "tickers = ['^BVSP','ASAI3.SA','AURE3.SA','B3SA3.SA','BBAS3.SA','BBDC4.SA','BBSE3.SA','CGAS3.SA','CPFE3.SA','CSAN3.SA','EGIE3.SA','ELET6.SA','IVVB11.SA','JALL3.SA','JHSF3.SA','KLBN11.SA','LEVE3.SA','LREN3.SA','ODPV3.SA','PETR4.SA','PRIO3.SA','RAIZ4.SA','STBP3.SA','TAEE11.SA','VALE3.SA','VIVT3.SA']"
      ]
    },
    {
      "cell_type": "code",
      "execution_count": null,
      "metadata": {
        "id": "j7mFM3kZa37g"
      },
      "outputs": [],
      "source": [
        "# Real Estate Investments Trust tickers - INSERT OR ADJUST HERE\n",
        "# Try to mantain IFIX + 20 assets in alphabetical order to easly adjust google docs spreadsheet\n",
        "# IFIX here only to a space in dataframe, yahoo finance return IFIX.SA maximum 5 days. IFIX should be calculated downloading an Investing.com csv file history and it must be uploaded in personal Google Drive. This code read it.\n",
        "tickerr = ['IFIX.SA','BTLG11.SA','HGCR11.SA','HGBS11.SA','HGRE11.SA','HGRU11.SA','HSLG11.SA','HSML11.SA','HTMX11.SA','JSAF11.SA','JFLL11.SA','KNCA11.SA','KNHF11.SA','KNIP11.SA','MALL11.SA','MFII11.SA','SADI11.SA','TGAR11.SA','TRXF11.SA','VGHF11.SA','VISC11.SA']"
      ]
    },
    {
      "cell_type": "code",
      "source": [
        "# US Stocks tickers - INSERT OR ADJUST HERE\n",
        "# Try to mantain SP500 + USDBRL + 20 assets in alphabetical order to easly adjust google docs spreadsheet\n",
        "tickersus = ['^GSPC','USDBRL=X','AAPL','AIG','BAC','RIO','DHI','EXC','KMB','KO','LOPE','LYB','MGA','MSFT','MSTR','NVDA','TGT','TMUS','UPS','UNH','X','XOM']"
      ],
      "metadata": {
        "id": "3oGcgtj8QVcD"
      },
      "execution_count": null,
      "outputs": []
    },
    {
      "cell_type": "code",
      "source": [
        "# US ETFs tickers - INSERT OR ADJUST HERE\n",
        "# Try to mantain SP500 + USDBRL + 10 assets in alphabetical order to easly adjust google docs spreadsheet\n",
        "tickereus = ['^GSPC','USDBRL=X','FBTC','JEPI','HACK', 'IVV','SCHD','SOXX','SPY','TLT','SMH','TFLO']"
      ],
      "metadata": {
        "id": "XLzaMHIfsuyc"
      },
      "execution_count": null,
      "outputs": []
    },
    {
      "cell_type": "code",
      "source": [
        "# Portfolio tickers - INSERT OR ADJUST HERE\n",
        "tickerport = ['^BVSP','USDBRL=X','BBAS3.SA','CPFE3.SA','ELET6.SA','FBTC','HSML11.SA','HTMX11.SA','IVVB11.SA','PETR4.SA','SADI11.SA','SCHD','TFLO','TGAR11.SA','TRXF11.SA','VALE3.SA']\n",
        "# Portfolio tickers weight - INSERT OR ADJUST HERE IN THE SAME ORDER!\n",
        "weightport = [0.0, 0.0, 4.279, 3.763, 5.004, 4.471, 2.892, 6.125, 10.270, 8.727, 7.274, 31.039, 3.932, 4.230, 4.922, 3.073]\n",
        "# Portfolio tickers expected returns - INSERT OR ADJUST HERE IN THE SAME ORDER!\n",
        "# IBOV (^BVSP) MUST always be zero!\n",
        "expretport = [0.0, 0.0, 15.0, 15.0, 1.2, 10.0, 2.4, 14.7, 17.0, 15.0, 4.4, 12.0, 10.0, 6.7, 12.4, 11.2]"
      ],
      "metadata": {
        "id": "lbxAtnEFV3ex"
      },
      "execution_count": null,
      "outputs": []
    },
    {
      "cell_type": "code",
      "source": [
        "# Risk free rate in percentage - INSERT OR ADJUST HERE\n",
        "riskfree = 15.00"
      ],
      "metadata": {
        "id": "uWISQcWhrNVd"
      },
      "execution_count": null,
      "outputs": []
    },
    {
      "cell_type": "code",
      "source": [
        "# Portfolio dataframe creation\n",
        "portfolio = pd.DataFrame({'Ticker': tickerport, 'W': weightport, 'RetE%':expretport})"
      ],
      "metadata": {
        "id": "94SgPSqR0Fi5"
      },
      "execution_count": null,
      "outputs": []
    },
    {
      "cell_type": "code",
      "source": [
        "# Excluding .SA, renaming ^BVSP to IBOV and USDBRL=X to USDBRL\n",
        "portfolio['Ticker'] = portfolio['Ticker'].str.replace('.SA', '', regex=False)\n",
        "portfolio['Ticker'] = portfolio['Ticker'].str.replace('^BVSP', 'IBOV', regex=False)\n",
        "portfolio['Ticker'] = portfolio['Ticker'].str.replace('USDBRL=X', 'USDBRL', regex=False)\n",
        "# display(portfolio)"
      ],
      "metadata": {
        "id": "y5BMLvAG2F8b"
      },
      "execution_count": null,
      "outputs": []
    },
    {
      "cell_type": "code",
      "execution_count": null,
      "metadata": {
        "colab": {
          "base_uri": "https://localhost:8080/"
        },
        "id": "lsdtOFcYy8Xx",
        "outputId": "4463d0c1-7e5e-4b35-ab06-f5280ce5d8da"
      },
      "outputs": [
        {
          "output_type": "stream",
          "name": "stderr",
          "text": [
            "[*********************100%***********************]  26 of 26 completed\n",
            "[*********************100%***********************]  21 of 21 completed\n",
            "[*********************100%***********************]  22 of 22 completed\n",
            "[*********************100%***********************]  12 of 12 completed\n",
            "[*********************100%***********************]  16 of 16 completed\n"
          ]
        }
      ],
      "source": [
        "# Load tickers history prices in a dataframe considering a certain period of time - ADJUST HERE, default 1 year (1y)\n",
        "# Sometimes some ticker has problems in yahoo finance. If it happens, close the session and try again. Or change the ticker, because problem in one ticker will cause problem in all code running.\n",
        "# Check success download completed to all dataframes, otherwise the code will broke in next lines.\n",
        "dfs = yf.download(tickers, period='2y', auto_adjust=True)['Close']\n",
        "dfr = yf.download(tickerr, period='2y', auto_adjust=True)['Close']\n",
        "dfsus = yf.download(tickersus, period='2y', auto_adjust=True)['Close']\n",
        "dfeus = yf.download(tickereus, period='2y', auto_adjust=True)['Close']\n",
        "dfport = yf.download(tickerport, period='2y', auto_adjust=True)['Close']\n",
        "# Remove timezone from index\n",
        "dfs.index = pd.to_datetime(dfs.index).tz_localize(None)\n",
        "dfr.index = pd.to_datetime(dfr.index).tz_localize(None)\n",
        "dfsus.index = pd.to_datetime(dfsus.index).tz_localize(None)\n",
        "dfeus.index = pd.to_datetime(dfeus.index).tz_localize(None)\n",
        "dfport.index = pd.to_datetime(dfport.index).tz_localize(None)\n",
        "# display(dfs)\n",
        "# display(dfr)\n",
        "# display(dfeus)\n",
        "# display(dfport)"
      ]
    },
    {
      "cell_type": "code",
      "source": [
        "# Convert US assets in BRL values, it should be adjusted according the assets in portfolio - ADJUST HERE\n",
        "dfport['SCHD'] = dfport['SCHD'] * dfport['USDBRL=X']\n",
        "dfport['TFLO'] = dfport['TFLO'] * dfport['USDBRL=X']\n",
        "dfport['FBTC'] = dfport['FBTC'] * dfport['USDBRL=X']\n",
        "# display(dfport)"
      ],
      "metadata": {
        "id": "TaNHjHLrezZz"
      },
      "execution_count": null,
      "outputs": []
    },
    {
      "cell_type": "code",
      "source": [
        "# IFIX historic series from Investing.com to be appended in real state dataframe dfr - https://br.investing.com/indices/bm-fbovespa-real-estate-ifix-historical-data - MAKE THIS ACTIVITY\n",
        "# Download the file from site and copy to your google drive. Rename de file as history.csv. Adjust the path below in \" ifixfile = .... \" command line according your file location.\n",
        "# Google Drive mounth\n",
        "drive.mount('/content/drive', force_remount=True)\n",
        "# File path on Google Drive - Download the file and upload to Financas folder in Google Drive. Rename the path according file name uploaded.\n",
        "ifixfile = '/content/drive/MyDrive/Financas/history.csv'\n",
        "# File csv to dataframe converting quote to float\n",
        "ifix = pd.read_csv(ifixfile, thousands = '.', decimal = ',', dtype = {'Último':np.float64})\n",
        "# Excluding and rename columns\n",
        "ifix = ifix.drop(columns=['Abertura', 'Máxima', 'Mínima', 'Vol.', 'Var%'])\n",
        "ifix = ifix.rename(columns={'Data': 'Date', 'Último': 'IFIX.SA'})\n",
        "# Date format in Date column\n",
        "ifix['Date'] = pd.to_datetime(ifix['Date'], format='%d%m%Y', errors='coerce')\n",
        "ifix.set_index('Date', inplace=True)\n",
        "# Solve eventual duplicated registers, grouped by mean\n",
        "ifix = ifix.groupby(level=0).mean()\n",
        "# display(ifix)"
      ],
      "metadata": {
        "colab": {
          "base_uri": "https://localhost:8080/"
        },
        "id": "OIILfCdkKEMK",
        "outputId": "7107c076-0271-4b8c-abfe-739ec4bcf5bd"
      },
      "execution_count": null,
      "outputs": [
        {
          "output_type": "stream",
          "name": "stdout",
          "text": [
            "Mounted at /content/drive\n"
          ]
        }
      ]
    },
    {
      "cell_type": "code",
      "source": [
        "# Go to Funds Explorer Table in https://www.fundsexplorer.com.br/ranking  - MAKE THIS ACTIVITY\n",
        "# Manually select all columns in web page and paste all data AS VALUES ONLY in a NEW Excel File sheet.\n",
        "# Save the file with the name fundsexplorer.xlsx in a folder called Financas (or in another preferable path, adjusting the path below)\n",
        "fundsexplorerfile = '/content/drive/MyDrive/Financas/fundsexplorer.xlsx'\n",
        "# Excel file reading\n",
        "fundsexplorer = pd.read_excel(fundsexplorerfile)\n",
        "#display(fundsexplorer)\n",
        "# The sequence of FUNDS EXPLORER ROUTINE, see at the end of the code."
      ],
      "metadata": {
        "id": "san5iymu-zXk"
      },
      "execution_count": null,
      "outputs": []
    },
    {
      "cell_type": "code",
      "source": [
        "# ENDING POINT TO MANUAL ACTIVITIES. The code should run after this point. Permission to Google Drive access can be required during code running"
      ],
      "metadata": {
        "id": "OJdHGCI5_BDU"
      },
      "execution_count": null,
      "outputs": []
    },
    {
      "cell_type": "code",
      "source": [
        "# Replace dfr dataframe by ifix values by index key (date)\n",
        "dfr.update(ifix)\n",
        "# display(dfr)"
      ],
      "metadata": {
        "id": "mdikcSplKQUd"
      },
      "execution_count": null,
      "outputs": []
    },
    {
      "cell_type": "code",
      "source": [
        "# Excluding .SA, renaming ^BVSP to IBOV, ^GSPC to SP500\n",
        "dfs.columns = [col.replace('.SA', '') for col in dfs.columns]\n",
        "dfs.columns = [col.replace('^BVSP', 'IBOV') for col in dfs.columns]\n",
        "dfr.columns = [col.replace('.SA', '') for col in dfr.columns]\n",
        "dfsus.columns = [col.replace('^GSPC', 'SP500') for col in dfsus.columns]\n",
        "dfsus.columns = [col.replace('USDBRL=X', 'USDBRL') for col in dfsus.columns]\n",
        "dfeus.columns = [col.replace('^GSPC', 'SP500') for col in dfeus.columns]\n",
        "dfeus.columns = [col.replace('USDBRL=X', 'USDBRL') for col in dfeus.columns]\n",
        "dfport.columns = [col.replace('.SA', '') for col in dfport.columns]\n",
        "dfport.columns = [col.replace('^BVSP', 'IBOV') for col in dfport.columns]\n",
        "dfport.columns = [col.replace('USDBRL=X', 'USDBRL') for col in dfport.columns]"
      ],
      "metadata": {
        "id": "oHbSRWbA7xsq"
      },
      "execution_count": null,
      "outputs": []
    },
    {
      "cell_type": "code",
      "execution_count": null,
      "metadata": {
        "id": "UDCUEPHVJjoL"
      },
      "outputs": [],
      "source": [
        "# Exclude NaNs, in the first row and in the dfr Date registers that not included in IFIX excel file.\n",
        "dfs.dropna(inplace=True)\n",
        "dfr.dropna(inplace=True)\n",
        "dfsus.dropna(inplace=True)\n",
        "dfeus.dropna(inplace=True)\n",
        "dfport.dropna(inplace=True)\n",
        "# Other conformations such as ascending order and the market indexes in the first column\n",
        "dfs = dfs[sorted(dfs.columns)]\n",
        "dfr = dfr[sorted(dfr.columns)]\n",
        "dfsus = dfsus[sorted(dfsus.columns)]\n",
        "dfus = dfeus[sorted(dfeus.columns)]\n",
        "dfport = dfport[sorted(dfport.columns)]\n",
        "dfs = dfs[['IBOV'] + [col for col in dfs.columns if col != 'IBOV']]\n",
        "dfr = dfr[['IFIX'] + [col for col in dfr.columns if col != 'IFIX']]\n",
        "dfsus = dfsus[['SP500', 'USDBRL'] + [col for col in dfsus.columns if col not in ['SP500', 'USDBRL']]]\n",
        "dfeus = dfeus[['SP500', 'USDBRL'] + [col for col in dfeus.columns if col not in ['SP500', 'USDBRL']]]\n",
        "dfport = dfport[['IBOV', 'USDBRL'] + [col for col in dfport.columns if col not in ['IBOV', 'USDBRL']]]\n",
        "# Here dataframes should be ready for calculations. It will be made and uploaded in dfxvar dataframes later.\n",
        "# display(dfs)\n",
        "# display(dfr)\n",
        "# display(dfsus)\n",
        "# display(dfeus)\n",
        "# display(dfport)"
      ]
    },
    {
      "cell_type": "code",
      "execution_count": null,
      "metadata": {
        "id": "TcgVC4D3YRGZ"
      },
      "outputs": [],
      "source": [
        "# Calculate daily variation\n",
        "dfsvar = dfs.pct_change()\n",
        "dfrvar = dfr.pct_change()\n",
        "dfsusvar = dfsus.pct_change()\n",
        "dfeusvar = dfeus.pct_change()\n",
        "dfportvar = dfport.pct_change()\n",
        "# Excluding MaNs first line\n",
        "dfsvar.dropna(inplace=True)\n",
        "dfrvar.dropna(inplace=True)\n",
        "dfsusvar.dropna(inplace=True)\n",
        "dfeusvar.dropna(inplace=True)\n",
        "dfportvar.dropna(inplace=True)\n",
        "# display(dfsvar)\n",
        "# display(dfrvar)\n",
        "# display(dfsusvar)\n",
        "# display(dfeusvar)\n",
        "# display(dfportvar)"
      ]
    },
    {
      "cell_type": "code",
      "source": [
        "# Market Percentage Return calculation and column add in output dataframes\n",
        "stockvar = pd.DataFrame(dfsvar.mean()*252*100).rename(columns={0: 'Ret%'})\n",
        "stockvar.index.name = 'Ticker'\n",
        "stockvar['Ret%'] = stockvar['Ret%'].round(1)\n",
        "realstatevar = pd.DataFrame(dfrvar.mean()*252*100).rename(columns={0: 'Ret%'})\n",
        "realstatevar.index.name = 'Ticker'\n",
        "realstatevar['Ret%'] = realstatevar['Ret%'].round(1)\n",
        "stockusvar = pd.DataFrame(dfsusvar.mean()*252*100).rename(columns={0: 'Ret%'})\n",
        "stockusvar.index.name = 'Ticker'\n",
        "stockusvar['Ret%'] = stockusvar['Ret%'].round(1)\n",
        "etfusvar = pd.DataFrame(dfeusvar.mean()*252*100).rename(columns={0: 'Ret%'})\n",
        "etfusvar.index.name = 'Ticker'\n",
        "etfusvar['Ret%'] = etfusvar['Ret%'].round(1)\n",
        "portvar = pd.DataFrame(dfportvar.mean()*252*100).rename(columns={0: 'Ret%'})\n",
        "portvar.index.name = 'Ticker'\n",
        "portvar['Ret%'] = portvar['Ret%'].round(1)\n",
        "# display(stockvar)\n",
        "# display(realstatevar)\n",
        "# display(stockusvar)\n",
        "# display(etfusvar)\n",
        "# display(portvar)"
      ],
      "metadata": {
        "id": "sIp8E6j_gf-v"
      },
      "execution_count": null,
      "outputs": []
    },
    {
      "cell_type": "code",
      "execution_count": null,
      "metadata": {
        "id": "Dbp_7QIAZ2bh"
      },
      "outputs": [],
      "source": [
        "# Market return variance calculation\n",
        "vars = dfsvar.var()*252\n",
        "varr = dfrvar.var()*252\n",
        "varsus = dfsusvar.var()*252\n",
        "vareus = dfeusvar.var()*252\n",
        "varport = dfportvar.var()*252\n",
        "# display(vars)\n",
        "# display(varr)\n",
        "# display(varsus)\n",
        "# display(vareus)\n",
        "# display(varport)"
      ]
    },
    {
      "cell_type": "code",
      "source": [
        "# Market risk calculation, in percentage (%). Add column in output dataframes\n",
        "stockvar['Risk%'] = dfsvar.std()*np.sqrt(252)*100\n",
        "stockvar['Risk%'] = stockvar['Risk%'].round(0)\n",
        "realstatevar['Risk%'] = dfrvar.std()*np.sqrt(252)*100\n",
        "realstatevar['Risk%'] = realstatevar['Risk%'].round(0)\n",
        "stockusvar['Risk%'] = dfsusvar.std()*np.sqrt(252)*100\n",
        "stockusvar['Risk%'] = stockusvar['Risk%'].round(0)\n",
        "etfusvar['Risk%'] = dfeusvar.std()*np.sqrt(252)*100\n",
        "etfusvar['Risk%'] = etfusvar['Risk%'].round(0)\n",
        "portvar['Risk%'] = dfportvar.std()*np.sqrt(252)*100\n",
        "portvar['Risk%'] = portvar['Risk%'].round(0)\n",
        "# display(stockvar)\n",
        "# display(realstatevar)\n",
        "# display(stockusvar)\n",
        "# display(etfusvar)\n",
        "# display(portvar)"
      ],
      "metadata": {
        "id": "wa3KeoAjpuGF"
      },
      "execution_count": null,
      "outputs": []
    },
    {
      "cell_type": "code",
      "execution_count": null,
      "metadata": {
        "id": "foFpvk98EV1M"
      },
      "outputs": [],
      "source": [
        "# Covariance calculation\n",
        "covs = dfsvar.cov()*252\n",
        "covr = dfrvar.cov()*252\n",
        "covsus = dfsusvar.cov()*252\n",
        "coveus = dfeusvar.cov()*252\n",
        "covport = dfportvar.cov()*252\n",
        "# display(covs)\n",
        "# display(covr)\n",
        "# display(covsus)\n",
        "# display(coveus)\n",
        "# display(covport)"
      ]
    },
    {
      "cell_type": "code",
      "execution_count": null,
      "metadata": {
        "id": "ZFGifgTrAoDA"
      },
      "outputs": [],
      "source": [
        "# Beta calculation\n",
        "betas = covs['IBOV']/vars['IBOV']\n",
        "betas = betas.round(3)\n",
        "betas.name = 'Beta'\n",
        "betar = covr['IFIX']/varr['IFIX']\n",
        "betar = betar.round(3)\n",
        "betar.name = 'Beta'\n",
        "betasus = covsus['SP500']/varsus['SP500']\n",
        "betasus = betasus.round(3)\n",
        "betasus.name = 'Beta'\n",
        "betaeus = coveus['SP500']/vareus['SP500']\n",
        "betaeus = betaeus.round(3)\n",
        "betaeus.name = 'Beta'\n",
        "betaport = covport['IBOV']/varport['IBOV']\n",
        "betaport = betaport.round(3)\n",
        "betaport.name = 'Beta'\n",
        "# display(betas)\n",
        "# display(betar)\n",
        "# display(betasus)\n",
        "# display(betaeus)\n",
        "# display(betaport)"
      ]
    },
    {
      "cell_type": "code",
      "source": [
        "# Adding Beta to column output dataframes\n",
        "stockvar['Beta'] = betas\n",
        "realstatevar['Beta'] = betar\n",
        "stockusvar['Beta'] = betasus\n",
        "etfusvar['Beta'] = betaeus\n",
        "portvar['Beta'] = betaport\n",
        "# display(stockvar)\n",
        "# display(realstatevar)\n",
        "# display(stockusvar)\n",
        "# display(etfusvar)\n",
        "# display(portvar)"
      ],
      "metadata": {
        "id": "Zanbv1uJnfju"
      },
      "execution_count": null,
      "outputs": []
    },
    {
      "cell_type": "code",
      "source": [
        "# Adding Min to column output dataframes\n",
        "stockvar['Min'] = dfs.min()\n",
        "stockvar['Min'] = stockvar['Min'].round(2)\n",
        "realstatevar['Min'] = dfr.min()\n",
        "realstatevar['Min'] = realstatevar['Min'].round(2)\n",
        "stockusvar['Min'] = dfsus.min()\n",
        "stockusvar['Min'] = stockusvar['Min'].round(2)\n",
        "etfusvar['Min'] = dfeus.min()\n",
        "etfusvar['Min'] = etfusvar['Min'].round(2)\n",
        "portvar['Min'] = dfport.min()\n",
        "portvar['Min'] = portvar['Min'].round(2)\n",
        "# display(stockvar)\n",
        "# display(realstatevar)\n",
        "# display(stockusvar)\n",
        "# display(etfusvar)\n",
        "# display(portvar)"
      ],
      "metadata": {
        "id": "YnAEVEP1YD4a"
      },
      "execution_count": null,
      "outputs": []
    },
    {
      "cell_type": "code",
      "source": [
        "# Adding Max to column output dataframes\n",
        "stockvar['Max'] = dfs.max()\n",
        "stockvar['Max'] = stockvar['Max'].round(2)\n",
        "realstatevar['Max'] = dfr.max()\n",
        "realstatevar['Max'] = realstatevar['Max'].round(2)\n",
        "stockusvar['Max'] = dfsus.max()\n",
        "stockusvar['Max'] = stockusvar['Max'].round(2)\n",
        "etfusvar['Max'] = dfeus.max()\n",
        "etfusvar['Max'] = etfusvar['Max'].round(2)\n",
        "portvar['Max'] = dfport.max()\n",
        "portvar['Max'] = portvar['Max'].round(2)\n",
        "# display(stockvar)\n",
        "# display(realstatevar)\n",
        "# display(stockusvar)\n",
        "# display(etfusvar)\n",
        "# display(portvar)"
      ],
      "metadata": {
        "id": "v4fdFkBNZ6Ei"
      },
      "execution_count": null,
      "outputs": []
    },
    {
      "cell_type": "code",
      "source": [
        "# Organizing columns order and making Index column as index of dataframes\n",
        "stockvar = stockvar.reset_index()\n",
        "realstatevar = realstatevar.reset_index()\n",
        "stockusvar = stockusvar.reset_index()\n",
        "etfusvar = etfusvar.reset_index()\n",
        "portvar = portvar.reset_index()\n",
        "# display(stockvar)\n",
        "# display(realstatevar)\n",
        "# display(stockusvar)\n",
        "# display(etfusvar)\n",
        "# display(portvar)"
      ],
      "metadata": {
        "id": "YYMn4_w7vIg-"
      },
      "execution_count": null,
      "outputs": []
    },
    {
      "cell_type": "code",
      "source": [
        "# Portfolio dataframe assembling\n",
        "portfolio = pd.merge(portfolio, portvar, on='Ticker', how='inner')\n",
        "# portfolio = portfolio[sorted(portfolio.columns)]\n",
        "# portfolio = portfolio[['IBOV', 'USDBRL'] + [col for col in portfolio.columns if col not in ['IBOV', 'USDBRL']]]\n",
        "# firstsnames = ['IBOV','USDBRL']\n",
        "firstsnames = ['IBOV', 'USDBRL']\n",
        "portfolio.iloc[2:] = portfolio[~portfolio['Ticker'].isin(firstsnames)].sort_values(by='Ticker').values\n",
        "# display(portfolio)"
      ],
      "metadata": {
        "id": "T366MMVaumwm"
      },
      "execution_count": null,
      "outputs": []
    },
    {
      "cell_type": "code",
      "source": [
        "# Portfolio Total Return calculation\n",
        "portfolioretexptotal = (portfolio['W']/100).dot(portfolio['RetE%'])\n",
        "portfoliorettotal = (portfolio['W']/100).dot(portfolio['Ret%'])\n",
        "# display(portfoliorettotal)"
      ],
      "metadata": {
        "id": "Ozm3ZSpvuYOH"
      },
      "execution_count": null,
      "outputs": []
    },
    {
      "cell_type": "code",
      "source": [
        "# Portolio Total Variance calculation\n",
        "# It uses LINEAR ALGEBRA, LINES AND COLUMNS MUST BE ALINGNED! CONFIRM IT, check covariance calculations (covport) and portfolio lines. SHOULD BE EQUAL!\n",
        "# Converts weights to column array\n",
        "weight = (portfolio['W']/100).to_numpy().reshape(-1, 1) # Converte para array coluna\n",
        "# Matrix multiplications: Variance = Weight.T x Covariance x Weight. See Portfolio Theory. T means transposed matrix.\n",
        "# The result should be a dataframe 1x1 with only the value of total portfolio variance\n",
        "# other line code possible: portvartotal = weight.T @ covport @ weight\n",
        "portvartotal = (weight.T.dot(covport).dot(weight)).item()\n",
        "# display(weight)\n",
        "# display(portvartotal)"
      ],
      "metadata": {
        "id": "0p-nasYGbkh2"
      },
      "execution_count": null,
      "outputs": []
    },
    {
      "cell_type": "code",
      "source": [
        "# Total Portfolio Percentage Risk calculation\n",
        "portfoliorisktotal = (np.sqrt(portvartotal))*100\n",
        "# display(portfoliorisktotal)"
      ],
      "metadata": {
        "id": "JxT6X2JzqNyk"
      },
      "execution_count": null,
      "outputs": []
    },
    {
      "cell_type": "code",
      "source": [
        "# Portfolio Sharpes calculations\n",
        "portfoliosharpeexp = portfolioretexptotal/portfoliorisktotal\n",
        "portfoliosharpe = portfoliorettotal/portfoliorisktotal\n",
        "# display(portfoliosharpe)"
      ],
      "metadata": {
        "id": "O_qGQliuy0PK"
      },
      "execution_count": null,
      "outputs": []
    },
    {
      "cell_type": "code",
      "source": [
        "# Portfolio adding columns with Total Return, Total Risk and Sharpe values in first register(in the same line of IBOV value index). Other registers being filled with zero.\n",
        "portfolio['RetETotal%'] = [portfolioretexptotal] + [0] * (len(portfolio) - 1)\n",
        "portfolio['RetETotal%'] = portfolio['RetETotal%'].round(1)\n",
        "portfolio['RetTotal%'] = [portfoliorettotal] + [0] * (len(portfolio) - 1)\n",
        "portfolio['RetTotal%'] = portfolio['RetTotal%'].round(1)\n",
        "portfolio['RiskTotal%'] = [portfoliorisktotal] + [0] * (len(portfolio) - 1)\n",
        "portfolio['RiskTotal%'] = portfolio['RiskTotal%'].round(0)\n",
        "portfolio['SharpeE'] = [portfoliosharpeexp] + [0] * (len(portfolio) - 1)\n",
        "portfolio['SharpeE'] = portfolio['SharpeE'].round(3)\n",
        "portfolio['Sharpe'] = [portfoliosharpe] + [0] * (len(portfolio) - 1)\n",
        "portfolio['Sharpe'] = portfolio['Sharpe'].round(3)\n",
        "# Calculate Total Beta and add in IBOV line\n",
        "portfolio.at[0, 'Beta'] = (portfolio['W'] /100 * portfolio['Beta']).sum()\n",
        "portfolio['Beta'] = portfolio['Beta'].round(3)\n",
        "# display(portfolio)"
      ],
      "metadata": {
        "id": "shtCO9Nl2dSK"
      },
      "execution_count": null,
      "outputs": []
    },
    {
      "cell_type": "code",
      "source": [
        "# Code structure begin to calculate sharpe maximizaton\n",
        "#\n",
        "# Funnctio to calculate negative Sharpe Ratio\n",
        "def negative_sharpe_ratio(weights, expected_returns, cov_matrix, riskfree):\n",
        "    portfolio_return = np.dot(weights, expected_returns)\n",
        "    portfolio_volatility = np.sqrt(np.dot(weights.T, np.dot(cov_matrix, weights)))\n",
        "    sharpe_ratio = (portfolio_return - riskfree) / portfolio_volatility\n",
        "    return -sharpe_ratio  # negative to maximize in throught scipy.optimize minimize library"
      ],
      "metadata": {
        "id": "Gv15bT5Aog0B"
      },
      "execution_count": null,
      "outputs": []
    },
    {
      "cell_type": "code",
      "source": [
        "# Extracting expected returns\n",
        "expected_returns = portfolio['RetE%'].values"
      ],
      "metadata": {
        "id": "Jhj-5HIcpryC"
      },
      "execution_count": null,
      "outputs": []
    },
    {
      "cell_type": "code",
      "source": [
        "# Convert covariance dataframe in numpy matrix\n",
        "cov_matrix = covport.values"
      ],
      "metadata": {
        "id": "8Scvi-sRpy8l"
      },
      "execution_count": null,
      "outputs": []
    },
    {
      "cell_type": "code",
      "source": [
        "weights = [values / 100 for values in weightport]"
      ],
      "metadata": {
        "id": "41tz294FuOTM"
      },
      "execution_count": null,
      "outputs": []
    },
    {
      "cell_type": "code",
      "source": [
        "# Weights restrictions = 1\n",
        "constraints = ({'type': 'eq', 'fun': lambda weights: np.sum(weights) - 1})"
      ],
      "metadata": {
        "id": "7BDtLcjWo1-r"
      },
      "execution_count": null,
      "outputs": []
    },
    {
      "cell_type": "code",
      "source": [
        "# Weights limits (no short opertions, only long ones)\n",
        "bounds = tuple((0, 1) for _ in range(len(expected_returns)))"
      ],
      "metadata": {
        "id": "skN0OS7Co6Ci"
      },
      "execution_count": null,
      "outputs": []
    },
    {
      "cell_type": "code",
      "source": [
        "# Initial weights to begin interaction\n",
        "initial_weights = portfolio['W'].values"
      ],
      "metadata": {
        "id": "PITOXj9ko_09"
      },
      "execution_count": null,
      "outputs": []
    },
    {
      "cell_type": "code",
      "source": [
        "# Optimization\n",
        "result = minimize(\n",
        "    negative_sharpe_ratio,\n",
        "    initial_weights,\n",
        "    args=(expected_returns, cov_matrix, riskfree),\n",
        "    method='SLSQP',\n",
        "    bounds=bounds,\n",
        "    constraints=constraints\n",
        ")"
      ],
      "metadata": {
        "id": "9bZiec_JpD6i"
      },
      "execution_count": null,
      "outputs": []
    },
    {
      "cell_type": "code",
      "source": [
        "# Final result\n",
        "optimal_weights = result.x\n",
        "max_sharpe = -result.fun  # negative once we multilpy to negative in the funcion operation\n",
        "#\n",
        "#  Code structure end to calculate sharpe maximizaton"
      ],
      "metadata": {
        "id": "VbS9qLuXpIyN"
      },
      "execution_count": null,
      "outputs": []
    },
    {
      "cell_type": "code",
      "source": [
        "#  Add Maximum Sharpe ticker weights to portfolio dataframe\n",
        "portfolio['SharpeEMax-W'] = optimal_weights\n",
        "portfolio['SharpeEMax-W']  = ((portfolio['SharpeEMax-W'])*100).round(3)"
      ],
      "metadata": {
        "id": "kpBjFnaUEZxP"
      },
      "execution_count": null,
      "outputs": []
    },
    {
      "cell_type": "code",
      "source": [
        "# Add Maximum Sharpe value to portfolio dataframe in IBOV line\n",
        "portfolio.at[0, 'SharpeEMax-W'] = max_sharpe\n",
        "# portfolio['SharpeEMax'] = [max_sharpe] + [0] * (len(portfolio) - 1)\n",
        "portfolio['SharpeEMax-W'] = portfolio['SharpeEMax-W'].round(3)"
      ],
      "metadata": {
        "id": "NajFekHEGdNy"
      },
      "execution_count": null,
      "outputs": []
    },
    {
      "cell_type": "code",
      "source": [
        "#  Add Maximum Sharpe ticker weights to portfolio dataframe\n",
        "sharpeemaxret = (portfolio['RetE%'] * portfolio['SharpeEMax-W'] / 100).sum()\n",
        "portfolio['SharpeEMax-Ret%'] = [sharpeemaxret]+ [0] * (len(portfolio) - 1)\n",
        "portfolio['SharpeEMax-Ret%'] = portfolio['SharpeEMax-Ret%'].round(2)\n",
        "display(portfolio)"
      ],
      "metadata": {
        "colab": {
          "base_uri": "https://localhost:8080/",
          "height": 551
        },
        "id": "2BfFWd1uQUJ7",
        "outputId": "957dcc8a-209d-4ebd-ba34-25b0fedfbc2f"
      },
      "execution_count": null,
      "outputs": [
        {
          "output_type": "display_data",
          "data": {
            "text/plain": [
              "    Ticker       W  RetE%  Ret%  Risk%   Beta        Min        Max  \\\n",
              "0     IBOV   0.000    0.0   2.5   14.0  0.356  118533.00  140928.00   \n",
              "1   USDBRL   0.000    0.0   9.1   14.0  0.003       4.86       6.30   \n",
              "2    BBAS3   4.279   15.0 -10.9   21.0  0.760      19.86      29.33   \n",
              "3    CPFE3   3.763   15.0   2.2   20.0  0.601      31.00      41.23   \n",
              "4    ELET6   5.004    1.2  -1.7   21.0  0.996      36.86      48.23   \n",
              "5     FBTC   4.471   10.0  85.6   56.0  0.531     171.30     583.49   \n",
              "6   HSML11   2.892    2.4   0.1   15.0  0.110      66.04      88.09   \n",
              "7   HTMX11   6.125   14.7   5.7   26.0 -0.143     124.67     183.98   \n",
              "8   IVVB11  10.270   17.0  30.9   17.0 -0.075     257.48     417.20   \n",
              "9    PETR4   8.727   15.0   8.9   25.0  0.802      27.56      36.47   \n",
              "10  SADI11   7.274    4.4  12.0   10.0  0.037       7.36       8.76   \n",
              "11    SCHD  31.039   12.0  19.2   21.0  0.423     116.11     172.68   \n",
              "12    TFLO   3.932   10.0  14.2   14.0  0.004     228.61     311.35   \n",
              "13  TGAR11   4.230    6.7 -10.1   19.0  0.141      70.97     107.62   \n",
              "14  TRXF11   4.922   12.4   5.5   11.0  0.078      85.89     101.50   \n",
              "15   VALE3   3.073   11.2  -6.3   25.0  0.874      49.20      63.96   \n",
              "\n",
              "    RetETotal%  RetTotal%  RiskTotal%  SharpeE  Sharpe  SharpeEMax-W  \\\n",
              "0         11.4       14.7        11.0    1.054   1.357        11.861   \n",
              "1          0.0        0.0         0.0    0.000   0.000         0.000   \n",
              "2          0.0        0.0         0.0    0.000   0.000        11.177   \n",
              "3          0.0        0.0         0.0    0.000   0.000         9.203   \n",
              "4          0.0        0.0         0.0    0.000   0.000         0.000   \n",
              "5          0.0        0.0         0.0    0.000   0.000         0.000   \n",
              "6          0.0        0.0         0.0    0.000   0.000         0.000   \n",
              "7          0.0        0.0         0.0    0.000   0.000         0.000   \n",
              "8          0.0        0.0         0.0    0.000   0.000        79.620   \n",
              "9          0.0        0.0         0.0    0.000   0.000         0.000   \n",
              "10         0.0        0.0         0.0    0.000   0.000         0.000   \n",
              "11         0.0        0.0         0.0    0.000   0.000         0.000   \n",
              "12         0.0        0.0         0.0    0.000   0.000         0.000   \n",
              "13         0.0        0.0         0.0    0.000   0.000         0.000   \n",
              "14         0.0        0.0         0.0    0.000   0.000         0.000   \n",
              "15         0.0        0.0         0.0    0.000   0.000         0.000   \n",
              "\n",
              "    SharpeEMax-Ret%  \n",
              "0             16.59  \n",
              "1              0.00  \n",
              "2              0.00  \n",
              "3              0.00  \n",
              "4              0.00  \n",
              "5              0.00  \n",
              "6              0.00  \n",
              "7              0.00  \n",
              "8              0.00  \n",
              "9              0.00  \n",
              "10             0.00  \n",
              "11             0.00  \n",
              "12             0.00  \n",
              "13             0.00  \n",
              "14             0.00  \n",
              "15             0.00  "
            ],
            "text/html": [
              "\n",
              "  <div id=\"df-44086c09-5ace-44fb-ae94-25b1430f9b11\" class=\"colab-df-container\">\n",
              "    <div>\n",
              "<style scoped>\n",
              "    .dataframe tbody tr th:only-of-type {\n",
              "        vertical-align: middle;\n",
              "    }\n",
              "\n",
              "    .dataframe tbody tr th {\n",
              "        vertical-align: top;\n",
              "    }\n",
              "\n",
              "    .dataframe thead th {\n",
              "        text-align: right;\n",
              "    }\n",
              "</style>\n",
              "<table border=\"1\" class=\"dataframe\">\n",
              "  <thead>\n",
              "    <tr style=\"text-align: right;\">\n",
              "      <th></th>\n",
              "      <th>Ticker</th>\n",
              "      <th>W</th>\n",
              "      <th>RetE%</th>\n",
              "      <th>Ret%</th>\n",
              "      <th>Risk%</th>\n",
              "      <th>Beta</th>\n",
              "      <th>Min</th>\n",
              "      <th>Max</th>\n",
              "      <th>RetETotal%</th>\n",
              "      <th>RetTotal%</th>\n",
              "      <th>RiskTotal%</th>\n",
              "      <th>SharpeE</th>\n",
              "      <th>Sharpe</th>\n",
              "      <th>SharpeEMax-W</th>\n",
              "      <th>SharpeEMax-Ret%</th>\n",
              "    </tr>\n",
              "  </thead>\n",
              "  <tbody>\n",
              "    <tr>\n",
              "      <th>0</th>\n",
              "      <td>IBOV</td>\n",
              "      <td>0.000</td>\n",
              "      <td>0.0</td>\n",
              "      <td>2.5</td>\n",
              "      <td>14.0</td>\n",
              "      <td>0.356</td>\n",
              "      <td>118533.00</td>\n",
              "      <td>140928.00</td>\n",
              "      <td>11.4</td>\n",
              "      <td>14.7</td>\n",
              "      <td>11.0</td>\n",
              "      <td>1.054</td>\n",
              "      <td>1.357</td>\n",
              "      <td>11.861</td>\n",
              "      <td>16.59</td>\n",
              "    </tr>\n",
              "    <tr>\n",
              "      <th>1</th>\n",
              "      <td>USDBRL</td>\n",
              "      <td>0.000</td>\n",
              "      <td>0.0</td>\n",
              "      <td>9.1</td>\n",
              "      <td>14.0</td>\n",
              "      <td>0.003</td>\n",
              "      <td>4.86</td>\n",
              "      <td>6.30</td>\n",
              "      <td>0.0</td>\n",
              "      <td>0.0</td>\n",
              "      <td>0.0</td>\n",
              "      <td>0.000</td>\n",
              "      <td>0.000</td>\n",
              "      <td>0.000</td>\n",
              "      <td>0.00</td>\n",
              "    </tr>\n",
              "    <tr>\n",
              "      <th>2</th>\n",
              "      <td>BBAS3</td>\n",
              "      <td>4.279</td>\n",
              "      <td>15.0</td>\n",
              "      <td>-10.9</td>\n",
              "      <td>21.0</td>\n",
              "      <td>0.760</td>\n",
              "      <td>19.86</td>\n",
              "      <td>29.33</td>\n",
              "      <td>0.0</td>\n",
              "      <td>0.0</td>\n",
              "      <td>0.0</td>\n",
              "      <td>0.000</td>\n",
              "      <td>0.000</td>\n",
              "      <td>11.177</td>\n",
              "      <td>0.00</td>\n",
              "    </tr>\n",
              "    <tr>\n",
              "      <th>3</th>\n",
              "      <td>CPFE3</td>\n",
              "      <td>3.763</td>\n",
              "      <td>15.0</td>\n",
              "      <td>2.2</td>\n",
              "      <td>20.0</td>\n",
              "      <td>0.601</td>\n",
              "      <td>31.00</td>\n",
              "      <td>41.23</td>\n",
              "      <td>0.0</td>\n",
              "      <td>0.0</td>\n",
              "      <td>0.0</td>\n",
              "      <td>0.000</td>\n",
              "      <td>0.000</td>\n",
              "      <td>9.203</td>\n",
              "      <td>0.00</td>\n",
              "    </tr>\n",
              "    <tr>\n",
              "      <th>4</th>\n",
              "      <td>ELET6</td>\n",
              "      <td>5.004</td>\n",
              "      <td>1.2</td>\n",
              "      <td>-1.7</td>\n",
              "      <td>21.0</td>\n",
              "      <td>0.996</td>\n",
              "      <td>36.86</td>\n",
              "      <td>48.23</td>\n",
              "      <td>0.0</td>\n",
              "      <td>0.0</td>\n",
              "      <td>0.0</td>\n",
              "      <td>0.000</td>\n",
              "      <td>0.000</td>\n",
              "      <td>0.000</td>\n",
              "      <td>0.00</td>\n",
              "    </tr>\n",
              "    <tr>\n",
              "      <th>5</th>\n",
              "      <td>FBTC</td>\n",
              "      <td>4.471</td>\n",
              "      <td>10.0</td>\n",
              "      <td>85.6</td>\n",
              "      <td>56.0</td>\n",
              "      <td>0.531</td>\n",
              "      <td>171.30</td>\n",
              "      <td>583.49</td>\n",
              "      <td>0.0</td>\n",
              "      <td>0.0</td>\n",
              "      <td>0.0</td>\n",
              "      <td>0.000</td>\n",
              "      <td>0.000</td>\n",
              "      <td>0.000</td>\n",
              "      <td>0.00</td>\n",
              "    </tr>\n",
              "    <tr>\n",
              "      <th>6</th>\n",
              "      <td>HSML11</td>\n",
              "      <td>2.892</td>\n",
              "      <td>2.4</td>\n",
              "      <td>0.1</td>\n",
              "      <td>15.0</td>\n",
              "      <td>0.110</td>\n",
              "      <td>66.04</td>\n",
              "      <td>88.09</td>\n",
              "      <td>0.0</td>\n",
              "      <td>0.0</td>\n",
              "      <td>0.0</td>\n",
              "      <td>0.000</td>\n",
              "      <td>0.000</td>\n",
              "      <td>0.000</td>\n",
              "      <td>0.00</td>\n",
              "    </tr>\n",
              "    <tr>\n",
              "      <th>7</th>\n",
              "      <td>HTMX11</td>\n",
              "      <td>6.125</td>\n",
              "      <td>14.7</td>\n",
              "      <td>5.7</td>\n",
              "      <td>26.0</td>\n",
              "      <td>-0.143</td>\n",
              "      <td>124.67</td>\n",
              "      <td>183.98</td>\n",
              "      <td>0.0</td>\n",
              "      <td>0.0</td>\n",
              "      <td>0.0</td>\n",
              "      <td>0.000</td>\n",
              "      <td>0.000</td>\n",
              "      <td>0.000</td>\n",
              "      <td>0.00</td>\n",
              "    </tr>\n",
              "    <tr>\n",
              "      <th>8</th>\n",
              "      <td>IVVB11</td>\n",
              "      <td>10.270</td>\n",
              "      <td>17.0</td>\n",
              "      <td>30.9</td>\n",
              "      <td>17.0</td>\n",
              "      <td>-0.075</td>\n",
              "      <td>257.48</td>\n",
              "      <td>417.20</td>\n",
              "      <td>0.0</td>\n",
              "      <td>0.0</td>\n",
              "      <td>0.0</td>\n",
              "      <td>0.000</td>\n",
              "      <td>0.000</td>\n",
              "      <td>79.620</td>\n",
              "      <td>0.00</td>\n",
              "    </tr>\n",
              "    <tr>\n",
              "      <th>9</th>\n",
              "      <td>PETR4</td>\n",
              "      <td>8.727</td>\n",
              "      <td>15.0</td>\n",
              "      <td>8.9</td>\n",
              "      <td>25.0</td>\n",
              "      <td>0.802</td>\n",
              "      <td>27.56</td>\n",
              "      <td>36.47</td>\n",
              "      <td>0.0</td>\n",
              "      <td>0.0</td>\n",
              "      <td>0.0</td>\n",
              "      <td>0.000</td>\n",
              "      <td>0.000</td>\n",
              "      <td>0.000</td>\n",
              "      <td>0.00</td>\n",
              "    </tr>\n",
              "    <tr>\n",
              "      <th>10</th>\n",
              "      <td>SADI11</td>\n",
              "      <td>7.274</td>\n",
              "      <td>4.4</td>\n",
              "      <td>12.0</td>\n",
              "      <td>10.0</td>\n",
              "      <td>0.037</td>\n",
              "      <td>7.36</td>\n",
              "      <td>8.76</td>\n",
              "      <td>0.0</td>\n",
              "      <td>0.0</td>\n",
              "      <td>0.0</td>\n",
              "      <td>0.000</td>\n",
              "      <td>0.000</td>\n",
              "      <td>0.000</td>\n",
              "      <td>0.00</td>\n",
              "    </tr>\n",
              "    <tr>\n",
              "      <th>11</th>\n",
              "      <td>SCHD</td>\n",
              "      <td>31.039</td>\n",
              "      <td>12.0</td>\n",
              "      <td>19.2</td>\n",
              "      <td>21.0</td>\n",
              "      <td>0.423</td>\n",
              "      <td>116.11</td>\n",
              "      <td>172.68</td>\n",
              "      <td>0.0</td>\n",
              "      <td>0.0</td>\n",
              "      <td>0.0</td>\n",
              "      <td>0.000</td>\n",
              "      <td>0.000</td>\n",
              "      <td>0.000</td>\n",
              "      <td>0.00</td>\n",
              "    </tr>\n",
              "    <tr>\n",
              "      <th>12</th>\n",
              "      <td>TFLO</td>\n",
              "      <td>3.932</td>\n",
              "      <td>10.0</td>\n",
              "      <td>14.2</td>\n",
              "      <td>14.0</td>\n",
              "      <td>0.004</td>\n",
              "      <td>228.61</td>\n",
              "      <td>311.35</td>\n",
              "      <td>0.0</td>\n",
              "      <td>0.0</td>\n",
              "      <td>0.0</td>\n",
              "      <td>0.000</td>\n",
              "      <td>0.000</td>\n",
              "      <td>0.000</td>\n",
              "      <td>0.00</td>\n",
              "    </tr>\n",
              "    <tr>\n",
              "      <th>13</th>\n",
              "      <td>TGAR11</td>\n",
              "      <td>4.230</td>\n",
              "      <td>6.7</td>\n",
              "      <td>-10.1</td>\n",
              "      <td>19.0</td>\n",
              "      <td>0.141</td>\n",
              "      <td>70.97</td>\n",
              "      <td>107.62</td>\n",
              "      <td>0.0</td>\n",
              "      <td>0.0</td>\n",
              "      <td>0.0</td>\n",
              "      <td>0.000</td>\n",
              "      <td>0.000</td>\n",
              "      <td>0.000</td>\n",
              "      <td>0.00</td>\n",
              "    </tr>\n",
              "    <tr>\n",
              "      <th>14</th>\n",
              "      <td>TRXF11</td>\n",
              "      <td>4.922</td>\n",
              "      <td>12.4</td>\n",
              "      <td>5.5</td>\n",
              "      <td>11.0</td>\n",
              "      <td>0.078</td>\n",
              "      <td>85.89</td>\n",
              "      <td>101.50</td>\n",
              "      <td>0.0</td>\n",
              "      <td>0.0</td>\n",
              "      <td>0.0</td>\n",
              "      <td>0.000</td>\n",
              "      <td>0.000</td>\n",
              "      <td>0.000</td>\n",
              "      <td>0.00</td>\n",
              "    </tr>\n",
              "    <tr>\n",
              "      <th>15</th>\n",
              "      <td>VALE3</td>\n",
              "      <td>3.073</td>\n",
              "      <td>11.2</td>\n",
              "      <td>-6.3</td>\n",
              "      <td>25.0</td>\n",
              "      <td>0.874</td>\n",
              "      <td>49.20</td>\n",
              "      <td>63.96</td>\n",
              "      <td>0.0</td>\n",
              "      <td>0.0</td>\n",
              "      <td>0.0</td>\n",
              "      <td>0.000</td>\n",
              "      <td>0.000</td>\n",
              "      <td>0.000</td>\n",
              "      <td>0.00</td>\n",
              "    </tr>\n",
              "  </tbody>\n",
              "</table>\n",
              "</div>\n",
              "    <div class=\"colab-df-buttons\">\n",
              "\n",
              "  <div class=\"colab-df-container\">\n",
              "    <button class=\"colab-df-convert\" onclick=\"convertToInteractive('df-44086c09-5ace-44fb-ae94-25b1430f9b11')\"\n",
              "            title=\"Convert this dataframe to an interactive table.\"\n",
              "            style=\"display:none;\">\n",
              "\n",
              "  <svg xmlns=\"http://www.w3.org/2000/svg\" height=\"24px\" viewBox=\"0 -960 960 960\">\n",
              "    <path d=\"M120-120v-720h720v720H120Zm60-500h600v-160H180v160Zm220 220h160v-160H400v160Zm0 220h160v-160H400v160ZM180-400h160v-160H180v160Zm440 0h160v-160H620v160ZM180-180h160v-160H180v160Zm440 0h160v-160H620v160Z\"/>\n",
              "  </svg>\n",
              "    </button>\n",
              "\n",
              "  <style>\n",
              "    .colab-df-container {\n",
              "      display:flex;\n",
              "      gap: 12px;\n",
              "    }\n",
              "\n",
              "    .colab-df-convert {\n",
              "      background-color: #E8F0FE;\n",
              "      border: none;\n",
              "      border-radius: 50%;\n",
              "      cursor: pointer;\n",
              "      display: none;\n",
              "      fill: #1967D2;\n",
              "      height: 32px;\n",
              "      padding: 0 0 0 0;\n",
              "      width: 32px;\n",
              "    }\n",
              "\n",
              "    .colab-df-convert:hover {\n",
              "      background-color: #E2EBFA;\n",
              "      box-shadow: 0px 1px 2px rgba(60, 64, 67, 0.3), 0px 1px 3px 1px rgba(60, 64, 67, 0.15);\n",
              "      fill: #174EA6;\n",
              "    }\n",
              "\n",
              "    .colab-df-buttons div {\n",
              "      margin-bottom: 4px;\n",
              "    }\n",
              "\n",
              "    [theme=dark] .colab-df-convert {\n",
              "      background-color: #3B4455;\n",
              "      fill: #D2E3FC;\n",
              "    }\n",
              "\n",
              "    [theme=dark] .colab-df-convert:hover {\n",
              "      background-color: #434B5C;\n",
              "      box-shadow: 0px 1px 3px 1px rgba(0, 0, 0, 0.15);\n",
              "      filter: drop-shadow(0px 1px 2px rgba(0, 0, 0, 0.3));\n",
              "      fill: #FFFFFF;\n",
              "    }\n",
              "  </style>\n",
              "\n",
              "    <script>\n",
              "      const buttonEl =\n",
              "        document.querySelector('#df-44086c09-5ace-44fb-ae94-25b1430f9b11 button.colab-df-convert');\n",
              "      buttonEl.style.display =\n",
              "        google.colab.kernel.accessAllowed ? 'block' : 'none';\n",
              "\n",
              "      async function convertToInteractive(key) {\n",
              "        const element = document.querySelector('#df-44086c09-5ace-44fb-ae94-25b1430f9b11');\n",
              "        const dataTable =\n",
              "          await google.colab.kernel.invokeFunction('convertToInteractive',\n",
              "                                                    [key], {});\n",
              "        if (!dataTable) return;\n",
              "\n",
              "        const docLinkHtml = 'Like what you see? Visit the ' +\n",
              "          '<a target=\"_blank\" href=https://colab.research.google.com/notebooks/data_table.ipynb>data table notebook</a>'\n",
              "          + ' to learn more about interactive tables.';\n",
              "        element.innerHTML = '';\n",
              "        dataTable['output_type'] = 'display_data';\n",
              "        await google.colab.output.renderOutput(dataTable, element);\n",
              "        const docLink = document.createElement('div');\n",
              "        docLink.innerHTML = docLinkHtml;\n",
              "        element.appendChild(docLink);\n",
              "      }\n",
              "    </script>\n",
              "  </div>\n",
              "\n",
              "\n",
              "    <div id=\"df-46c38ec4-ee22-4e38-b30e-4ffe648fb524\">\n",
              "      <button class=\"colab-df-quickchart\" onclick=\"quickchart('df-46c38ec4-ee22-4e38-b30e-4ffe648fb524')\"\n",
              "                title=\"Suggest charts\"\n",
              "                style=\"display:none;\">\n",
              "\n",
              "<svg xmlns=\"http://www.w3.org/2000/svg\" height=\"24px\"viewBox=\"0 0 24 24\"\n",
              "     width=\"24px\">\n",
              "    <g>\n",
              "        <path d=\"M19 3H5c-1.1 0-2 .9-2 2v14c0 1.1.9 2 2 2h14c1.1 0 2-.9 2-2V5c0-1.1-.9-2-2-2zM9 17H7v-7h2v7zm4 0h-2V7h2v10zm4 0h-2v-4h2v4z\"/>\n",
              "    </g>\n",
              "</svg>\n",
              "      </button>\n",
              "\n",
              "<style>\n",
              "  .colab-df-quickchart {\n",
              "      --bg-color: #E8F0FE;\n",
              "      --fill-color: #1967D2;\n",
              "      --hover-bg-color: #E2EBFA;\n",
              "      --hover-fill-color: #174EA6;\n",
              "      --disabled-fill-color: #AAA;\n",
              "      --disabled-bg-color: #DDD;\n",
              "  }\n",
              "\n",
              "  [theme=dark] .colab-df-quickchart {\n",
              "      --bg-color: #3B4455;\n",
              "      --fill-color: #D2E3FC;\n",
              "      --hover-bg-color: #434B5C;\n",
              "      --hover-fill-color: #FFFFFF;\n",
              "      --disabled-bg-color: #3B4455;\n",
              "      --disabled-fill-color: #666;\n",
              "  }\n",
              "\n",
              "  .colab-df-quickchart {\n",
              "    background-color: var(--bg-color);\n",
              "    border: none;\n",
              "    border-radius: 50%;\n",
              "    cursor: pointer;\n",
              "    display: none;\n",
              "    fill: var(--fill-color);\n",
              "    height: 32px;\n",
              "    padding: 0;\n",
              "    width: 32px;\n",
              "  }\n",
              "\n",
              "  .colab-df-quickchart:hover {\n",
              "    background-color: var(--hover-bg-color);\n",
              "    box-shadow: 0 1px 2px rgba(60, 64, 67, 0.3), 0 1px 3px 1px rgba(60, 64, 67, 0.15);\n",
              "    fill: var(--button-hover-fill-color);\n",
              "  }\n",
              "\n",
              "  .colab-df-quickchart-complete:disabled,\n",
              "  .colab-df-quickchart-complete:disabled:hover {\n",
              "    background-color: var(--disabled-bg-color);\n",
              "    fill: var(--disabled-fill-color);\n",
              "    box-shadow: none;\n",
              "  }\n",
              "\n",
              "  .colab-df-spinner {\n",
              "    border: 2px solid var(--fill-color);\n",
              "    border-color: transparent;\n",
              "    border-bottom-color: var(--fill-color);\n",
              "    animation:\n",
              "      spin 1s steps(1) infinite;\n",
              "  }\n",
              "\n",
              "  @keyframes spin {\n",
              "    0% {\n",
              "      border-color: transparent;\n",
              "      border-bottom-color: var(--fill-color);\n",
              "      border-left-color: var(--fill-color);\n",
              "    }\n",
              "    20% {\n",
              "      border-color: transparent;\n",
              "      border-left-color: var(--fill-color);\n",
              "      border-top-color: var(--fill-color);\n",
              "    }\n",
              "    30% {\n",
              "      border-color: transparent;\n",
              "      border-left-color: var(--fill-color);\n",
              "      border-top-color: var(--fill-color);\n",
              "      border-right-color: var(--fill-color);\n",
              "    }\n",
              "    40% {\n",
              "      border-color: transparent;\n",
              "      border-right-color: var(--fill-color);\n",
              "      border-top-color: var(--fill-color);\n",
              "    }\n",
              "    60% {\n",
              "      border-color: transparent;\n",
              "      border-right-color: var(--fill-color);\n",
              "    }\n",
              "    80% {\n",
              "      border-color: transparent;\n",
              "      border-right-color: var(--fill-color);\n",
              "      border-bottom-color: var(--fill-color);\n",
              "    }\n",
              "    90% {\n",
              "      border-color: transparent;\n",
              "      border-bottom-color: var(--fill-color);\n",
              "    }\n",
              "  }\n",
              "</style>\n",
              "\n",
              "      <script>\n",
              "        async function quickchart(key) {\n",
              "          const quickchartButtonEl =\n",
              "            document.querySelector('#' + key + ' button');\n",
              "          quickchartButtonEl.disabled = true;  // To prevent multiple clicks.\n",
              "          quickchartButtonEl.classList.add('colab-df-spinner');\n",
              "          try {\n",
              "            const charts = await google.colab.kernel.invokeFunction(\n",
              "                'suggestCharts', [key], {});\n",
              "          } catch (error) {\n",
              "            console.error('Error during call to suggestCharts:', error);\n",
              "          }\n",
              "          quickchartButtonEl.classList.remove('colab-df-spinner');\n",
              "          quickchartButtonEl.classList.add('colab-df-quickchart-complete');\n",
              "        }\n",
              "        (() => {\n",
              "          let quickchartButtonEl =\n",
              "            document.querySelector('#df-46c38ec4-ee22-4e38-b30e-4ffe648fb524 button');\n",
              "          quickchartButtonEl.style.display =\n",
              "            google.colab.kernel.accessAllowed ? 'block' : 'none';\n",
              "        })();\n",
              "      </script>\n",
              "    </div>\n",
              "\n",
              "  <div id=\"id_d2f4910d-a622-443b-a43a-e8c3434517ec\">\n",
              "    <style>\n",
              "      .colab-df-generate {\n",
              "        background-color: #E8F0FE;\n",
              "        border: none;\n",
              "        border-radius: 50%;\n",
              "        cursor: pointer;\n",
              "        display: none;\n",
              "        fill: #1967D2;\n",
              "        height: 32px;\n",
              "        padding: 0 0 0 0;\n",
              "        width: 32px;\n",
              "      }\n",
              "\n",
              "      .colab-df-generate:hover {\n",
              "        background-color: #E2EBFA;\n",
              "        box-shadow: 0px 1px 2px rgba(60, 64, 67, 0.3), 0px 1px 3px 1px rgba(60, 64, 67, 0.15);\n",
              "        fill: #174EA6;\n",
              "      }\n",
              "\n",
              "      [theme=dark] .colab-df-generate {\n",
              "        background-color: #3B4455;\n",
              "        fill: #D2E3FC;\n",
              "      }\n",
              "\n",
              "      [theme=dark] .colab-df-generate:hover {\n",
              "        background-color: #434B5C;\n",
              "        box-shadow: 0px 1px 3px 1px rgba(0, 0, 0, 0.15);\n",
              "        filter: drop-shadow(0px 1px 2px rgba(0, 0, 0, 0.3));\n",
              "        fill: #FFFFFF;\n",
              "      }\n",
              "    </style>\n",
              "    <button class=\"colab-df-generate\" onclick=\"generateWithVariable('portfolio')\"\n",
              "            title=\"Generate code using this dataframe.\"\n",
              "            style=\"display:none;\">\n",
              "\n",
              "  <svg xmlns=\"http://www.w3.org/2000/svg\" height=\"24px\"viewBox=\"0 0 24 24\"\n",
              "       width=\"24px\">\n",
              "    <path d=\"M7,19H8.4L18.45,9,17,7.55,7,17.6ZM5,21V16.75L18.45,3.32a2,2,0,0,1,2.83,0l1.4,1.43a1.91,1.91,0,0,1,.58,1.4,1.91,1.91,0,0,1-.58,1.4L9.25,21ZM18.45,9,17,7.55Zm-12,3A5.31,5.31,0,0,0,4.9,8.1,5.31,5.31,0,0,0,1,6.5,5.31,5.31,0,0,0,4.9,4.9,5.31,5.31,0,0,0,6.5,1,5.31,5.31,0,0,0,8.1,4.9,5.31,5.31,0,0,0,12,6.5,5.46,5.46,0,0,0,6.5,12Z\"/>\n",
              "  </svg>\n",
              "    </button>\n",
              "    <script>\n",
              "      (() => {\n",
              "      const buttonEl =\n",
              "        document.querySelector('#id_d2f4910d-a622-443b-a43a-e8c3434517ec button.colab-df-generate');\n",
              "      buttonEl.style.display =\n",
              "        google.colab.kernel.accessAllowed ? 'block' : 'none';\n",
              "\n",
              "      buttonEl.onclick = () => {\n",
              "        google.colab.notebook.generateWithVariable('portfolio');\n",
              "      }\n",
              "      })();\n",
              "    </script>\n",
              "  </div>\n",
              "\n",
              "    </div>\n",
              "  </div>\n"
            ],
            "application/vnd.google.colaboratory.intrinsic+json": {
              "type": "dataframe",
              "variable_name": "portfolio",
              "summary": "{\n  \"name\": \"portfolio\",\n  \"rows\": 16,\n  \"fields\": [\n    {\n      \"column\": \"Ticker\",\n      \"properties\": {\n        \"dtype\": \"string\",\n        \"num_unique_values\": 16,\n        \"samples\": [\n          \"IBOV\",\n          \"USDBRL\",\n          \"FBTC\"\n        ],\n        \"semantic_type\": \"\",\n        \"description\": \"\"\n      }\n    },\n    {\n      \"column\": \"W\",\n      \"properties\": {\n        \"dtype\": \"number\",\n        \"std\": 7.133739640784489,\n        \"min\": 0.0,\n        \"max\": 31.039,\n        \"num_unique_values\": 15,\n        \"samples\": [\n          7.274,\n          3.932,\n          0.0\n        ],\n        \"semantic_type\": \"\",\n        \"description\": \"\"\n      }\n    },\n    {\n      \"column\": \"RetE%\",\n      \"properties\": {\n        \"dtype\": \"number\",\n        \"std\": 5.911443704093498,\n        \"min\": 0.0,\n        \"max\": 17.0,\n        \"num_unique_values\": 12,\n        \"samples\": [\n          12.4,\n          6.7,\n          0.0\n        ],\n        \"semantic_type\": \"\",\n        \"description\": \"\"\n      }\n    },\n    {\n      \"column\": \"Ret%\",\n      \"properties\": {\n        \"dtype\": \"number\",\n        \"std\": 22.73724459266484,\n        \"min\": -10.9,\n        \"max\": 85.6,\n        \"num_unique_values\": 16,\n        \"samples\": [\n          2.5,\n          9.1,\n          85.6\n        ],\n        \"semantic_type\": \"\",\n        \"description\": \"\"\n      }\n    },\n    {\n      \"column\": \"Risk%\",\n      \"properties\": {\n        \"dtype\": \"number\",\n        \"std\": 10.658134608520074,\n        \"min\": 10.0,\n        \"max\": 56.0,\n        \"num_unique_values\": 11,\n        \"samples\": [\n          26.0,\n          14.0,\n          19.0\n        ],\n        \"semantic_type\": \"\",\n        \"description\": \"\"\n      }\n    },\n    {\n      \"column\": \"Beta\",\n      \"properties\": {\n        \"dtype\": \"number\",\n        \"std\": 0.37432657310606915,\n        \"min\": -0.143,\n        \"max\": 0.996,\n        \"num_unique_values\": 16,\n        \"samples\": [\n          0.356,\n          0.003,\n          0.531\n        ],\n        \"semantic_type\": \"\",\n        \"description\": \"\"\n      }\n    },\n    {\n      \"column\": \"Min\",\n      \"properties\": {\n        \"dtype\": \"number\",\n        \"std\": 29611.718876784293,\n        \"min\": 4.86,\n        \"max\": 118533.0,\n        \"num_unique_values\": 16,\n        \"samples\": [\n          118533.0,\n          4.86,\n          171.3\n        ],\n        \"semantic_type\": \"\",\n        \"description\": \"\"\n      }\n    },\n    {\n      \"column\": \"Max\",\n      \"properties\": {\n        \"dtype\": \"number\",\n        \"std\": 35195.70186902604,\n        \"min\": 6.3,\n        \"max\": 140928.0,\n        \"num_unique_values\": 16,\n        \"samples\": [\n          140928.0,\n          6.3,\n          583.49\n        ],\n        \"semantic_type\": \"\",\n        \"description\": \"\"\n      }\n    },\n    {\n      \"column\": \"RetETotal%\",\n      \"properties\": {\n        \"dtype\": \"number\",\n        \"std\": 2.8499999999999996,\n        \"min\": 0.0,\n        \"max\": 11.4,\n        \"num_unique_values\": 2,\n        \"samples\": [\n          0.0,\n          11.4\n        ],\n        \"semantic_type\": \"\",\n        \"description\": \"\"\n      }\n    },\n    {\n      \"column\": \"RetTotal%\",\n      \"properties\": {\n        \"dtype\": \"number\",\n        \"std\": 3.674999999999998,\n        \"min\": 0.0,\n        \"max\": 14.7,\n        \"num_unique_values\": 2,\n        \"samples\": [\n          0.0,\n          14.7\n        ],\n        \"semantic_type\": \"\",\n        \"description\": \"\"\n      }\n    },\n    {\n      \"column\": \"RiskTotal%\",\n      \"properties\": {\n        \"dtype\": \"number\",\n        \"std\": 2.75,\n        \"min\": 0.0,\n        \"max\": 11.0,\n        \"num_unique_values\": 2,\n        \"samples\": [\n          0.0,\n          11.0\n        ],\n        \"semantic_type\": \"\",\n        \"description\": \"\"\n      }\n    },\n    {\n      \"column\": \"SharpeE\",\n      \"properties\": {\n        \"dtype\": \"number\",\n        \"std\": 0.2634999999999999,\n        \"min\": 0.0,\n        \"max\": 1.054,\n        \"num_unique_values\": 2,\n        \"samples\": [\n          0.0,\n          1.054\n        ],\n        \"semantic_type\": \"\",\n        \"description\": \"\"\n      }\n    },\n    {\n      \"column\": \"Sharpe\",\n      \"properties\": {\n        \"dtype\": \"number\",\n        \"std\": 0.33925000000000005,\n        \"min\": 0.0,\n        \"max\": 1.357,\n        \"num_unique_values\": 2,\n        \"samples\": [\n          0.0,\n          1.357\n        ],\n        \"semantic_type\": \"\",\n        \"description\": \"\"\n      }\n    },\n    {\n      \"column\": \"SharpeEMax-W\",\n      \"properties\": {\n        \"dtype\": \"number\",\n        \"std\": 19.845390819091975,\n        \"min\": 0.0,\n        \"max\": 79.62,\n        \"num_unique_values\": 5,\n        \"samples\": [\n          0.0,\n          79.62\n        ],\n        \"semantic_type\": \"\",\n        \"description\": \"\"\n      }\n    },\n    {\n      \"column\": \"SharpeEMax-Ret%\",\n      \"properties\": {\n        \"dtype\": \"number\",\n        \"std\": 4.1475,\n        \"min\": 0.0,\n        \"max\": 16.59,\n        \"num_unique_values\": 2,\n        \"samples\": [\n          0.0,\n          16.59\n        ],\n        \"semantic_type\": \"\",\n        \"description\": \"\"\n      }\n    }\n  ]\n}"
            }
          },
          "metadata": {}
        }
      ]
    },
    {
      "cell_type": "code",
      "execution_count": null,
      "metadata": {
        "id": "ODQ2jlYnQjNS"
      },
      "outputs": [],
      "source": [
        "# Autentication in Google Docs (only once)\n",
        "auth.authenticate_user()\n",
        "creds, _ = default()\n",
        "gc = gspread.authorize(creds)"
      ]
    },
    {
      "cell_type": "code",
      "execution_count": null,
      "metadata": {
        "id": "wyqrePZyZtys"
      },
      "outputs": [],
      "source": [
        "# Open workbook and worksheets\n",
        "wb = gc.open('Quotes')\n",
        "wss = wb.worksheet('Stockvar')\n",
        "wsr = wb.worksheet('RealStatevar')\n",
        "wssus = wb.worksheet('StockUSvar')\n",
        "wseus = wb.worksheet('ETFUSvar')\n",
        "wsport = wb.worksheet('Portfolio')"
      ]
    },
    {
      "cell_type": "code",
      "execution_count": null,
      "metadata": {
        "id": "yjSeVpqvaYkH",
        "colab": {
          "base_uri": "https://localhost:8080/"
        },
        "outputId": "efc18caa-75de-4f43-d89e-dfe5aac3bdd5"
      },
      "outputs": [
        {
          "output_type": "execute_result",
          "data": {
            "text/plain": [
              "{'spreadsheetId': '1qgTSxri55kYWVahW6sH3Fbn3ofWzhq93umUJhcwO7Uk',\n",
              " 'updatedRange': 'Portfolio!A1:O17',\n",
              " 'updatedRows': 17,\n",
              " 'updatedColumns': 15,\n",
              " 'updatedCells': 255}"
            ]
          },
          "metadata": {},
          "execution_count": 378
        }
      ],
      "source": [
        "# Write data in the worksheets\n",
        "wss.update([stockvar.columns.values.tolist()] + stockvar.values.tolist())\n",
        "wsr.update([realstatevar.columns.values.tolist()] + realstatevar.values.tolist())\n",
        "wssus.update([stockusvar.columns.values.tolist()] + stockusvar.values.tolist())\n",
        "wseus.update([etfusvar.columns.values.tolist()] + etfusvar.values.tolist())\n",
        "wsport.update([portfolio.columns.values.tolist()] + portfolio.values.tolist())"
      ]
    },
    {
      "cell_type": "code",
      "source": [
        "# FUNDS EXPLOER ROUTINE\n",
        "#\n",
        "# tickerr = ['IFIX.SA','BTLG11.SA','HGCR11.SA','HGBS11.SA','HGRE11.SA','HGRU11.SA','HSLG11.SA','HSML11.SA','HTMX11.SA','JSAF11.SA','JFLL11.SA','KNCA11.SA','KNHF11.SA','KNIP11.SA','MALL11.SA','MFII11.SA','SADI11.SA','TGAR11.SA','TRXF11.SA','VGHF11.SA','VISC11.SA']\n",
        "# Remove \".SA\" from real state funds dataframe tickers\n",
        "tickerradjusted = [nome.replace('.SA', '') for nome in tickerr]\n",
        "# Remove \"IFIX\" ticker\n",
        "if \"IFIX\" in tickerradjusted:\n",
        "    tickerradjusted.remove(\"IFIX\")\n",
        "#"
      ],
      "metadata": {
        "id": "lIdkgEQpBJ2M"
      },
      "execution_count": null,
      "outputs": []
    },
    {
      "cell_type": "code",
      "source": [
        "# Funds list filter, exclude tickers not in real state funds list\n",
        "fundsexplorer = fundsexplorer[fundsexplorer['Fundos'].isin(tickerradjusted)]\n",
        "# display(fundsexplorer)"
      ],
      "metadata": {
        "id": "o37F8excBqCE"
      },
      "execution_count": null,
      "outputs": []
    },
    {
      "cell_type": "code",
      "source": [
        "# Open worksheet\n",
        "wsrfunds = wb.worksheet('FundsExplorer')"
      ],
      "metadata": {
        "id": "hR9qvtdHCOdP"
      },
      "execution_count": null,
      "outputs": []
    },
    {
      "cell_type": "code",
      "source": [
        "# Write data in the worksheets\n",
        "wsrfunds.update([fundsexplorer.columns.values.tolist()] + fundsexplorer.fillna('').values.tolist())"
      ],
      "metadata": {
        "colab": {
          "base_uri": "https://localhost:8080/"
        },
        "id": "Lcs4T3nlCe8Z",
        "outputId": "573d3889-7c76-4666-ea64-e79300459886"
      },
      "execution_count": null,
      "outputs": [
        {
          "output_type": "execute_result",
          "data": {
            "text/plain": [
              "{'spreadsheetId': '1qgTSxri55kYWVahW6sH3Fbn3ofWzhq93umUJhcwO7Uk',\n",
              " 'updatedRange': 'FundsExplorer!A1:AD21',\n",
              " 'updatedRows': 21,\n",
              " 'updatedColumns': 30,\n",
              " 'updatedCells': 630}"
            ]
          },
          "metadata": {},
          "execution_count": 382
        }
      ]
    }
  ],
  "metadata": {
    "colab": {
      "provenance": [],
      "authorship_tag": "ABX9TyO0jK138nwjW0HHo5D6d5Hb",
      "include_colab_link": true
    },
    "kernelspec": {
      "display_name": "Python 3",
      "name": "python3"
    },
    "language_info": {
      "name": "python"
    }
  },
  "nbformat": 4,
  "nbformat_minor": 0
}