{
  "cells": [
    {
      "cell_type": "markdown",
      "metadata": {
        "id": "view-in-github",
        "colab_type": "text"
      },
      "source": [
        "<a href=\"https://colab.research.google.com/github/maberf/colabs/blob/main/Portfolio.ipynb\" target=\"_parent\"><img src=\"https://colab.research.google.com/assets/colab-badge.svg\" alt=\"Open In Colab\"/></a>"
      ]
    },
    {
      "cell_type": "code",
      "execution_count": null,
      "metadata": {
        "id": "QVYwmuIWyMbm"
      },
      "outputs": [],
      "source": [
        "import pandas as pd\n",
        "import numpy as np\n",
        "import yfinance as yf\n",
        "import os\n",
        "from google.colab import drive\n",
        "from google.colab import auth\n",
        "from google.auth import default\n",
        "import gspread"
      ]
    },
    {
      "cell_type": "code",
      "execution_count": null,
      "metadata": {
        "id": "cVJoINlOnWyN"
      },
      "outputs": [],
      "source": [
        "# Stock tickers - Insert here\n",
        "tickers = ['^BVSP','ARZZ3.SA','AURE3.SA','B3SA3.SA','BBAS3.SA','BBDC4.SA','BBSE3.SA','CIEL3.SA','CPFE3.SA','CSAN3.SA','EGIE3.SA','GGBR4.SA','ITSA4.SA','JALL3.SA','JHSF3.SA','KLBN11.SA','LEVE3.SA','LREN3.SA','ODPV3.SA','PETR4.SA','RAIZ4.SA','STBP3.SA','TAEE11.SA','VALE3.SA','VIVT3.SA']"
      ]
    },
    {
      "cell_type": "code",
      "source": [
        "# Real State Invesments Trust tickers - Insert here\n",
        "# Do not insert IFIX here, yahoo finance return IFIX.SA maximum 5 days. IFIX should be calculated from an csv file with 1 year history ffrom Investing.com and upload in personal Google Drive\n",
        "tickerr = ['BTLG11.SA','HGCR11.SA','HGBS11.SA','HGRE11.SA','HGRU11.SA','HSLG11.SA','HSML11.SA','HTMX11.SA','JSAF11.SA','JFLL11.SA','KNCA11.SA','KNHF11.SA','KNIP11.SA','LUGG11.SA','MALL11.SA','MFII11.SA','SADI11.SA','TGAR11.SA','TRXF11.SA','VGHF11.SA','VILG11.SA','VISC11.SA','XPLG11.SA','XPML11.SA'] # Do not insert IFIX here, yahoo finance return IFIX.SA maximum 5 days"
      ],
      "metadata": {
        "id": "j7mFM3kZa37g"
      },
      "execution_count": null,
      "outputs": []
    },
    {
      "cell_type": "code",
      "execution_count": null,
      "metadata": {
        "colab": {
          "base_uri": "https://localhost:8080/"
        },
        "id": "lsdtOFcYy8Xx",
        "outputId": "fbbf608e-a0fb-48a8-c072-0c06a0767ca5"
      },
      "outputs": [
        {
          "output_type": "stream",
          "name": "stderr",
          "text": [
            "[*********************100%%**********************]  25 of 25 completed\n",
            "[*********************100%%**********************]  24 of 24 completed\n"
          ]
        }
      ],
      "source": [
        "# Load tickers history prices in a dataframe considering a certain period of time\n",
        "dfs = yf.download(tickers, period='2y')['Close']\n",
        "dfr = yf.download(tickerr, period='1y')['Close']\n",
        "# display(dfs)\n",
        "# display(dfr)"
      ]
    },
    {
      "cell_type": "code",
      "source": [
        "# IFIX historic series from Investing.com to be appended in real state dataframe dfr - https://br.investing.com/indices/bm-fbovespa-real-estate-ifix-historical-data\n",
        "# Google Drive mounth\n",
        "drive.mount('/content/drive', force_remount=True)\n",
        "# File path on Google Drive - Download the file and upload to Financas folder in Google Drive. Rename the path according file name uploaded.\n",
        "ifixfile = '/content/drive/MyDrive/Financas/history.csv'\n",
        "# File csv to dataframe converting quote to float\n",
        "ifix = pd.read_csv(ifixfile, thousands = '.', decimal = ',', dtype = {'Último':np.float64})\n",
        "# Excluding and rename columns\n",
        "ifix = ifix.drop(columns=['Abertura', 'Máxima', 'Mínima', 'Vol.', 'Var%'])\n",
        "ifix = ifix.rename(columns={'Data': 'Date', 'Último': 'IFIX'})\n",
        "# Date format in Date column\n",
        "ifix['Date'] = pd.to_datetime(ifix['Date'], format='%d%m%Y')\n",
        "# display(ifix)"
      ],
      "metadata": {
        "id": "8aPljOEcdZz_",
        "colab": {
          "base_uri": "https://localhost:8080/"
        },
        "outputId": "c1cedcf8-fd33-4d76-d5a1-2a7567c4f30a"
      },
      "execution_count": null,
      "outputs": [
        {
          "output_type": "stream",
          "name": "stdout",
          "text": [
            "Mounted at /content/drive\n"
          ]
        }
      ]
    },
    {
      "cell_type": "code",
      "source": [
        "# Append ifix dataframe in dfr dataframe by key = date\n",
        "dfr = dfr.merge(ifix, how='inner', on='Date')\n",
        "# display(dfr)"
      ],
      "metadata": {
        "id": "KJglZfpFXRo9"
      },
      "execution_count": null,
      "outputs": []
    },
    {
      "cell_type": "code",
      "execution_count": null,
      "metadata": {
        "id": "TcgVC4D3YRGZ"
      },
      "outputs": [],
      "source": [
        "# Calculate daily variation\n",
        "dfs[tickers] = np.log(dfs[tickers]/dfs[tickers].shift(1))\n",
        "tickerr.append('IFIX') # now 'IFIX' value can be inserted on the tickers list\n",
        "dfr[tickerr] = np.log(dfr[tickerr]/dfr[tickerr].shift(1))"
      ]
    },
    {
      "cell_type": "code",
      "execution_count": null,
      "metadata": {
        "id": "UDCUEPHVJjoL"
      },
      "outputs": [],
      "source": [
        "# Exclude NaNs in the first row\n",
        "dfs.dropna(inplace=True)\n",
        "dfr.dropna(inplace=True)\n",
        "# display(dfs)\n",
        "# display(dfr)"
      ]
    },
    {
      "cell_type": "code",
      "execution_count": null,
      "metadata": {
        "id": "Dbp_7QIAZ2bh"
      },
      "outputs": [],
      "source": [
        "# Market return variance calculation\n",
        "vars = dfs['^BVSP'].var()\n",
        "varr = dfr['IFIX'].var()"
      ]
    },
    {
      "cell_type": "code",
      "execution_count": null,
      "metadata": {
        "id": "foFpvk98EV1M"
      },
      "outputs": [],
      "source": [
        "# Covariance calculation\n",
        "covs = dfs.cov()\n",
        "covr = dfr.cov()"
      ]
    },
    {
      "cell_type": "code",
      "execution_count": null,
      "metadata": {
        "id": "ZFGifgTrAoDA"
      },
      "outputs": [],
      "source": [
        "# Beta calculation\n",
        "betas = covs['^BVSP']/vars\n",
        "betas = betas.round(2)\n",
        "betar = covr['IFIX']/varr\n",
        "betar = betar.round(2)"
      ]
    },
    {
      "cell_type": "code",
      "execution_count": null,
      "metadata": {
        "id": "A6ODc42H3vsQ"
      },
      "outputs": [],
      "source": [
        "# Dataframe beta creation\n",
        "betas = betas.to_frame()\n",
        "betar = betar.to_frame()\n",
        "# sorting beta alhabetical ascending order by ticker\n",
        "betas = betas.sort_index()\n",
        "betar = betar.sort_index()\n",
        "# Date has been changed to a value in index and has to be removed\n",
        "betar = betar.drop(index='Date')\n",
        "# beta = beta[::-1]\n",
        "# display(betas)\n",
        "# display(betar)"
      ]
    },
    {
      "cell_type": "code",
      "execution_count": null,
      "metadata": {
        "id": "df77mNLzqzzY"
      },
      "outputs": [],
      "source": [
        "# FORMAT BETA DATAFRAME TO SPREADSHEET WRITING\n",
        "#\n",
        "# Creating an empty column \"index\"\n",
        "betas.insert(1,'Index','')\n",
        "betar.insert(1,'Index','')\n",
        "betas = betas.set_axis(['Beta', 'Index'], axis=1)\n",
        "betar = betar.set_axis(['Beta', 'Index'], axis=1)\n",
        "# display(betas)\n",
        "# display(betar)"
      ]
    },
    {
      "cell_type": "code",
      "source": [
        "# Filling Index column with row values\n",
        "for i in range(0, int(len(betas))):\n",
        "   betas['Index'].iloc[i] = str(i)\n",
        "   i = i + 1\n",
        "for i in range(0, int(len(betar))):\n",
        "   betar['Index'].iloc[i] = str(i)\n",
        "   i = i + 1"
      ],
      "metadata": {
        "id": "Xh8G7uR3o5vX",
        "colab": {
          "base_uri": "https://localhost:8080/"
        },
        "outputId": "0d435c03-c20c-42bb-9aa1-49385c2f54fe",
        "collapsed": true
      },
      "execution_count": null,
      "outputs": [
        {
          "output_type": "stream",
          "name": "stderr",
          "text": [
            "<ipython-input-569-32979ba70b13>:3: SettingWithCopyWarning: \n",
            "A value is trying to be set on a copy of a slice from a DataFrame\n",
            "\n",
            "See the caveats in the documentation: https://pandas.pydata.org/pandas-docs/stable/user_guide/indexing.html#returning-a-view-versus-a-copy\n",
            "  betas['Index'].iloc[i] = str(i)\n",
            "<ipython-input-569-32979ba70b13>:3: SettingWithCopyWarning: \n",
            "A value is trying to be set on a copy of a slice from a DataFrame\n",
            "\n",
            "See the caveats in the documentation: https://pandas.pydata.org/pandas-docs/stable/user_guide/indexing.html#returning-a-view-versus-a-copy\n",
            "  betas['Index'].iloc[i] = str(i)\n",
            "<ipython-input-569-32979ba70b13>:3: SettingWithCopyWarning: \n",
            "A value is trying to be set on a copy of a slice from a DataFrame\n",
            "\n",
            "See the caveats in the documentation: https://pandas.pydata.org/pandas-docs/stable/user_guide/indexing.html#returning-a-view-versus-a-copy\n",
            "  betas['Index'].iloc[i] = str(i)\n",
            "<ipython-input-569-32979ba70b13>:3: SettingWithCopyWarning: \n",
            "A value is trying to be set on a copy of a slice from a DataFrame\n",
            "\n",
            "See the caveats in the documentation: https://pandas.pydata.org/pandas-docs/stable/user_guide/indexing.html#returning-a-view-versus-a-copy\n",
            "  betas['Index'].iloc[i] = str(i)\n",
            "<ipython-input-569-32979ba70b13>:3: SettingWithCopyWarning: \n",
            "A value is trying to be set on a copy of a slice from a DataFrame\n",
            "\n",
            "See the caveats in the documentation: https://pandas.pydata.org/pandas-docs/stable/user_guide/indexing.html#returning-a-view-versus-a-copy\n",
            "  betas['Index'].iloc[i] = str(i)\n",
            "<ipython-input-569-32979ba70b13>:3: SettingWithCopyWarning: \n",
            "A value is trying to be set on a copy of a slice from a DataFrame\n",
            "\n",
            "See the caveats in the documentation: https://pandas.pydata.org/pandas-docs/stable/user_guide/indexing.html#returning-a-view-versus-a-copy\n",
            "  betas['Index'].iloc[i] = str(i)\n",
            "<ipython-input-569-32979ba70b13>:3: SettingWithCopyWarning: \n",
            "A value is trying to be set on a copy of a slice from a DataFrame\n",
            "\n",
            "See the caveats in the documentation: https://pandas.pydata.org/pandas-docs/stable/user_guide/indexing.html#returning-a-view-versus-a-copy\n",
            "  betas['Index'].iloc[i] = str(i)\n",
            "<ipython-input-569-32979ba70b13>:3: SettingWithCopyWarning: \n",
            "A value is trying to be set on a copy of a slice from a DataFrame\n",
            "\n",
            "See the caveats in the documentation: https://pandas.pydata.org/pandas-docs/stable/user_guide/indexing.html#returning-a-view-versus-a-copy\n",
            "  betas['Index'].iloc[i] = str(i)\n",
            "<ipython-input-569-32979ba70b13>:3: SettingWithCopyWarning: \n",
            "A value is trying to be set on a copy of a slice from a DataFrame\n",
            "\n",
            "See the caveats in the documentation: https://pandas.pydata.org/pandas-docs/stable/user_guide/indexing.html#returning-a-view-versus-a-copy\n",
            "  betas['Index'].iloc[i] = str(i)\n",
            "<ipython-input-569-32979ba70b13>:3: SettingWithCopyWarning: \n",
            "A value is trying to be set on a copy of a slice from a DataFrame\n",
            "\n",
            "See the caveats in the documentation: https://pandas.pydata.org/pandas-docs/stable/user_guide/indexing.html#returning-a-view-versus-a-copy\n",
            "  betas['Index'].iloc[i] = str(i)\n",
            "<ipython-input-569-32979ba70b13>:3: SettingWithCopyWarning: \n",
            "A value is trying to be set on a copy of a slice from a DataFrame\n",
            "\n",
            "See the caveats in the documentation: https://pandas.pydata.org/pandas-docs/stable/user_guide/indexing.html#returning-a-view-versus-a-copy\n",
            "  betas['Index'].iloc[i] = str(i)\n",
            "<ipython-input-569-32979ba70b13>:3: SettingWithCopyWarning: \n",
            "A value is trying to be set on a copy of a slice from a DataFrame\n",
            "\n",
            "See the caveats in the documentation: https://pandas.pydata.org/pandas-docs/stable/user_guide/indexing.html#returning-a-view-versus-a-copy\n",
            "  betas['Index'].iloc[i] = str(i)\n",
            "<ipython-input-569-32979ba70b13>:3: SettingWithCopyWarning: \n",
            "A value is trying to be set on a copy of a slice from a DataFrame\n",
            "\n",
            "See the caveats in the documentation: https://pandas.pydata.org/pandas-docs/stable/user_guide/indexing.html#returning-a-view-versus-a-copy\n",
            "  betas['Index'].iloc[i] = str(i)\n",
            "<ipython-input-569-32979ba70b13>:3: SettingWithCopyWarning: \n",
            "A value is trying to be set on a copy of a slice from a DataFrame\n",
            "\n",
            "See the caveats in the documentation: https://pandas.pydata.org/pandas-docs/stable/user_guide/indexing.html#returning-a-view-versus-a-copy\n",
            "  betas['Index'].iloc[i] = str(i)\n",
            "<ipython-input-569-32979ba70b13>:3: SettingWithCopyWarning: \n",
            "A value is trying to be set on a copy of a slice from a DataFrame\n",
            "\n",
            "See the caveats in the documentation: https://pandas.pydata.org/pandas-docs/stable/user_guide/indexing.html#returning-a-view-versus-a-copy\n",
            "  betas['Index'].iloc[i] = str(i)\n",
            "<ipython-input-569-32979ba70b13>:3: SettingWithCopyWarning: \n",
            "A value is trying to be set on a copy of a slice from a DataFrame\n",
            "\n",
            "See the caveats in the documentation: https://pandas.pydata.org/pandas-docs/stable/user_guide/indexing.html#returning-a-view-versus-a-copy\n",
            "  betas['Index'].iloc[i] = str(i)\n",
            "<ipython-input-569-32979ba70b13>:3: SettingWithCopyWarning: \n",
            "A value is trying to be set on a copy of a slice from a DataFrame\n",
            "\n",
            "See the caveats in the documentation: https://pandas.pydata.org/pandas-docs/stable/user_guide/indexing.html#returning-a-view-versus-a-copy\n",
            "  betas['Index'].iloc[i] = str(i)\n",
            "<ipython-input-569-32979ba70b13>:3: SettingWithCopyWarning: \n",
            "A value is trying to be set on a copy of a slice from a DataFrame\n",
            "\n",
            "See the caveats in the documentation: https://pandas.pydata.org/pandas-docs/stable/user_guide/indexing.html#returning-a-view-versus-a-copy\n",
            "  betas['Index'].iloc[i] = str(i)\n",
            "<ipython-input-569-32979ba70b13>:3: SettingWithCopyWarning: \n",
            "A value is trying to be set on a copy of a slice from a DataFrame\n",
            "\n",
            "See the caveats in the documentation: https://pandas.pydata.org/pandas-docs/stable/user_guide/indexing.html#returning-a-view-versus-a-copy\n",
            "  betas['Index'].iloc[i] = str(i)\n",
            "<ipython-input-569-32979ba70b13>:3: SettingWithCopyWarning: \n",
            "A value is trying to be set on a copy of a slice from a DataFrame\n",
            "\n",
            "See the caveats in the documentation: https://pandas.pydata.org/pandas-docs/stable/user_guide/indexing.html#returning-a-view-versus-a-copy\n",
            "  betas['Index'].iloc[i] = str(i)\n",
            "<ipython-input-569-32979ba70b13>:3: SettingWithCopyWarning: \n",
            "A value is trying to be set on a copy of a slice from a DataFrame\n",
            "\n",
            "See the caveats in the documentation: https://pandas.pydata.org/pandas-docs/stable/user_guide/indexing.html#returning-a-view-versus-a-copy\n",
            "  betas['Index'].iloc[i] = str(i)\n",
            "<ipython-input-569-32979ba70b13>:3: SettingWithCopyWarning: \n",
            "A value is trying to be set on a copy of a slice from a DataFrame\n",
            "\n",
            "See the caveats in the documentation: https://pandas.pydata.org/pandas-docs/stable/user_guide/indexing.html#returning-a-view-versus-a-copy\n",
            "  betas['Index'].iloc[i] = str(i)\n",
            "<ipython-input-569-32979ba70b13>:3: SettingWithCopyWarning: \n",
            "A value is trying to be set on a copy of a slice from a DataFrame\n",
            "\n",
            "See the caveats in the documentation: https://pandas.pydata.org/pandas-docs/stable/user_guide/indexing.html#returning-a-view-versus-a-copy\n",
            "  betas['Index'].iloc[i] = str(i)\n",
            "<ipython-input-569-32979ba70b13>:3: SettingWithCopyWarning: \n",
            "A value is trying to be set on a copy of a slice from a DataFrame\n",
            "\n",
            "See the caveats in the documentation: https://pandas.pydata.org/pandas-docs/stable/user_guide/indexing.html#returning-a-view-versus-a-copy\n",
            "  betas['Index'].iloc[i] = str(i)\n",
            "<ipython-input-569-32979ba70b13>:3: SettingWithCopyWarning: \n",
            "A value is trying to be set on a copy of a slice from a DataFrame\n",
            "\n",
            "See the caveats in the documentation: https://pandas.pydata.org/pandas-docs/stable/user_guide/indexing.html#returning-a-view-versus-a-copy\n",
            "  betas['Index'].iloc[i] = str(i)\n",
            "<ipython-input-569-32979ba70b13>:6: SettingWithCopyWarning: \n",
            "A value is trying to be set on a copy of a slice from a DataFrame\n",
            "\n",
            "See the caveats in the documentation: https://pandas.pydata.org/pandas-docs/stable/user_guide/indexing.html#returning-a-view-versus-a-copy\n",
            "  betar['Index'].iloc[i] = str(i)\n",
            "<ipython-input-569-32979ba70b13>:6: SettingWithCopyWarning: \n",
            "A value is trying to be set on a copy of a slice from a DataFrame\n",
            "\n",
            "See the caveats in the documentation: https://pandas.pydata.org/pandas-docs/stable/user_guide/indexing.html#returning-a-view-versus-a-copy\n",
            "  betar['Index'].iloc[i] = str(i)\n",
            "<ipython-input-569-32979ba70b13>:6: SettingWithCopyWarning: \n",
            "A value is trying to be set on a copy of a slice from a DataFrame\n",
            "\n",
            "See the caveats in the documentation: https://pandas.pydata.org/pandas-docs/stable/user_guide/indexing.html#returning-a-view-versus-a-copy\n",
            "  betar['Index'].iloc[i] = str(i)\n",
            "<ipython-input-569-32979ba70b13>:6: SettingWithCopyWarning: \n",
            "A value is trying to be set on a copy of a slice from a DataFrame\n",
            "\n",
            "See the caveats in the documentation: https://pandas.pydata.org/pandas-docs/stable/user_guide/indexing.html#returning-a-view-versus-a-copy\n",
            "  betar['Index'].iloc[i] = str(i)\n",
            "<ipython-input-569-32979ba70b13>:6: SettingWithCopyWarning: \n",
            "A value is trying to be set on a copy of a slice from a DataFrame\n",
            "\n",
            "See the caveats in the documentation: https://pandas.pydata.org/pandas-docs/stable/user_guide/indexing.html#returning-a-view-versus-a-copy\n",
            "  betar['Index'].iloc[i] = str(i)\n",
            "<ipython-input-569-32979ba70b13>:6: SettingWithCopyWarning: \n",
            "A value is trying to be set on a copy of a slice from a DataFrame\n",
            "\n",
            "See the caveats in the documentation: https://pandas.pydata.org/pandas-docs/stable/user_guide/indexing.html#returning-a-view-versus-a-copy\n",
            "  betar['Index'].iloc[i] = str(i)\n",
            "<ipython-input-569-32979ba70b13>:6: SettingWithCopyWarning: \n",
            "A value is trying to be set on a copy of a slice from a DataFrame\n",
            "\n",
            "See the caveats in the documentation: https://pandas.pydata.org/pandas-docs/stable/user_guide/indexing.html#returning-a-view-versus-a-copy\n",
            "  betar['Index'].iloc[i] = str(i)\n",
            "<ipython-input-569-32979ba70b13>:6: SettingWithCopyWarning: \n",
            "A value is trying to be set on a copy of a slice from a DataFrame\n",
            "\n",
            "See the caveats in the documentation: https://pandas.pydata.org/pandas-docs/stable/user_guide/indexing.html#returning-a-view-versus-a-copy\n",
            "  betar['Index'].iloc[i] = str(i)\n",
            "<ipython-input-569-32979ba70b13>:6: SettingWithCopyWarning: \n",
            "A value is trying to be set on a copy of a slice from a DataFrame\n",
            "\n",
            "See the caveats in the documentation: https://pandas.pydata.org/pandas-docs/stable/user_guide/indexing.html#returning-a-view-versus-a-copy\n",
            "  betar['Index'].iloc[i] = str(i)\n",
            "<ipython-input-569-32979ba70b13>:6: SettingWithCopyWarning: \n",
            "A value is trying to be set on a copy of a slice from a DataFrame\n",
            "\n",
            "See the caveats in the documentation: https://pandas.pydata.org/pandas-docs/stable/user_guide/indexing.html#returning-a-view-versus-a-copy\n",
            "  betar['Index'].iloc[i] = str(i)\n",
            "<ipython-input-569-32979ba70b13>:6: SettingWithCopyWarning: \n",
            "A value is trying to be set on a copy of a slice from a DataFrame\n",
            "\n",
            "See the caveats in the documentation: https://pandas.pydata.org/pandas-docs/stable/user_guide/indexing.html#returning-a-view-versus-a-copy\n",
            "  betar['Index'].iloc[i] = str(i)\n",
            "<ipython-input-569-32979ba70b13>:6: SettingWithCopyWarning: \n",
            "A value is trying to be set on a copy of a slice from a DataFrame\n",
            "\n",
            "See the caveats in the documentation: https://pandas.pydata.org/pandas-docs/stable/user_guide/indexing.html#returning-a-view-versus-a-copy\n",
            "  betar['Index'].iloc[i] = str(i)\n",
            "<ipython-input-569-32979ba70b13>:6: SettingWithCopyWarning: \n",
            "A value is trying to be set on a copy of a slice from a DataFrame\n",
            "\n",
            "See the caveats in the documentation: https://pandas.pydata.org/pandas-docs/stable/user_guide/indexing.html#returning-a-view-versus-a-copy\n",
            "  betar['Index'].iloc[i] = str(i)\n",
            "<ipython-input-569-32979ba70b13>:6: SettingWithCopyWarning: \n",
            "A value is trying to be set on a copy of a slice from a DataFrame\n",
            "\n",
            "See the caveats in the documentation: https://pandas.pydata.org/pandas-docs/stable/user_guide/indexing.html#returning-a-view-versus-a-copy\n",
            "  betar['Index'].iloc[i] = str(i)\n",
            "<ipython-input-569-32979ba70b13>:6: SettingWithCopyWarning: \n",
            "A value is trying to be set on a copy of a slice from a DataFrame\n",
            "\n",
            "See the caveats in the documentation: https://pandas.pydata.org/pandas-docs/stable/user_guide/indexing.html#returning-a-view-versus-a-copy\n",
            "  betar['Index'].iloc[i] = str(i)\n",
            "<ipython-input-569-32979ba70b13>:6: SettingWithCopyWarning: \n",
            "A value is trying to be set on a copy of a slice from a DataFrame\n",
            "\n",
            "See the caveats in the documentation: https://pandas.pydata.org/pandas-docs/stable/user_guide/indexing.html#returning-a-view-versus-a-copy\n",
            "  betar['Index'].iloc[i] = str(i)\n",
            "<ipython-input-569-32979ba70b13>:6: SettingWithCopyWarning: \n",
            "A value is trying to be set on a copy of a slice from a DataFrame\n",
            "\n",
            "See the caveats in the documentation: https://pandas.pydata.org/pandas-docs/stable/user_guide/indexing.html#returning-a-view-versus-a-copy\n",
            "  betar['Index'].iloc[i] = str(i)\n",
            "<ipython-input-569-32979ba70b13>:6: SettingWithCopyWarning: \n",
            "A value is trying to be set on a copy of a slice from a DataFrame\n",
            "\n",
            "See the caveats in the documentation: https://pandas.pydata.org/pandas-docs/stable/user_guide/indexing.html#returning-a-view-versus-a-copy\n",
            "  betar['Index'].iloc[i] = str(i)\n",
            "<ipython-input-569-32979ba70b13>:6: SettingWithCopyWarning: \n",
            "A value is trying to be set on a copy of a slice from a DataFrame\n",
            "\n",
            "See the caveats in the documentation: https://pandas.pydata.org/pandas-docs/stable/user_guide/indexing.html#returning-a-view-versus-a-copy\n",
            "  betar['Index'].iloc[i] = str(i)\n",
            "<ipython-input-569-32979ba70b13>:6: SettingWithCopyWarning: \n",
            "A value is trying to be set on a copy of a slice from a DataFrame\n",
            "\n",
            "See the caveats in the documentation: https://pandas.pydata.org/pandas-docs/stable/user_guide/indexing.html#returning-a-view-versus-a-copy\n",
            "  betar['Index'].iloc[i] = str(i)\n",
            "<ipython-input-569-32979ba70b13>:6: SettingWithCopyWarning: \n",
            "A value is trying to be set on a copy of a slice from a DataFrame\n",
            "\n",
            "See the caveats in the documentation: https://pandas.pydata.org/pandas-docs/stable/user_guide/indexing.html#returning-a-view-versus-a-copy\n",
            "  betar['Index'].iloc[i] = str(i)\n",
            "<ipython-input-569-32979ba70b13>:6: SettingWithCopyWarning: \n",
            "A value is trying to be set on a copy of a slice from a DataFrame\n",
            "\n",
            "See the caveats in the documentation: https://pandas.pydata.org/pandas-docs/stable/user_guide/indexing.html#returning-a-view-versus-a-copy\n",
            "  betar['Index'].iloc[i] = str(i)\n",
            "<ipython-input-569-32979ba70b13>:6: SettingWithCopyWarning: \n",
            "A value is trying to be set on a copy of a slice from a DataFrame\n",
            "\n",
            "See the caveats in the documentation: https://pandas.pydata.org/pandas-docs/stable/user_guide/indexing.html#returning-a-view-versus-a-copy\n",
            "  betar['Index'].iloc[i] = str(i)\n",
            "<ipython-input-569-32979ba70b13>:6: SettingWithCopyWarning: \n",
            "A value is trying to be set on a copy of a slice from a DataFrame\n",
            "\n",
            "See the caveats in the documentation: https://pandas.pydata.org/pandas-docs/stable/user_guide/indexing.html#returning-a-view-versus-a-copy\n",
            "  betar['Index'].iloc[i] = str(i)\n",
            "<ipython-input-569-32979ba70b13>:6: SettingWithCopyWarning: \n",
            "A value is trying to be set on a copy of a slice from a DataFrame\n",
            "\n",
            "See the caveats in the documentation: https://pandas.pydata.org/pandas-docs/stable/user_guide/indexing.html#returning-a-view-versus-a-copy\n",
            "  betar['Index'].iloc[i] = str(i)\n"
          ]
        }
      ]
    },
    {
      "cell_type": "code",
      "source": [
        "# Organizing columns order and making Index column as index of dataframe\n",
        "betas['Ticker'] = betas.index # create Ticker as data column\n",
        "betar['Ticker'] = betar.index # create Ticker as data column\n",
        "# set \"Index\" column as index\n",
        "betas = betas.set_index('Index')\n",
        "betar = betar.set_index('Index')\n",
        "# Columns rename\n",
        "betas= betas.reindex(['Ticker', 'Beta'], axis=1)\n",
        "betar= betar.reindex(['Ticker', 'Beta'], axis=1)\n",
        "# display(betas)\n",
        "# display(betar)"
      ],
      "metadata": {
        "id": "lS5QC2WxpRrc"
      },
      "execution_count": null,
      "outputs": []
    },
    {
      "cell_type": "code",
      "source": [
        "# excluding .SA, rename value market return and ascending order\n",
        "betas['Ticker'] = betas['Ticker'].str.replace('.SA', '')\n",
        "betar['Ticker'] = betar['Ticker'].str.replace('.SA', '')\n",
        "betas['Ticker'] = betas['Ticker'].str.replace('^BVSP', 'IBOV')\n",
        "betas = betas.sort_values(by='Ticker')\n",
        "betar = betar.sort_values(by='Ticker')\n",
        "# display(betas)\n",
        "# display(betar)"
      ],
      "metadata": {
        "id": "tMSdLbDspcvr"
      },
      "execution_count": null,
      "outputs": []
    },
    {
      "cell_type": "code",
      "execution_count": null,
      "metadata": {
        "id": "ODQ2jlYnQjNS"
      },
      "outputs": [],
      "source": [
        "# Autentication in Google Docs (only once)\n",
        "auth.authenticate_user()\n",
        "creds, _ = default()\n",
        "gc = gspread.authorize(creds)"
      ]
    },
    {
      "cell_type": "code",
      "execution_count": null,
      "metadata": {
        "id": "wyqrePZyZtys"
      },
      "outputs": [],
      "source": [
        "# Open workbook and worksheets\n",
        "wb = gc.open('Quotes')\n",
        "wss = wb.worksheet('BetaS')\n",
        "wsr = wb.worksheet('BetaR')"
      ]
    },
    {
      "cell_type": "code",
      "execution_count": null,
      "metadata": {
        "colab": {
          "base_uri": "https://localhost:8080/"
        },
        "id": "yjSeVpqvaYkH",
        "outputId": "700e1a2f-6494-4e41-da43-063db2e1dece"
      },
      "outputs": [
        {
          "output_type": "execute_result",
          "data": {
            "text/plain": [
              "{'spreadsheetId': '1qgTSxri55kYWVahW6sH3Fbn3ofWzhq93umUJhcwO7Uk',\n",
              " 'updatedRange': 'BetaR!A1:B26',\n",
              " 'updatedRows': 26,\n",
              " 'updatedColumns': 2,\n",
              " 'updatedCells': 52}"
            ]
          },
          "metadata": {},
          "execution_count": 574
        }
      ],
      "source": [
        "# Write data in the worksheets\n",
        "wss.update([betas.columns.values.tolist()] + betas.values.tolist())\n",
        "wsr.update([betar.columns.values.tolist()] + betar.values.tolist())"
      ]
    }
  ],
  "metadata": {
    "colab": {
      "provenance": [],
      "authorship_tag": "ABX9TyNtl5fzN0yLAAbhrq5LGAGe",
      "include_colab_link": true
    },
    "kernelspec": {
      "display_name": "Python 3",
      "name": "python3"
    },
    "language_info": {
      "name": "python"
    }
  },
  "nbformat": 4,
  "nbformat_minor": 0
}