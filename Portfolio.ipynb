{
  "cells": [
    {
      "cell_type": "markdown",
      "metadata": {
        "id": "view-in-github",
        "colab_type": "text"
      },
      "source": [
        "<a href=\"https://colab.research.google.com/github/maberf/colabs/blob/main/Portfolio.ipynb\" target=\"_parent\"><img src=\"https://colab.research.google.com/assets/colab-badge.svg\" alt=\"Open In Colab\"/></a>"
      ]
    },
    {
      "cell_type": "code",
      "source": [
        "# ##### PORTFOLIO INVESTOR CODE #####\n",
        "#\n",
        "# Code to upload data in Google Sheets to support investiments decisions.\n",
        "# The lists with the tickers and other informations should be filled directly in the code where there are INSERT OR ADJUST HERE lines.\n",
        "# IFIX historic series csv file with time desired (2y, 3y, etc.) from Investing.com should be downloaded to a Google Drive directory which is in the path in code - https://br.investing.com/indices/bm-fbovespa-real-estate-ifix-historical-data .\n",
        "# FUNDS EXPLORER - Copy and paste date from https://www.fundsexplorer.com.br/ranking in a Google Drive directory excel file which is in the path in code. It is necessary to SELECT ALL COLUMNS in Funds Explorer website.\n",
        "# Before to run the code it is necessary to make these activities.  Check the code below until the ENDING POINT TO MANUAL ACTIVITIES.\n",
        "# Verifiy data on thes files in case of code running problems."
      ],
      "metadata": {
        "id": "uDaN4LeB6Qd2"
      },
      "execution_count": 186,
      "outputs": []
    },
    {
      "cell_type": "code",
      "execution_count": 187,
      "metadata": {
        "id": "QVYwmuIWyMbm"
      },
      "outputs": [],
      "source": [
        "import pandas as pd\n",
        "import numpy as np\n",
        "from scipy.optimize import minimize\n",
        "import yfinance as yf\n",
        "import os\n",
        "import datetime as dt\n",
        "from google.colab import drive\n",
        "from google.colab import auth\n",
        "from google.auth import default\n",
        "import gspread"
      ]
    },
    {
      "cell_type": "code",
      "execution_count": 188,
      "metadata": {
        "id": "XGQGCggjjF0F"
      },
      "outputs": [],
      "source": [
        "# Stock tickers - Insert here# Real Estate Invesments Trust tickers - INSERT OR ADJUST HERE\n",
        "# Try to mantain IBOV + 25 assets in alphabetical order to easly adjust google docs spreadsheet\n",
        "tickers = ['^BVSP','ASAI3.SA','AURE3.SA','B3SA3.SA','BBAS3.SA','BBDC4.SA','BBSE3.SA','CGAS3.SA','CPFE3.SA','CSAN3.SA','EGIE3.SA','ELET6.SA','EMBR3.SA','IVVB11.SA','JHSF3.SA','KLBN11.SA','LEVE3.SA','LREN3.SA','ODPV3.SA','PETR4.SA','PRIO3.SA','STBP3.SA','TAEE11.SA','VALE3.SA','VIVT3.SA','WEGE3.SA']"
      ]
    },
    {
      "cell_type": "code",
      "execution_count": 189,
      "metadata": {
        "id": "j7mFM3kZa37g"
      },
      "outputs": [],
      "source": [
        "# Real Estate Investments Trust tickers - INSERT OR ADJUST HERE\n",
        "# Try to mantain IFIX + 20 assets in alphabetical order to easly adjust google docs spreadsheet\n",
        "# IFIX here only to a space in dataframe, yahoo finance return IFIX.SA maximum 5 days. IFIX should be calculated downloading an Investing.com csv file history and it must be uploaded in personal Google Drive. This code read it.\n",
        "tickerr = ['IFIX.SA','BTLG11.SA','HGCR11.SA','HGBS11.SA','HGRE11.SA','HGRU11.SA','HSLG11.SA','HSML11.SA','HTMX11.SA','JSAF11.SA','JFLL11.SA','KNCA11.SA','KNHF11.SA','KNIP11.SA','MXRF11.SA','MFII11.SA','SADI11.SA','TGAR11.SA','TRXF11.SA','VGHF11.SA','VISC11.SA']"
      ]
    },
    {
      "cell_type": "code",
      "source": [
        "# US Stocks tickers - INSERT OR ADJUST HERE\n",
        "# Try to mantain SP500 + USDBRL + 20 assets in alphabetical order to easly adjust google docs spreadsheet\n",
        "tickersus = ['^GSPC','USDBRL=X','AAPL','AIG','BAC','RIO','DHI','EXC','KMB','KO','LOPE','LYB','MGA','MSFT','MSTR','NUE','NVDA','TGT','TMUS','UPS','UNH','XOM']"
      ],
      "metadata": {
        "id": "3oGcgtj8QVcD"
      },
      "execution_count": 190,
      "outputs": []
    },
    {
      "cell_type": "code",
      "source": [
        "# US ETFs tickers - INSERT OR ADJUST HERE\n",
        "# Try to mantain SP500 + USDBRL + 10 assets in alphabetical order to easly adjust google docs spreadsheet\n",
        "tickereus = ['^GSPC','USDBRL=X','FBTC','JEPI','HACK', 'IVV','SCHD','SOXX','SPY','TLT','SMH','TFLO']"
      ],
      "metadata": {
        "id": "XLzaMHIfsuyc"
      },
      "execution_count": 191,
      "outputs": []
    },
    {
      "cell_type": "code",
      "source": [
        "# Portfolio tickers - INSERT OR ADJUST HERE\n",
        "tickerport = ['^BVSP','USDBRL=X','BBAS3.SA','BTLG11.SA','CPFE3.SA','ELET6.SA','FBTC','HSML11.SA','HTMX11.SA','IVVB11.SA','PETR4.SA','SADI11.SA','SCHD','TFLO','TGAR11.SA','TRXF11.SA','VALE3.SA']\n",
        "# Portfolio tickers weight - INSERT OR ADJUST HERE IN THE SAME ORDER!\n",
        "weightport = [0.0, 0.0, 0.000, 0.000,4.104, 8.341, 4.054, 3.112, 6.119, 9.021, 8.830, 7.681, 31.471, 4.016, 4.437, 5.242, 3.572]\n",
        "# Portfolio tickers expected returns - INSERT OR ADJUST HERE IN THE SAME ORDER!\n",
        "# IBOV (^BVSP) MUST always be zero!\n",
        "expretport = [0.0, 0.0, 0.0, 8.2, 15.5, 5.5, 18.0, 11.3, 26.1, 20.0, 32.1, 20.5, 18.0, 12.0, 28.7, 26.9, 17.0]"
      ],
      "metadata": {
        "id": "lbxAtnEFV3ex"
      },
      "execution_count": 192,
      "outputs": []
    },
    {
      "cell_type": "code",
      "source": [
        "# Risk free rate in percentage - INSERT OR ADJUST HERE\n",
        "riskfree = 15.00"
      ],
      "metadata": {
        "id": "uWISQcWhrNVd"
      },
      "execution_count": 193,
      "outputs": []
    },
    {
      "cell_type": "code",
      "source": [
        "# Target Sharpe in percentage of Sharpe Estimated Maximum - INSERT OR ADJUST HERE\n",
        "target_per = 75.00"
      ],
      "metadata": {
        "id": "mihd9qM96Br-"
      },
      "execution_count": 194,
      "outputs": []
    },
    {
      "cell_type": "code",
      "source": [
        "# Portfolio dataframe creation\n",
        "portfolio = pd.DataFrame({'Ticker': tickerport, 'W': weightport, 'RetE%':expretport})"
      ],
      "metadata": {
        "id": "94SgPSqR0Fi5"
      },
      "execution_count": 195,
      "outputs": []
    },
    {
      "cell_type": "code",
      "source": [
        "# Excluding .SA, renaming ^BVSP to IBOV and USDBRL=X to USDBRL\n",
        "portfolio['Ticker'] = portfolio['Ticker'].str.replace('.SA', '', regex=False)\n",
        "portfolio['Ticker'] = portfolio['Ticker'].str.replace('^BVSP', 'IBOV', regex=False)\n",
        "portfolio['Ticker'] = portfolio['Ticker'].str.replace('USDBRL=X', 'USDBRL', regex=False)\n",
        "# display(portfolio)"
      ],
      "metadata": {
        "id": "y5BMLvAG2F8b"
      },
      "execution_count": 196,
      "outputs": []
    },
    {
      "cell_type": "code",
      "execution_count": 197,
      "metadata": {
        "id": "lsdtOFcYy8Xx",
        "colab": {
          "base_uri": "https://localhost:8080/"
        },
        "outputId": "f7dcfe83-3b17-41f2-af35-4bad1aecfac1"
      },
      "outputs": [
        {
          "output_type": "stream",
          "name": "stderr",
          "text": [
            "[*********************100%***********************]  26 of 26 completed\n",
            "[*********************100%***********************]  21 of 21 completed\n",
            "[*********************100%***********************]  22 of 22 completed\n",
            "[*********************100%***********************]  12 of 12 completed\n",
            "[*********************100%***********************]  17 of 17 completed\n"
          ]
        }
      ],
      "source": [
        "# Load tickers history prices in a dataframe considering a certain period of time - ADJUST HERE, default 1 year (1y)\n",
        "# Sometimes some ticker has problems in yahoo finance. If it happens, close the session and try again. Or change the ticker, because problem in one ticker will cause problem in all code running.\n",
        "# Check success download completed to all dataframes, otherwise the code will broke in next lines.\n",
        "dfs = yf.download(tickers, period='2y', auto_adjust=True)['Close']\n",
        "dfr = yf.download(tickerr, period='2y', auto_adjust=True)['Close']\n",
        "dfsus = yf.download(tickersus, period='2y', auto_adjust=True)['Close']\n",
        "dfeus = yf.download(tickereus, period='2y', auto_adjust=True)['Close']\n",
        "dfport = yf.download(tickerport, period='2y', auto_adjust=True)['Close']\n",
        "# Remove timezone from index\n",
        "dfs.index = pd.to_datetime(dfs.index).tz_localize(None)\n",
        "dfr.index = pd.to_datetime(dfr.index).tz_localize(None)\n",
        "dfsus.index = pd.to_datetime(dfsus.index).tz_localize(None)\n",
        "dfeus.index = pd.to_datetime(dfeus.index).tz_localize(None)\n",
        "dfport.index = pd.to_datetime(dfport.index).tz_localize(None)\n",
        "# display(dfs)\n",
        "# display(dfr)\n",
        "# display(dfeus)\n",
        "# display(dfport)"
      ]
    },
    {
      "cell_type": "code",
      "source": [
        "# Convert US assets in BRL values, it should be adjusted according the assets in portfolio - ADJUST HERE\n",
        "dfport['SCHD'] = dfport['SCHD'] * dfport['USDBRL=X']\n",
        "dfport['TFLO'] = dfport['TFLO'] * dfport['USDBRL=X']\n",
        "dfport['FBTC'] = dfport['FBTC'] * dfport['USDBRL=X']\n",
        "# display(dfport)"
      ],
      "metadata": {
        "id": "TaNHjHLrezZz"
      },
      "execution_count": 198,
      "outputs": []
    },
    {
      "cell_type": "code",
      "source": [
        "# IFIX historic series from Investing.com to be appended in real state dataframe dfr - https://br.investing.com/indices/bm-fbovespa-real-estate-ifix-historical-data - MAKE THIS ACTIVITY\n",
        "# Download the file from site and copy to your google drive. Rename de file as history.csv. Adjust the path below in \" ifixfile = .... \" command line according your file location.\n",
        "# Google Drive mounth\n",
        "drive.mount('/content/drive', force_remount=True)\n",
        "# File path on Google Drive - Download the file and upload to Financas folder in Google Drive. Rename the path according file name uploaded.\n",
        "ifixfile = '/content/drive/MyDrive/Financas/history.csv'\n",
        "# File csv to dataframe converting quote to float\n",
        "ifix = pd.read_csv(ifixfile, thousands = '.', decimal = ',', dtype = {'Último':np.float64})\n",
        "# Excluding and rename columns\n",
        "ifix = ifix.drop(columns=['Abertura', 'Máxima', 'Mínima', 'Vol.', 'Var%'])\n",
        "ifix = ifix.rename(columns={'Data': 'Date', 'Último': 'IFIX.SA'})\n",
        "# Date format in Date column\n",
        "ifix['Date'] = pd.to_datetime(ifix['Date'], format='%d%m%Y', errors='coerce')\n",
        "ifix.set_index('Date', inplace=True)\n",
        "# Solve eventual duplicated registers, grouped by mean\n",
        "ifix = ifix.groupby(level=0).mean()\n",
        "# display(ifix)"
      ],
      "metadata": {
        "id": "OIILfCdkKEMK",
        "colab": {
          "base_uri": "https://localhost:8080/"
        },
        "outputId": "04842472-b5f0-406e-9d56-3e0d2255f7de"
      },
      "execution_count": 199,
      "outputs": [
        {
          "output_type": "stream",
          "name": "stdout",
          "text": [
            "Mounted at /content/drive\n"
          ]
        }
      ]
    },
    {
      "cell_type": "code",
      "source": [
        "# Go to Funds Explorer Table in https://www.fundsexplorer.com.br/ranking  - MAKE THIS ACTIVITY\n",
        "# Manually select all columns in web page and paste all data AS VALUES ONLY in a NEW Excel File sheet.\n",
        "# Save the file with the name fundsexplorer.xlsx in a folder called Financas (or in another preferable path, adjusting the path below)\n",
        "fundsexplorerfile = '/content/drive/MyDrive/Financas/fundsexplorer.xlsx'\n",
        "# Excel file reading\n",
        "fundsexplorer = pd.read_excel(fundsexplorerfile)\n",
        "#display(fundsexplorer)\n",
        "# The sequence of FUNDS EXPLORER ROUTINE, see at the end of the code."
      ],
      "metadata": {
        "id": "san5iymu-zXk"
      },
      "execution_count": 200,
      "outputs": []
    },
    {
      "cell_type": "code",
      "source": [
        "# ENDING POINT TO MANUAL ACTIVITIES. The code should run after this point. Permission to Google Drive access can be required during code running"
      ],
      "metadata": {
        "id": "OJdHGCI5_BDU"
      },
      "execution_count": 201,
      "outputs": []
    },
    {
      "cell_type": "code",
      "source": [
        "# Replace dfr dataframe by ifix values by index key (date)\n",
        "dfr.update(ifix)\n",
        "# display(dfr)"
      ],
      "metadata": {
        "id": "mdikcSplKQUd"
      },
      "execution_count": 202,
      "outputs": []
    },
    {
      "cell_type": "code",
      "source": [
        "# Excluding .SA, renaming ^BVSP to IBOV, ^GSPC to SP500\n",
        "dfs.columns = [col.replace('.SA', '') for col in dfs.columns]\n",
        "dfs.columns = [col.replace('^BVSP', 'IBOV') for col in dfs.columns]\n",
        "dfr.columns = [col.replace('.SA', '') for col in dfr.columns]\n",
        "dfsus.columns = [col.replace('^GSPC', 'SP500') for col in dfsus.columns]\n",
        "dfsus.columns = [col.replace('USDBRL=X', 'USDBRL') for col in dfsus.columns]\n",
        "dfeus.columns = [col.replace('^GSPC', 'SP500') for col in dfeus.columns]\n",
        "dfeus.columns = [col.replace('USDBRL=X', 'USDBRL') for col in dfeus.columns]\n",
        "dfport.columns = [col.replace('.SA', '') for col in dfport.columns]\n",
        "dfport.columns = [col.replace('^BVSP', 'IBOV') for col in dfport.columns]\n",
        "dfport.columns = [col.replace('USDBRL=X', 'USDBRL') for col in dfport.columns]"
      ],
      "metadata": {
        "id": "oHbSRWbA7xsq"
      },
      "execution_count": 203,
      "outputs": []
    },
    {
      "cell_type": "code",
      "execution_count": 204,
      "metadata": {
        "id": "UDCUEPHVJjoL"
      },
      "outputs": [],
      "source": [
        "# Exclude NaNs, in the first row and in the dfr Date registers that not included in IFIX excel file.\n",
        "dfs.dropna(inplace=True)\n",
        "dfr.dropna(inplace=True)\n",
        "dfsus.dropna(inplace=True)\n",
        "dfeus.dropna(inplace=True)\n",
        "dfport.dropna(inplace=True)\n",
        "# Other conformations such as ascending order and the market indexes in the first column\n",
        "dfs = dfs[sorted(dfs.columns)]\n",
        "dfr = dfr[sorted(dfr.columns)]\n",
        "dfsus = dfsus[sorted(dfsus.columns)]\n",
        "dfus = dfeus[sorted(dfeus.columns)]\n",
        "dfport = dfport[sorted(dfport.columns)]\n",
        "dfs = dfs[['IBOV'] + [col for col in dfs.columns if col != 'IBOV']]\n",
        "dfr = dfr[['IFIX'] + [col for col in dfr.columns if col != 'IFIX']]\n",
        "dfsus = dfsus[['SP500', 'USDBRL'] + [col for col in dfsus.columns if col not in ['SP500', 'USDBRL']]]\n",
        "dfeus = dfeus[['SP500', 'USDBRL'] + [col for col in dfeus.columns if col not in ['SP500', 'USDBRL']]]\n",
        "dfport = dfport[['IBOV', 'USDBRL'] + [col for col in dfport.columns if col not in ['IBOV', 'USDBRL']]]\n",
        "# Here dataframes should be ready for calculations. It will be made and uploaded in dfxvar dataframes later.\n",
        "# display(dfs)\n",
        "# display(dfr)\n",
        "# display(dfsus)\n",
        "# display(dfeus)\n",
        "# display(dfport)"
      ]
    },
    {
      "cell_type": "code",
      "execution_count": 205,
      "metadata": {
        "id": "TcgVC4D3YRGZ"
      },
      "outputs": [],
      "source": [
        "# Calculate daily variation\n",
        "dfsvar = dfs.pct_change()\n",
        "dfrvar = dfr.pct_change()\n",
        "dfsusvar = dfsus.pct_change()\n",
        "dfeusvar = dfeus.pct_change()\n",
        "dfportvar = dfport.pct_change()\n",
        "# Excluding MaNs first line\n",
        "dfsvar.dropna(inplace=True)\n",
        "dfrvar.dropna(inplace=True)\n",
        "dfsusvar.dropna(inplace=True)\n",
        "dfeusvar.dropna(inplace=True)\n",
        "dfportvar.dropna(inplace=True)\n",
        "# display(dfsvar)\n",
        "# display(dfrvar)\n",
        "# display(dfsusvar)\n",
        "# display(dfeusvar)\n",
        "# display(dfportvar)"
      ]
    },
    {
      "cell_type": "code",
      "source": [
        "# Market Percentage Historic Return calculation and column add in output dataframes\n",
        "stockvar = pd.DataFrame(dfsvar.mean()*252*100).rename(columns={0: 'RetH%'})\n",
        "stockvar.index.name = 'Ticker'\n",
        "stockvar['RetH%'] = stockvar['RetH%'].round(1)\n",
        "realstatevar = pd.DataFrame(dfrvar.mean()*252*100).rename(columns={0: 'RetH%'})\n",
        "realstatevar.index.name = 'Ticker'\n",
        "realstatevar['RetH%'] = realstatevar['RetH%'].round(1)\n",
        "stockusvar = pd.DataFrame(dfsusvar.mean()*252*100).rename(columns={0: 'RetH%'})\n",
        "stockusvar.index.name = 'Ticker'\n",
        "stockusvar['RetH%'] = stockusvar['RetH%'].round(1)\n",
        "etfusvar = pd.DataFrame(dfeusvar.mean()*252*100).rename(columns={0: 'RetH%'})\n",
        "etfusvar.index.name = 'Ticker'\n",
        "etfusvar['RetH%'] = etfusvar['RetH%'].round(1)\n",
        "portvar = pd.DataFrame(dfportvar.mean()*252*100).rename(columns={0: 'RetH%'})\n",
        "portvar.index.name = 'Ticker'\n",
        "portvar['RetH%'] = portvar['RetH%'].round(1)\n",
        "# display(stockvar)\n",
        "# display(realstatevar)\n",
        "# display(stockusvar)\n",
        "# display(etfusvar)\n",
        "# display(portvar)"
      ],
      "metadata": {
        "id": "sIp8E6j_gf-v"
      },
      "execution_count": 206,
      "outputs": []
    },
    {
      "cell_type": "code",
      "execution_count": 207,
      "metadata": {
        "id": "Dbp_7QIAZ2bh"
      },
      "outputs": [],
      "source": [
        "# Market return variance calculation\n",
        "vars = dfsvar.var()*252\n",
        "varr = dfrvar.var()*252\n",
        "varsus = dfsusvar.var()*252\n",
        "vareus = dfeusvar.var()*252\n",
        "varport = dfportvar.var()*252\n",
        "# display(vars)\n",
        "# display(varr)\n",
        "# display(varsus)\n",
        "# display(vareus)\n",
        "# display(varport)"
      ]
    },
    {
      "cell_type": "code",
      "source": [
        "# Market risk calculation, in percentage (%). Add column in output dataframes\n",
        "stockvar['Risk%'] = dfsvar.std()*np.sqrt(252)*100\n",
        "stockvar['Risk%'] = stockvar['Risk%'].round(0)\n",
        "realstatevar['Risk%'] = dfrvar.std()*np.sqrt(252)*100\n",
        "realstatevar['Risk%'] = realstatevar['Risk%'].round(0)\n",
        "stockusvar['Risk%'] = dfsusvar.std()*np.sqrt(252)*100\n",
        "stockusvar['Risk%'] = stockusvar['Risk%'].round(0)\n",
        "etfusvar['Risk%'] = dfeusvar.std()*np.sqrt(252)*100\n",
        "etfusvar['Risk%'] = etfusvar['Risk%'].round(0)\n",
        "portvar['Risk%'] = dfportvar.std()*np.sqrt(252)*100\n",
        "portvar['Risk%'] = portvar['Risk%'].round(0)\n",
        "# display(stockvar)\n",
        "# display(realstatevar)\n",
        "# display(stockusvar)\n",
        "# display(etfusvar)\n",
        "# display(portvar)"
      ],
      "metadata": {
        "id": "wa3KeoAjpuGF"
      },
      "execution_count": 208,
      "outputs": []
    },
    {
      "cell_type": "code",
      "execution_count": 209,
      "metadata": {
        "id": "foFpvk98EV1M"
      },
      "outputs": [],
      "source": [
        "# Covariance calculation\n",
        "covs = dfsvar.cov()*252\n",
        "covr = dfrvar.cov()*252\n",
        "covsus = dfsusvar.cov()*252\n",
        "coveus = dfeusvar.cov()*252\n",
        "covport = dfportvar.cov()*252\n",
        "# display(covs)\n",
        "# display(covr)\n",
        "# display(covsus)\n",
        "# display(coveus)\n",
        "# display(covport)"
      ]
    },
    {
      "cell_type": "code",
      "execution_count": 210,
      "metadata": {
        "id": "ZFGifgTrAoDA"
      },
      "outputs": [],
      "source": [
        "# Beta calculation\n",
        "betas = covs['IBOV']/vars['IBOV']\n",
        "betas = betas.round(3)\n",
        "betas.name = 'Beta'\n",
        "betar = covr['IFIX']/varr['IFIX']\n",
        "betar = betar.round(3)\n",
        "betar.name = 'Beta'\n",
        "betasus = covsus['SP500']/varsus['SP500']\n",
        "betasus = betasus.round(3)\n",
        "betasus.name = 'Beta'\n",
        "betaeus = coveus['SP500']/vareus['SP500']\n",
        "betaeus = betaeus.round(3)\n",
        "betaeus.name = 'Beta'\n",
        "betaport = covport['IBOV']/varport['IBOV']\n",
        "betaport = betaport.round(3)\n",
        "betaport.name = 'Beta'\n",
        "# display(betas)\n",
        "# display(betar)\n",
        "# display(betasus)\n",
        "# display(betaeus)\n",
        "# display(betaport)"
      ]
    },
    {
      "cell_type": "code",
      "source": [
        "# Adding Beta to column output dataframes\n",
        "stockvar['Beta'] = betas\n",
        "realstatevar['Beta'] = betar\n",
        "stockusvar['Beta'] = betasus\n",
        "etfusvar['Beta'] = betaeus\n",
        "portvar['Beta'] = betaport\n",
        "# display(stockvar)\n",
        "# display(realstatevar)\n",
        "# display(stockusvar)\n",
        "# display(etfusvar)\n",
        "# display(portvar)"
      ],
      "metadata": {
        "id": "Zanbv1uJnfju"
      },
      "execution_count": 211,
      "outputs": []
    },
    {
      "cell_type": "code",
      "source": [
        "# Adding Min to column output dataframes\n",
        "stockvar['Min'] = dfs.min()\n",
        "stockvar['Min'] = stockvar['Min'].round(2)\n",
        "realstatevar['Min'] = dfr.min()\n",
        "realstatevar['Min'] = realstatevar['Min'].round(2)\n",
        "stockusvar['Min'] = dfsus.min()\n",
        "stockusvar['Min'] = stockusvar['Min'].round(2)\n",
        "etfusvar['Min'] = dfeus.min()\n",
        "etfusvar['Min'] = etfusvar['Min'].round(2)\n",
        "portvar['Min'] = dfport.min()\n",
        "portvar['Min'] = portvar['Min'].round(2)\n",
        "# display(stockvar)\n",
        "# display(realstatevar)\n",
        "# display(stockusvar)\n",
        "# display(etfusvar)\n",
        "# display(portvar)"
      ],
      "metadata": {
        "id": "YnAEVEP1YD4a"
      },
      "execution_count": 212,
      "outputs": []
    },
    {
      "cell_type": "code",
      "source": [
        "# Adding Max to column output dataframes\n",
        "stockvar['Max'] = dfs.max()\n",
        "stockvar['Max'] = stockvar['Max'].round(2)\n",
        "realstatevar['Max'] = dfr.max()\n",
        "realstatevar['Max'] = realstatevar['Max'].round(2)\n",
        "stockusvar['Max'] = dfsus.max()\n",
        "stockusvar['Max'] = stockusvar['Max'].round(2)\n",
        "etfusvar['Max'] = dfeus.max()\n",
        "etfusvar['Max'] = etfusvar['Max'].round(2)\n",
        "portvar['Max'] = dfport.max()\n",
        "portvar['Max'] = portvar['Max'].round(2)\n",
        "# display(stockvar)\n",
        "# display(realstatevar)\n",
        "# display(stockusvar)\n",
        "# display(etfusvar)\n",
        "# display(portvar)"
      ],
      "metadata": {
        "id": "v4fdFkBNZ6Ei"
      },
      "execution_count": 213,
      "outputs": []
    },
    {
      "cell_type": "code",
      "source": [
        "# Organizing columns order and making Index column as index of dataframes\n",
        "stockvar = stockvar.reset_index()\n",
        "realstatevar = realstatevar.reset_index()\n",
        "stockusvar = stockusvar.reset_index()\n",
        "etfusvar = etfusvar.reset_index()\n",
        "portvar = portvar.reset_index()\n",
        "# display(stockvar)\n",
        "# display(realstatevar)\n",
        "# display(stockusvar)\n",
        "# display(etfusvar)\n",
        "# display(portvar)"
      ],
      "metadata": {
        "id": "YYMn4_w7vIg-"
      },
      "execution_count": 214,
      "outputs": []
    },
    {
      "cell_type": "code",
      "source": [
        "# FUNCTIONS TO CALCULATE PORTFOLIO ERFORMANCE, MAXIMUM SHARPE AND TARGET SHARPE\n",
        "# --- Exemplo de uso ---\n",
        "# Supondo que você tem df_returns (DataFrame) com retornos log ou simples, calculados diariamente/mensalmente:\n",
        "# mu = df_returns.mean().values           # retorno médio por ativo (periodicidade compatível)\n",
        "# cov = df_returns.cov().values           # matriz de covariância\n",
        "# risk_free = 0.0                         # ajuste conforme sua periodicidade (ex: taxa anual/252 para dia)\n",
        "#\n",
        "# res_max, w_max = max_sharpe_weights(mu, cov, riskfree)\n",
        "# print(\"Max Sharpe:\", portfolio_performance(w_max, mu, cov, risk_free)[2], \"pesos:\", w_max)\n",
        "#\n",
        "# target = 1.2\n",
        "# res_tgt, w_tgt, info = weights_for_target_sharpe(mu, cov, target, riskfree)\n",
        "# print(\"Resultado objetivo:\", info)\n",
        "# print(\"Pesos:\", w_tgt)"
      ],
      "metadata": {
        "id": "zxy68IXCDDSi"
      },
      "execution_count": 215,
      "outputs": []
    },
    {
      "cell_type": "code",
      "source": [
        "# Portfolio dataframe assembling\n",
        "portfolio = pd.merge(portfolio, portvar, on='Ticker', how='inner')\n",
        "# portfolio = portfolio[sorted(portfolio.columns)]\n",
        "# portfolio = portfolio[['IBOV', 'USDBRL'] + [col for col in portfolio.columns if col not in ['IBOV', 'USDBRL']]]\n",
        "# firstsnames = ['IBOV','USDBRL']\n",
        "firstsnames = ['IBOV', 'USDBRL']\n",
        "portfolio.iloc[2:] = portfolio[~portfolio['Ticker'].isin(firstsnames)].sort_values(by='Ticker').values\n",
        "# display(portfolio)"
      ],
      "metadata": {
        "id": "T366MMVaumwm"
      },
      "execution_count": 216,
      "outputs": []
    },
    {
      "cell_type": "code",
      "source": [
        "# Portfolio PERFORMANCE calculation function\n",
        "def portfolio_performance(weights, mu, cov, riskfree):\n",
        "    \"\"\"\n",
        "    Retorna (retorno_portfolio, volatilidade_portfolio, sharpe_portfolio)\n",
        "    expected_returns: vetor de retornos esperados por ativo (numpy array)\n",
        "    cov: matriz de covariância (numpy array)\n",
        "    weights: vetor de pesos\n",
        "    riskfree: taxa livre de risco (mesma periodicidade)\n",
        "    \"\"\"\n",
        "    w = np.array(weights)\n",
        "    ret = float(np.dot(w, mu))\n",
        "    vol = float(np.sqrt(w.T @ cov @ w))\n",
        "    if vol == 0:\n",
        "        sharpe = 0.0\n",
        "    else:\n",
        "        sharpe = (ret - riskfree) / vol\n",
        "    return ret, vol, sharpe"
      ],
      "metadata": {
        "id": "bpOdj8EKhd5r"
      },
      "execution_count": 217,
      "outputs": []
    },
    {
      "cell_type": "code",
      "source": [
        "riskfree = riskfree / 100 # Risk Free is indicated in percentage"
      ],
      "metadata": {
        "id": "Jwb09_JnsmBy"
      },
      "execution_count": 218,
      "outputs": []
    },
    {
      "cell_type": "code",
      "source": [
        "weights = [values / 100 for values in weightport] # Expected Returns are indicated in percentage"
      ],
      "metadata": {
        "id": "41tz294FuOTM"
      },
      "execution_count": 219,
      "outputs": []
    },
    {
      "cell_type": "code",
      "source": [
        "# Convert covariance dataframe in numpy matrix\n",
        "cov = covport.values"
      ],
      "metadata": {
        "id": "8Scvi-sRpy8l"
      },
      "execution_count": 220,
      "outputs": []
    },
    {
      "cell_type": "code",
      "source": [
        "# Extracting expected returns\n",
        "mu = portfolio['RetE%'].values / 100"
      ],
      "metadata": {
        "id": "Jhj-5HIcpryC"
      },
      "execution_count": 221,
      "outputs": []
    },
    {
      "cell_type": "code",
      "source": [
        "# Porfolio Expected Return, Expected Risk and Expected Sharpe calculations\n",
        "portfolioretexptotal, portfolioriskexptotal, portfoliosharpeexp = portfolio_performance(weights, mu, cov, riskfree)\n",
        "# print (portfolioretexptotal, portfolioriskexptotal, portfoliosharpeexp)"
      ],
      "metadata": {
        "id": "4-Br_bRqnqxY"
      },
      "execution_count": 222,
      "outputs": []
    },
    {
      "cell_type": "code",
      "source": [
        "# Portfolio adding columns with Total Return, Total Risk and Sharpe values in first register(in the same line of IBOV value index). Other registers being filled with zero.\n",
        "portfolio['RetET%'] = [portfolioretexptotal * 100] + [0] * (len(portfolio) - 1)\n",
        "portfolio['RetET%'] = portfolio['RetET%'].round(1)\n",
        "portfolio['RiskET%'] = [portfolioriskexptotal * 100] + [0] * (len(portfolio) - 1)\n",
        "portfolio['RiskET%'] = portfolio['RiskET%'].round(0)\n",
        "portfolio['SharpeE'] = [portfoliosharpeexp] + [0] * (len(portfolio) - 1)\n",
        "portfolio['SharpeE'] = portfolio['SharpeE'].round(3)"
      ],
      "metadata": {
        "id": "shtCO9Nl2dSK"
      },
      "execution_count": 223,
      "outputs": []
    },
    {
      "cell_type": "code",
      "source": [
        "# Extracting real returns\n",
        "mu = portfolio['RetH%'].values / 100"
      ],
      "metadata": {
        "id": "GqMxgTCOZmEx"
      },
      "execution_count": 224,
      "outputs": []
    },
    {
      "cell_type": "code",
      "source": [
        "# Porfolio Real (historic) Return, Risk and Sharpe calculations\n",
        "portfoliorettotal, portfoliorisktotal, portfoliosharpe = portfolio_performance(weights, mu, cov, riskfree)\n",
        "# print (portfoliorettotal, portfoliorisktotal, portfoliosharpe)"
      ],
      "metadata": {
        "id": "oyK_ofgwZctI"
      },
      "execution_count": 225,
      "outputs": []
    },
    {
      "cell_type": "code",
      "source": [
        "portfolio['RetHT%'] = [portfoliorettotal * 100] + [0] * (len(portfolio) - 1)\n",
        "portfolio['RetHT%'] = portfolio['RetHT%'].round(1)\n",
        "portfolio['SharpeH'] = [portfoliosharpe] + [0] * (len(portfolio) - 1)\n",
        "portfolio['SharpeH'] = portfolio['SharpeH'].round(3)"
      ],
      "metadata": {
        "id": "ma0xRkeeZYQo"
      },
      "execution_count": 226,
      "outputs": []
    },
    {
      "cell_type": "code",
      "source": [
        "# Calculate Total Beta and add in IBOV line\n",
        "portfolio.at[0, 'Beta'] = (portfolio['W'] / 100 * portfolio['Beta']).sum()\n",
        "portfolio['Beta'] = portfolio['Beta'].round(3)\n",
        "# display(portfolio)"
      ],
      "metadata": {
        "id": "zrwKGlz1YxsT"
      },
      "execution_count": 227,
      "outputs": []
    },
    {
      "cell_type": "code",
      "source": [
        "# Portfolio MAXIMUM SHARPE calculation function\n",
        "def max_sharpe_weights(mu, cov, risk_free, bounds=None, constraints=None):\n",
        "    \"\"\"\n",
        "    Encontra os pesos que maximizam o Sharpe (usando minimize sobre -sharpe).\n",
        "    bounds: lista de tuplas (min, max) por ativo. padrão: (0,1) para todos.\n",
        "    constraints: lista de constraint dicts para scipy.optimize.minimize (opcional).\n",
        "    Retorna o dicionário de resultado e os pesos ótimos.\n",
        "    \"\"\"\n",
        "    n = len(mu)\n",
        "    if bounds is None:\n",
        "        bounds = tuple((0.0, 1.0) for _ in range(n))\n",
        "    # restrição: soma dos pesos = 1\n",
        "    cons = [{'type':'eq', 'fun': lambda w: np.sum(w) - 1.0}]\n",
        "    if constraints:\n",
        "        cons.extend(constraints)\n",
        "    # inicialização: pesos iguais\n",
        "    x0 = np.ones(n) / n\n",
        "\n",
        "    def neg_sharpe(w):\n",
        "        _, _, s = portfolio_performance(w, mu, cov, riskfree)\n",
        "        return -s\n",
        "\n",
        "    res = minimize(neg_sharpe, x0, method='SLSQP', bounds=bounds, constraints=cons)\n",
        "    return res, res.x if res.success else None"
      ],
      "metadata": {
        "id": "9Cx0c3DfzhKr"
      },
      "execution_count": 228,
      "outputs": []
    },
    {
      "cell_type": "code",
      "source": [
        "# Extracting expected returns to calculte Sharpe Maximum\n",
        "mu = portfolio['RetE%'].values / 100"
      ],
      "metadata": {
        "id": "AMi5HgdAdVGn"
      },
      "execution_count": 229,
      "outputs": []
    },
    {
      "cell_type": "code",
      "source": [
        "res_max, w_max = max_sharpe_weights(mu, cov, riskfree)\n",
        "print(\"Max Sharpe:\", portfolio_performance(w_max, mu, cov, riskfree)[2], \"pesos:\", w_max)\n",
        "# print(\"Ret Max Sharpe:\", w_max)"
      ],
      "metadata": {
        "id": "DO9nFtdx0IG1",
        "colab": {
          "base_uri": "https://localhost:8080/"
        },
        "outputId": "5b40e683-73aa-47d8-d886-da8111442eaa"
      },
      "execution_count": 230,
      "outputs": [
        {
          "output_type": "stream",
          "name": "stdout",
          "text": [
            "Max Sharpe: 1.4969204388169215 pesos: [9.95724372e-16 0.00000000e+00 0.00000000e+00 3.12215424e-16\n",
            " 0.00000000e+00 6.81310643e-16 0.00000000e+00 3.28754312e-16\n",
            " 1.03478640e-01 3.51760172e-02 1.38164490e-01 1.41049659e-01\n",
            " 0.00000000e+00 0.00000000e+00 5.15265067e-02 5.30604688e-01\n",
            " 6.54807752e-17]\n"
          ]
        }
      ]
    },
    {
      "cell_type": "code",
      "source": [
        "#  Add Maximum Sharpe ticker weights to portfolio dataframe\n",
        "portfolio['ShMaxE-W'] = w_max.round(3) * 100\n",
        "# display(portfolio)"
      ],
      "metadata": {
        "id": "kpBjFnaUEZxP"
      },
      "execution_count": 231,
      "outputs": []
    },
    {
      "cell_type": "code",
      "source": [
        "# Add Maximum Sharpe value to portfolio dataframe in the first line\n",
        "portfolio.at[0, 'ShMaxE-W'] = round(portfolio_performance(w_max, mu, cov, riskfree)[2], 3)\n",
        "# display(portfolio)"
      ],
      "metadata": {
        "id": "NajFekHEGdNy"
      },
      "execution_count": 232,
      "outputs": []
    },
    {
      "cell_type": "code",
      "source": [
        "# Add Sharpe Maximum Return column and the value in the first line\n",
        "portfolio['ShMaxRetE%'] = [portfolio_performance(w_max, mu, cov, riskfree)[0] *100] + [0] * (len(portfolio) - 1)\n",
        "portfolio['ShMaxRetE%'] = portfolio['ShMaxRetE%'].round(1)\n",
        "# display(portfolio)"
      ],
      "metadata": {
        "id": "IgOuvel89-d-"
      },
      "execution_count": 233,
      "outputs": []
    },
    {
      "cell_type": "code",
      "source": [
        "# Portfolio TARGET SHARPE calculation function\n",
        "def weights_for_target_sharpe(mu, cov, target_sharpe, riskfree, bounds=None, tol=1e-6, maxiter=1000):\n",
        "    \"\"\"\n",
        "    Encontra pesos que aproximem um Sharpe alvo, minimizando o erro quadrático entre Sharpe(weights) e target_sharpe.\n",
        "    Retorna o resultado da otimização e os pesos.\n",
        "    Observação: A solução pode ser inviável exatamente; a rotina busca o vetor que minimize o erro.\n",
        "    \"\"\"\n",
        "    n = len(mu)\n",
        "    if bounds is None:\n",
        "        bounds = tuple((0.0, 1.0) for _ in range(n))\n",
        "\n",
        "    # restrição: soma dos pesos = 1\n",
        "    cons = [{'type':'eq', 'fun': lambda w: np.sum(w) - 1.0}]\n",
        "\n",
        "    # inicialização: use o max-sharpe como chute inicial, se possível\n",
        "    try:\n",
        "        res_max, w0 = max_sharpe_weights(mu, cov, riskfree, bounds=bounds)\n",
        "        if w0 is None:\n",
        "            x0 = np.ones(n) / n\n",
        "        else:\n",
        "            x0 = w0\n",
        "    except Exception:\n",
        "        x0 = np.ones(n) / n\n",
        "\n",
        "    def sharpe_err_sq(w):\n",
        "        _, _, s = portfolio_performance(w, mu, cov, riskfree)\n",
        "        return (s - target_sharpe)**2\n",
        "\n",
        "    opts = {'maxiter': maxiter, 'ftol': tol}\n",
        "    res = minimize(sharpe_err_sq, x0, method='SLSQP', bounds=bounds, constraints=cons, options=opts)\n",
        "\n",
        "    # informação extra: distância do objetivo e performance\n",
        "    if res.success:\n",
        "        ret, vol, s = portfolio_performance(res.x, mu, cov, riskfree)\n",
        "        info = {'target_sharpe': target_sharpe, 'achieved_sharpe': s, 'ret': ret, 'vol': vol}\n",
        "    else:\n",
        "        info = {'message': res.message}\n",
        "\n",
        "    return res, res.x if res.success else None, info\n"
      ],
      "metadata": {
        "id": "Pu2esCZZC9iU"
      },
      "execution_count": 234,
      "outputs": []
    },
    {
      "cell_type": "code",
      "source": [
        "# TARGET SHARPE definition\n",
        "# Target the average between Estimated Sharpe and Maximum Estimated Sharpe\n",
        "# target = portfolio.at[0, 'SharpeE'] + ((portfolio.at[0, 'ShMaxE-W'] - portfolio.at[0, 'SharpeE']) / 2)\n",
        "# Target as percentage of Maximum Estimated Sharpe\n",
        "target = portfolio.at[0, 'ShMaxE-W'] * target_per / 100\n",
        "print(\"Target:\", target)\n",
        "res_tgt, w_tgt, info = weights_for_target_sharpe(mu, cov, target, riskfree)\n",
        "# print(\"Resultado objetivo:\", info)\n",
        "# print(\"Pesos:\", w_tgt)\n",
        "# print(\"Achieved Sharpe:\", info['achieved_sharpe'])"
      ],
      "metadata": {
        "colab": {
          "base_uri": "https://localhost:8080/"
        },
        "id": "OkyehKloSCe3",
        "outputId": "ff95ccf7-266a-4020-95ed-2a25dbe25a8a"
      },
      "execution_count": 235,
      "outputs": [
        {
          "output_type": "stream",
          "name": "stdout",
          "text": [
            "Target: 1.1227500000000001\n"
          ]
        }
      ]
    },
    {
      "cell_type": "code",
      "source": [
        "#  Add Target Sharpe ticker weights to portfolio dataframe\n",
        "portfolio['ShTg-W'] = (w_tgt * 100).round(3)\n",
        "# Add Target (Achieved) Sharpe value to portfolio dataframe in the first line\n",
        "portfolio.at[0, 'ShTg-W'] = round(info['achieved_sharpe'], 3)\n",
        "# Add Target Maximum Return column and the value in the first line\n",
        "portfolio['ShTgRetE%'] = [portfolio_performance(w_tgt, mu, cov, riskfree)[0] *100] + [0] * (len(portfolio) - 1)\n",
        "portfolio['ShTgRetE%'] = portfolio['ShTgRetE%'].round(1)\n",
        "display(portfolio)"
      ],
      "metadata": {
        "colab": {
          "base_uri": "https://localhost:8080/",
          "height": 582
        },
        "id": "urDEchwGUwei",
        "outputId": "9a689e71-5f98-430e-bb2d-1786933874c9"
      },
      "execution_count": 236,
      "outputs": [
        {
          "output_type": "display_data",
          "data": {
            "text/plain": [
              "    Ticker       W  RetE%  RetH%  Risk%   Beta        Min        Max  RetET%  \\\n",
              "0     IBOV   0.000    0.0    6.4   14.0  0.357  118533.00  146492.00    19.4   \n",
              "1   USDBRL   0.000    0.0    6.7   13.0 -0.007       4.86       6.30     0.0   \n",
              "2    BBAS3   0.000    0.0   -5.9   23.0  0.838      18.35      29.22     0.0   \n",
              "3   BTLG11   0.000    8.2   11.2   12.0 -0.014      79.11     103.47     0.0   \n",
              "4    CPFE3   4.104   15.5    4.0   20.0  0.637      31.00      41.23     0.0   \n",
              "5    ELET6   8.341    5.5   20.5   22.0  1.023      35.38      57.34     0.0   \n",
              "6     FBTC   4.054   18.0   68.0   53.0  0.527     171.30     583.82     0.0   \n",
              "7   HSML11   3.112   11.3    4.1   15.0  0.142      64.45      85.98     0.0   \n",
              "8   HTMX11   6.119   26.1    3.9   24.0 -0.104     121.33     179.05     0.0   \n",
              "9   IVVB11   9.021   20.0   27.7   17.0 -0.078     257.48     417.20     0.0   \n",
              "10   PETR4   8.830   32.1    5.0   25.0  0.778      26.95      35.66     0.0   \n",
              "11  SADI11   7.681   20.5   12.0   10.0  0.040       7.08       8.71     0.0   \n",
              "12    SCHD  31.471   18.0   14.8   20.0  0.393     115.01     171.04     0.0   \n",
              "13    TFLO   4.016   12.0   11.6   13.0 -0.006     226.19     308.06     0.0   \n",
              "14  TGAR11   4.437   28.7   -4.7   19.0  0.130      68.46     103.82     0.0   \n",
              "15  TRXF11   5.242   26.9    7.1   10.0  0.064      83.48     101.10     0.0   \n",
              "16   VALE3   3.572   17.0    1.2   24.0  0.807      47.53      61.79     0.0   \n",
              "\n",
              "    RiskET%  SharpeE  RetHT%  SharpeH  ShMaxE-W  ShMaxRetE%  ShTg-W  ShTgRetE%  \n",
              "0      10.0    0.427    14.2   -0.078     1.497        26.5   1.123       23.5  \n",
              "1       0.0    0.000     0.0    0.000     0.000         0.0   0.036        0.0  \n",
              "2       0.0    0.000     0.0    0.000     0.000         0.0   0.000        0.0  \n",
              "3       0.0    0.000     0.0    0.000     0.000         0.0   6.511        0.0  \n",
              "4       0.0    0.000     0.0    0.000     0.000         0.0   0.012        0.0  \n",
              "5       0.0    0.000     0.0    0.000     0.000         0.0   0.001        0.0  \n",
              "6       0.0    0.000     0.0    0.000     0.000         0.0   0.000        0.0  \n",
              "7       0.0    0.000     0.0    0.000     0.000         0.0   5.364        0.0  \n",
              "8       0.0    0.000     0.0    0.000    10.300         0.0  11.099        0.0  \n",
              "9       0.0    0.000     0.0    0.000     3.500         0.0   0.007        0.0  \n",
              "10      0.0    0.000     0.0    0.000    13.800         0.0   9.565        0.0  \n",
              "11      0.0    0.000     0.0    0.000    14.100         0.0   6.610        0.0  \n",
              "12      0.0    0.000     0.0    0.000     0.000         0.0   0.000        0.0  \n",
              "13      0.0    0.000     0.0    0.000     0.000         0.0   0.009        0.0  \n",
              "14      0.0    0.000     0.0    0.000     5.200         0.0   6.391        0.0  \n",
              "15      0.0    0.000     0.0    0.000    53.100         0.0  49.102        0.0  \n",
              "16      0.0    0.000     0.0    0.000     0.000         0.0   0.000        0.0  "
            ],
            "text/html": [
              "\n",
              "  <div id=\"df-f74b601b-dde2-401e-8af6-f8b517fc5488\" class=\"colab-df-container\">\n",
              "    <div>\n",
              "<style scoped>\n",
              "    .dataframe tbody tr th:only-of-type {\n",
              "        vertical-align: middle;\n",
              "    }\n",
              "\n",
              "    .dataframe tbody tr th {\n",
              "        vertical-align: top;\n",
              "    }\n",
              "\n",
              "    .dataframe thead th {\n",
              "        text-align: right;\n",
              "    }\n",
              "</style>\n",
              "<table border=\"1\" class=\"dataframe\">\n",
              "  <thead>\n",
              "    <tr style=\"text-align: right;\">\n",
              "      <th></th>\n",
              "      <th>Ticker</th>\n",
              "      <th>W</th>\n",
              "      <th>RetE%</th>\n",
              "      <th>RetH%</th>\n",
              "      <th>Risk%</th>\n",
              "      <th>Beta</th>\n",
              "      <th>Min</th>\n",
              "      <th>Max</th>\n",
              "      <th>RetET%</th>\n",
              "      <th>RiskET%</th>\n",
              "      <th>SharpeE</th>\n",
              "      <th>RetHT%</th>\n",
              "      <th>SharpeH</th>\n",
              "      <th>ShMaxE-W</th>\n",
              "      <th>ShMaxRetE%</th>\n",
              "      <th>ShTg-W</th>\n",
              "      <th>ShTgRetE%</th>\n",
              "    </tr>\n",
              "  </thead>\n",
              "  <tbody>\n",
              "    <tr>\n",
              "      <th>0</th>\n",
              "      <td>IBOV</td>\n",
              "      <td>0.000</td>\n",
              "      <td>0.0</td>\n",
              "      <td>6.4</td>\n",
              "      <td>14.0</td>\n",
              "      <td>0.357</td>\n",
              "      <td>118533.00</td>\n",
              "      <td>146492.00</td>\n",
              "      <td>19.4</td>\n",
              "      <td>10.0</td>\n",
              "      <td>0.427</td>\n",
              "      <td>14.2</td>\n",
              "      <td>-0.078</td>\n",
              "      <td>1.497</td>\n",
              "      <td>26.5</td>\n",
              "      <td>1.123</td>\n",
              "      <td>23.5</td>\n",
              "    </tr>\n",
              "    <tr>\n",
              "      <th>1</th>\n",
              "      <td>USDBRL</td>\n",
              "      <td>0.000</td>\n",
              "      <td>0.0</td>\n",
              "      <td>6.7</td>\n",
              "      <td>13.0</td>\n",
              "      <td>-0.007</td>\n",
              "      <td>4.86</td>\n",
              "      <td>6.30</td>\n",
              "      <td>0.0</td>\n",
              "      <td>0.0</td>\n",
              "      <td>0.000</td>\n",
              "      <td>0.0</td>\n",
              "      <td>0.000</td>\n",
              "      <td>0.000</td>\n",
              "      <td>0.0</td>\n",
              "      <td>0.036</td>\n",
              "      <td>0.0</td>\n",
              "    </tr>\n",
              "    <tr>\n",
              "      <th>2</th>\n",
              "      <td>BBAS3</td>\n",
              "      <td>0.000</td>\n",
              "      <td>0.0</td>\n",
              "      <td>-5.9</td>\n",
              "      <td>23.0</td>\n",
              "      <td>0.838</td>\n",
              "      <td>18.35</td>\n",
              "      <td>29.22</td>\n",
              "      <td>0.0</td>\n",
              "      <td>0.0</td>\n",
              "      <td>0.000</td>\n",
              "      <td>0.0</td>\n",
              "      <td>0.000</td>\n",
              "      <td>0.000</td>\n",
              "      <td>0.0</td>\n",
              "      <td>0.000</td>\n",
              "      <td>0.0</td>\n",
              "    </tr>\n",
              "    <tr>\n",
              "      <th>3</th>\n",
              "      <td>BTLG11</td>\n",
              "      <td>0.000</td>\n",
              "      <td>8.2</td>\n",
              "      <td>11.2</td>\n",
              "      <td>12.0</td>\n",
              "      <td>-0.014</td>\n",
              "      <td>79.11</td>\n",
              "      <td>103.47</td>\n",
              "      <td>0.0</td>\n",
              "      <td>0.0</td>\n",
              "      <td>0.000</td>\n",
              "      <td>0.0</td>\n",
              "      <td>0.000</td>\n",
              "      <td>0.000</td>\n",
              "      <td>0.0</td>\n",
              "      <td>6.511</td>\n",
              "      <td>0.0</td>\n",
              "    </tr>\n",
              "    <tr>\n",
              "      <th>4</th>\n",
              "      <td>CPFE3</td>\n",
              "      <td>4.104</td>\n",
              "      <td>15.5</td>\n",
              "      <td>4.0</td>\n",
              "      <td>20.0</td>\n",
              "      <td>0.637</td>\n",
              "      <td>31.00</td>\n",
              "      <td>41.23</td>\n",
              "      <td>0.0</td>\n",
              "      <td>0.0</td>\n",
              "      <td>0.000</td>\n",
              "      <td>0.0</td>\n",
              "      <td>0.000</td>\n",
              "      <td>0.000</td>\n",
              "      <td>0.0</td>\n",
              "      <td>0.012</td>\n",
              "      <td>0.0</td>\n",
              "    </tr>\n",
              "    <tr>\n",
              "      <th>5</th>\n",
              "      <td>ELET6</td>\n",
              "      <td>8.341</td>\n",
              "      <td>5.5</td>\n",
              "      <td>20.5</td>\n",
              "      <td>22.0</td>\n",
              "      <td>1.023</td>\n",
              "      <td>35.38</td>\n",
              "      <td>57.34</td>\n",
              "      <td>0.0</td>\n",
              "      <td>0.0</td>\n",
              "      <td>0.000</td>\n",
              "      <td>0.0</td>\n",
              "      <td>0.000</td>\n",
              "      <td>0.000</td>\n",
              "      <td>0.0</td>\n",
              "      <td>0.001</td>\n",
              "      <td>0.0</td>\n",
              "    </tr>\n",
              "    <tr>\n",
              "      <th>6</th>\n",
              "      <td>FBTC</td>\n",
              "      <td>4.054</td>\n",
              "      <td>18.0</td>\n",
              "      <td>68.0</td>\n",
              "      <td>53.0</td>\n",
              "      <td>0.527</td>\n",
              "      <td>171.30</td>\n",
              "      <td>583.82</td>\n",
              "      <td>0.0</td>\n",
              "      <td>0.0</td>\n",
              "      <td>0.000</td>\n",
              "      <td>0.0</td>\n",
              "      <td>0.000</td>\n",
              "      <td>0.000</td>\n",
              "      <td>0.0</td>\n",
              "      <td>0.000</td>\n",
              "      <td>0.0</td>\n",
              "    </tr>\n",
              "    <tr>\n",
              "      <th>7</th>\n",
              "      <td>HSML11</td>\n",
              "      <td>3.112</td>\n",
              "      <td>11.3</td>\n",
              "      <td>4.1</td>\n",
              "      <td>15.0</td>\n",
              "      <td>0.142</td>\n",
              "      <td>64.45</td>\n",
              "      <td>85.98</td>\n",
              "      <td>0.0</td>\n",
              "      <td>0.0</td>\n",
              "      <td>0.000</td>\n",
              "      <td>0.0</td>\n",
              "      <td>0.000</td>\n",
              "      <td>0.000</td>\n",
              "      <td>0.0</td>\n",
              "      <td>5.364</td>\n",
              "      <td>0.0</td>\n",
              "    </tr>\n",
              "    <tr>\n",
              "      <th>8</th>\n",
              "      <td>HTMX11</td>\n",
              "      <td>6.119</td>\n",
              "      <td>26.1</td>\n",
              "      <td>3.9</td>\n",
              "      <td>24.0</td>\n",
              "      <td>-0.104</td>\n",
              "      <td>121.33</td>\n",
              "      <td>179.05</td>\n",
              "      <td>0.0</td>\n",
              "      <td>0.0</td>\n",
              "      <td>0.000</td>\n",
              "      <td>0.0</td>\n",
              "      <td>0.000</td>\n",
              "      <td>10.300</td>\n",
              "      <td>0.0</td>\n",
              "      <td>11.099</td>\n",
              "      <td>0.0</td>\n",
              "    </tr>\n",
              "    <tr>\n",
              "      <th>9</th>\n",
              "      <td>IVVB11</td>\n",
              "      <td>9.021</td>\n",
              "      <td>20.0</td>\n",
              "      <td>27.7</td>\n",
              "      <td>17.0</td>\n",
              "      <td>-0.078</td>\n",
              "      <td>257.48</td>\n",
              "      <td>417.20</td>\n",
              "      <td>0.0</td>\n",
              "      <td>0.0</td>\n",
              "      <td>0.000</td>\n",
              "      <td>0.0</td>\n",
              "      <td>0.000</td>\n",
              "      <td>3.500</td>\n",
              "      <td>0.0</td>\n",
              "      <td>0.007</td>\n",
              "      <td>0.0</td>\n",
              "    </tr>\n",
              "    <tr>\n",
              "      <th>10</th>\n",
              "      <td>PETR4</td>\n",
              "      <td>8.830</td>\n",
              "      <td>32.1</td>\n",
              "      <td>5.0</td>\n",
              "      <td>25.0</td>\n",
              "      <td>0.778</td>\n",
              "      <td>26.95</td>\n",
              "      <td>35.66</td>\n",
              "      <td>0.0</td>\n",
              "      <td>0.0</td>\n",
              "      <td>0.000</td>\n",
              "      <td>0.0</td>\n",
              "      <td>0.000</td>\n",
              "      <td>13.800</td>\n",
              "      <td>0.0</td>\n",
              "      <td>9.565</td>\n",
              "      <td>0.0</td>\n",
              "    </tr>\n",
              "    <tr>\n",
              "      <th>11</th>\n",
              "      <td>SADI11</td>\n",
              "      <td>7.681</td>\n",
              "      <td>20.5</td>\n",
              "      <td>12.0</td>\n",
              "      <td>10.0</td>\n",
              "      <td>0.040</td>\n",
              "      <td>7.08</td>\n",
              "      <td>8.71</td>\n",
              "      <td>0.0</td>\n",
              "      <td>0.0</td>\n",
              "      <td>0.000</td>\n",
              "      <td>0.0</td>\n",
              "      <td>0.000</td>\n",
              "      <td>14.100</td>\n",
              "      <td>0.0</td>\n",
              "      <td>6.610</td>\n",
              "      <td>0.0</td>\n",
              "    </tr>\n",
              "    <tr>\n",
              "      <th>12</th>\n",
              "      <td>SCHD</td>\n",
              "      <td>31.471</td>\n",
              "      <td>18.0</td>\n",
              "      <td>14.8</td>\n",
              "      <td>20.0</td>\n",
              "      <td>0.393</td>\n",
              "      <td>115.01</td>\n",
              "      <td>171.04</td>\n",
              "      <td>0.0</td>\n",
              "      <td>0.0</td>\n",
              "      <td>0.000</td>\n",
              "      <td>0.0</td>\n",
              "      <td>0.000</td>\n",
              "      <td>0.000</td>\n",
              "      <td>0.0</td>\n",
              "      <td>0.000</td>\n",
              "      <td>0.0</td>\n",
              "    </tr>\n",
              "    <tr>\n",
              "      <th>13</th>\n",
              "      <td>TFLO</td>\n",
              "      <td>4.016</td>\n",
              "      <td>12.0</td>\n",
              "      <td>11.6</td>\n",
              "      <td>13.0</td>\n",
              "      <td>-0.006</td>\n",
              "      <td>226.19</td>\n",
              "      <td>308.06</td>\n",
              "      <td>0.0</td>\n",
              "      <td>0.0</td>\n",
              "      <td>0.000</td>\n",
              "      <td>0.0</td>\n",
              "      <td>0.000</td>\n",
              "      <td>0.000</td>\n",
              "      <td>0.0</td>\n",
              "      <td>0.009</td>\n",
              "      <td>0.0</td>\n",
              "    </tr>\n",
              "    <tr>\n",
              "      <th>14</th>\n",
              "      <td>TGAR11</td>\n",
              "      <td>4.437</td>\n",
              "      <td>28.7</td>\n",
              "      <td>-4.7</td>\n",
              "      <td>19.0</td>\n",
              "      <td>0.130</td>\n",
              "      <td>68.46</td>\n",
              "      <td>103.82</td>\n",
              "      <td>0.0</td>\n",
              "      <td>0.0</td>\n",
              "      <td>0.000</td>\n",
              "      <td>0.0</td>\n",
              "      <td>0.000</td>\n",
              "      <td>5.200</td>\n",
              "      <td>0.0</td>\n",
              "      <td>6.391</td>\n",
              "      <td>0.0</td>\n",
              "    </tr>\n",
              "    <tr>\n",
              "      <th>15</th>\n",
              "      <td>TRXF11</td>\n",
              "      <td>5.242</td>\n",
              "      <td>26.9</td>\n",
              "      <td>7.1</td>\n",
              "      <td>10.0</td>\n",
              "      <td>0.064</td>\n",
              "      <td>83.48</td>\n",
              "      <td>101.10</td>\n",
              "      <td>0.0</td>\n",
              "      <td>0.0</td>\n",
              "      <td>0.000</td>\n",
              "      <td>0.0</td>\n",
              "      <td>0.000</td>\n",
              "      <td>53.100</td>\n",
              "      <td>0.0</td>\n",
              "      <td>49.102</td>\n",
              "      <td>0.0</td>\n",
              "    </tr>\n",
              "    <tr>\n",
              "      <th>16</th>\n",
              "      <td>VALE3</td>\n",
              "      <td>3.572</td>\n",
              "      <td>17.0</td>\n",
              "      <td>1.2</td>\n",
              "      <td>24.0</td>\n",
              "      <td>0.807</td>\n",
              "      <td>47.53</td>\n",
              "      <td>61.79</td>\n",
              "      <td>0.0</td>\n",
              "      <td>0.0</td>\n",
              "      <td>0.000</td>\n",
              "      <td>0.0</td>\n",
              "      <td>0.000</td>\n",
              "      <td>0.000</td>\n",
              "      <td>0.0</td>\n",
              "      <td>0.000</td>\n",
              "      <td>0.0</td>\n",
              "    </tr>\n",
              "  </tbody>\n",
              "</table>\n",
              "</div>\n",
              "    <div class=\"colab-df-buttons\">\n",
              "\n",
              "  <div class=\"colab-df-container\">\n",
              "    <button class=\"colab-df-convert\" onclick=\"convertToInteractive('df-f74b601b-dde2-401e-8af6-f8b517fc5488')\"\n",
              "            title=\"Convert this dataframe to an interactive table.\"\n",
              "            style=\"display:none;\">\n",
              "\n",
              "  <svg xmlns=\"http://www.w3.org/2000/svg\" height=\"24px\" viewBox=\"0 -960 960 960\">\n",
              "    <path d=\"M120-120v-720h720v720H120Zm60-500h600v-160H180v160Zm220 220h160v-160H400v160Zm0 220h160v-160H400v160ZM180-400h160v-160H180v160Zm440 0h160v-160H620v160ZM180-180h160v-160H180v160Zm440 0h160v-160H620v160Z\"/>\n",
              "  </svg>\n",
              "    </button>\n",
              "\n",
              "  <style>\n",
              "    .colab-df-container {\n",
              "      display:flex;\n",
              "      gap: 12px;\n",
              "    }\n",
              "\n",
              "    .colab-df-convert {\n",
              "      background-color: #E8F0FE;\n",
              "      border: none;\n",
              "      border-radius: 50%;\n",
              "      cursor: pointer;\n",
              "      display: none;\n",
              "      fill: #1967D2;\n",
              "      height: 32px;\n",
              "      padding: 0 0 0 0;\n",
              "      width: 32px;\n",
              "    }\n",
              "\n",
              "    .colab-df-convert:hover {\n",
              "      background-color: #E2EBFA;\n",
              "      box-shadow: 0px 1px 2px rgba(60, 64, 67, 0.3), 0px 1px 3px 1px rgba(60, 64, 67, 0.15);\n",
              "      fill: #174EA6;\n",
              "    }\n",
              "\n",
              "    .colab-df-buttons div {\n",
              "      margin-bottom: 4px;\n",
              "    }\n",
              "\n",
              "    [theme=dark] .colab-df-convert {\n",
              "      background-color: #3B4455;\n",
              "      fill: #D2E3FC;\n",
              "    }\n",
              "\n",
              "    [theme=dark] .colab-df-convert:hover {\n",
              "      background-color: #434B5C;\n",
              "      box-shadow: 0px 1px 3px 1px rgba(0, 0, 0, 0.15);\n",
              "      filter: drop-shadow(0px 1px 2px rgba(0, 0, 0, 0.3));\n",
              "      fill: #FFFFFF;\n",
              "    }\n",
              "  </style>\n",
              "\n",
              "    <script>\n",
              "      const buttonEl =\n",
              "        document.querySelector('#df-f74b601b-dde2-401e-8af6-f8b517fc5488 button.colab-df-convert');\n",
              "      buttonEl.style.display =\n",
              "        google.colab.kernel.accessAllowed ? 'block' : 'none';\n",
              "\n",
              "      async function convertToInteractive(key) {\n",
              "        const element = document.querySelector('#df-f74b601b-dde2-401e-8af6-f8b517fc5488');\n",
              "        const dataTable =\n",
              "          await google.colab.kernel.invokeFunction('convertToInteractive',\n",
              "                                                    [key], {});\n",
              "        if (!dataTable) return;\n",
              "\n",
              "        const docLinkHtml = 'Like what you see? Visit the ' +\n",
              "          '<a target=\"_blank\" href=https://colab.research.google.com/notebooks/data_table.ipynb>data table notebook</a>'\n",
              "          + ' to learn more about interactive tables.';\n",
              "        element.innerHTML = '';\n",
              "        dataTable['output_type'] = 'display_data';\n",
              "        await google.colab.output.renderOutput(dataTable, element);\n",
              "        const docLink = document.createElement('div');\n",
              "        docLink.innerHTML = docLinkHtml;\n",
              "        element.appendChild(docLink);\n",
              "      }\n",
              "    </script>\n",
              "  </div>\n",
              "\n",
              "\n",
              "    <div id=\"df-829e6ee1-ed9a-415d-b08f-cbe47102b6f4\">\n",
              "      <button class=\"colab-df-quickchart\" onclick=\"quickchart('df-829e6ee1-ed9a-415d-b08f-cbe47102b6f4')\"\n",
              "                title=\"Suggest charts\"\n",
              "                style=\"display:none;\">\n",
              "\n",
              "<svg xmlns=\"http://www.w3.org/2000/svg\" height=\"24px\"viewBox=\"0 0 24 24\"\n",
              "     width=\"24px\">\n",
              "    <g>\n",
              "        <path d=\"M19 3H5c-1.1 0-2 .9-2 2v14c0 1.1.9 2 2 2h14c1.1 0 2-.9 2-2V5c0-1.1-.9-2-2-2zM9 17H7v-7h2v7zm4 0h-2V7h2v10zm4 0h-2v-4h2v4z\"/>\n",
              "    </g>\n",
              "</svg>\n",
              "      </button>\n",
              "\n",
              "<style>\n",
              "  .colab-df-quickchart {\n",
              "      --bg-color: #E8F0FE;\n",
              "      --fill-color: #1967D2;\n",
              "      --hover-bg-color: #E2EBFA;\n",
              "      --hover-fill-color: #174EA6;\n",
              "      --disabled-fill-color: #AAA;\n",
              "      --disabled-bg-color: #DDD;\n",
              "  }\n",
              "\n",
              "  [theme=dark] .colab-df-quickchart {\n",
              "      --bg-color: #3B4455;\n",
              "      --fill-color: #D2E3FC;\n",
              "      --hover-bg-color: #434B5C;\n",
              "      --hover-fill-color: #FFFFFF;\n",
              "      --disabled-bg-color: #3B4455;\n",
              "      --disabled-fill-color: #666;\n",
              "  }\n",
              "\n",
              "  .colab-df-quickchart {\n",
              "    background-color: var(--bg-color);\n",
              "    border: none;\n",
              "    border-radius: 50%;\n",
              "    cursor: pointer;\n",
              "    display: none;\n",
              "    fill: var(--fill-color);\n",
              "    height: 32px;\n",
              "    padding: 0;\n",
              "    width: 32px;\n",
              "  }\n",
              "\n",
              "  .colab-df-quickchart:hover {\n",
              "    background-color: var(--hover-bg-color);\n",
              "    box-shadow: 0 1px 2px rgba(60, 64, 67, 0.3), 0 1px 3px 1px rgba(60, 64, 67, 0.15);\n",
              "    fill: var(--button-hover-fill-color);\n",
              "  }\n",
              "\n",
              "  .colab-df-quickchart-complete:disabled,\n",
              "  .colab-df-quickchart-complete:disabled:hover {\n",
              "    background-color: var(--disabled-bg-color);\n",
              "    fill: var(--disabled-fill-color);\n",
              "    box-shadow: none;\n",
              "  }\n",
              "\n",
              "  .colab-df-spinner {\n",
              "    border: 2px solid var(--fill-color);\n",
              "    border-color: transparent;\n",
              "    border-bottom-color: var(--fill-color);\n",
              "    animation:\n",
              "      spin 1s steps(1) infinite;\n",
              "  }\n",
              "\n",
              "  @keyframes spin {\n",
              "    0% {\n",
              "      border-color: transparent;\n",
              "      border-bottom-color: var(--fill-color);\n",
              "      border-left-color: var(--fill-color);\n",
              "    }\n",
              "    20% {\n",
              "      border-color: transparent;\n",
              "      border-left-color: var(--fill-color);\n",
              "      border-top-color: var(--fill-color);\n",
              "    }\n",
              "    30% {\n",
              "      border-color: transparent;\n",
              "      border-left-color: var(--fill-color);\n",
              "      border-top-color: var(--fill-color);\n",
              "      border-right-color: var(--fill-color);\n",
              "    }\n",
              "    40% {\n",
              "      border-color: transparent;\n",
              "      border-right-color: var(--fill-color);\n",
              "      border-top-color: var(--fill-color);\n",
              "    }\n",
              "    60% {\n",
              "      border-color: transparent;\n",
              "      border-right-color: var(--fill-color);\n",
              "    }\n",
              "    80% {\n",
              "      border-color: transparent;\n",
              "      border-right-color: var(--fill-color);\n",
              "      border-bottom-color: var(--fill-color);\n",
              "    }\n",
              "    90% {\n",
              "      border-color: transparent;\n",
              "      border-bottom-color: var(--fill-color);\n",
              "    }\n",
              "  }\n",
              "</style>\n",
              "\n",
              "      <script>\n",
              "        async function quickchart(key) {\n",
              "          const quickchartButtonEl =\n",
              "            document.querySelector('#' + key + ' button');\n",
              "          quickchartButtonEl.disabled = true;  // To prevent multiple clicks.\n",
              "          quickchartButtonEl.classList.add('colab-df-spinner');\n",
              "          try {\n",
              "            const charts = await google.colab.kernel.invokeFunction(\n",
              "                'suggestCharts', [key], {});\n",
              "          } catch (error) {\n",
              "            console.error('Error during call to suggestCharts:', error);\n",
              "          }\n",
              "          quickchartButtonEl.classList.remove('colab-df-spinner');\n",
              "          quickchartButtonEl.classList.add('colab-df-quickchart-complete');\n",
              "        }\n",
              "        (() => {\n",
              "          let quickchartButtonEl =\n",
              "            document.querySelector('#df-829e6ee1-ed9a-415d-b08f-cbe47102b6f4 button');\n",
              "          quickchartButtonEl.style.display =\n",
              "            google.colab.kernel.accessAllowed ? 'block' : 'none';\n",
              "        })();\n",
              "      </script>\n",
              "    </div>\n",
              "\n",
              "  <div id=\"id_ac334d63-6df4-4e12-bbeb-c0471ccde98f\">\n",
              "    <style>\n",
              "      .colab-df-generate {\n",
              "        background-color: #E8F0FE;\n",
              "        border: none;\n",
              "        border-radius: 50%;\n",
              "        cursor: pointer;\n",
              "        display: none;\n",
              "        fill: #1967D2;\n",
              "        height: 32px;\n",
              "        padding: 0 0 0 0;\n",
              "        width: 32px;\n",
              "      }\n",
              "\n",
              "      .colab-df-generate:hover {\n",
              "        background-color: #E2EBFA;\n",
              "        box-shadow: 0px 1px 2px rgba(60, 64, 67, 0.3), 0px 1px 3px 1px rgba(60, 64, 67, 0.15);\n",
              "        fill: #174EA6;\n",
              "      }\n",
              "\n",
              "      [theme=dark] .colab-df-generate {\n",
              "        background-color: #3B4455;\n",
              "        fill: #D2E3FC;\n",
              "      }\n",
              "\n",
              "      [theme=dark] .colab-df-generate:hover {\n",
              "        background-color: #434B5C;\n",
              "        box-shadow: 0px 1px 3px 1px rgba(0, 0, 0, 0.15);\n",
              "        filter: drop-shadow(0px 1px 2px rgba(0, 0, 0, 0.3));\n",
              "        fill: #FFFFFF;\n",
              "      }\n",
              "    </style>\n",
              "    <button class=\"colab-df-generate\" onclick=\"generateWithVariable('portfolio')\"\n",
              "            title=\"Generate code using this dataframe.\"\n",
              "            style=\"display:none;\">\n",
              "\n",
              "  <svg xmlns=\"http://www.w3.org/2000/svg\" height=\"24px\"viewBox=\"0 0 24 24\"\n",
              "       width=\"24px\">\n",
              "    <path d=\"M7,19H8.4L18.45,9,17,7.55,7,17.6ZM5,21V16.75L18.45,3.32a2,2,0,0,1,2.83,0l1.4,1.43a1.91,1.91,0,0,1,.58,1.4,1.91,1.91,0,0,1-.58,1.4L9.25,21ZM18.45,9,17,7.55Zm-12,3A5.31,5.31,0,0,0,4.9,8.1,5.31,5.31,0,0,0,1,6.5,5.31,5.31,0,0,0,4.9,4.9,5.31,5.31,0,0,0,6.5,1,5.31,5.31,0,0,0,8.1,4.9,5.31,5.31,0,0,0,12,6.5,5.46,5.46,0,0,0,6.5,12Z\"/>\n",
              "  </svg>\n",
              "    </button>\n",
              "    <script>\n",
              "      (() => {\n",
              "      const buttonEl =\n",
              "        document.querySelector('#id_ac334d63-6df4-4e12-bbeb-c0471ccde98f button.colab-df-generate');\n",
              "      buttonEl.style.display =\n",
              "        google.colab.kernel.accessAllowed ? 'block' : 'none';\n",
              "\n",
              "      buttonEl.onclick = () => {\n",
              "        google.colab.notebook.generateWithVariable('portfolio');\n",
              "      }\n",
              "      })();\n",
              "    </script>\n",
              "  </div>\n",
              "\n",
              "    </div>\n",
              "  </div>\n"
            ],
            "application/vnd.google.colaboratory.intrinsic+json": {
              "type": "dataframe",
              "variable_name": "portfolio",
              "summary": "{\n  \"name\": \"portfolio\",\n  \"rows\": 17,\n  \"fields\": [\n    {\n      \"column\": \"Ticker\",\n      \"properties\": {\n        \"dtype\": \"string\",\n        \"num_unique_values\": 17,\n        \"samples\": [\n          \"IBOV\",\n          \"USDBRL\",\n          \"ELET6\"\n        ],\n        \"semantic_type\": \"\",\n        \"description\": \"\"\n      }\n    },\n    {\n      \"column\": \"W\",\n      \"properties\": {\n        \"dtype\": \"number\",\n        \"std\": 7.273940386245069,\n        \"min\": 0.0,\n        \"max\": 31.471,\n        \"num_unique_values\": 14,\n        \"samples\": [\n          31.471,\n          4.437,\n          0.0\n        ],\n        \"semantic_type\": \"\",\n        \"description\": \"\"\n      }\n    },\n    {\n      \"column\": \"RetE%\",\n      \"properties\": {\n        \"dtype\": \"number\",\n        \"std\": 10.171174667541948,\n        \"min\": 0.0,\n        \"max\": 32.1,\n        \"num_unique_values\": 14,\n        \"samples\": [\n          20.5,\n          28.7,\n          0.0\n        ],\n        \"semantic_type\": \"\",\n        \"description\": \"\"\n      }\n    },\n    {\n      \"column\": \"RetH%\",\n      \"properties\": {\n        \"dtype\": \"number\",\n        \"std\": 16.765734488568537,\n        \"min\": -5.9,\n        \"max\": 68.0,\n        \"num_unique_values\": 17,\n        \"samples\": [\n          6.4,\n          6.7,\n          20.5\n        ],\n        \"semantic_type\": \"\",\n        \"description\": \"\"\n      }\n    },\n    {\n      \"column\": \"Risk%\",\n      \"properties\": {\n        \"dtype\": \"number\",\n        \"std\": 9.968332210496575,\n        \"min\": 10.0,\n        \"max\": 53.0,\n        \"num_unique_values\": 13,\n        \"samples\": [\n          10.0,\n          17.0,\n          14.0\n        ],\n        \"semantic_type\": \"\",\n        \"description\": \"\"\n      }\n    },\n    {\n      \"column\": \"Beta\",\n      \"properties\": {\n        \"dtype\": \"number\",\n        \"std\": 0.37364068340334355,\n        \"min\": -0.104,\n        \"max\": 1.023,\n        \"num_unique_values\": 17,\n        \"samples\": [\n          0.357,\n          -0.007,\n          1.023\n        ],\n        \"semantic_type\": \"\",\n        \"description\": \"\"\n      }\n    },\n    {\n      \"column\": \"Min\",\n      \"properties\": {\n        \"dtype\": \"number\",\n        \"std\": 28727.985463469347,\n        \"min\": 4.86,\n        \"max\": 118533.0,\n        \"num_unique_values\": 17,\n        \"samples\": [\n          118533.0,\n          4.86,\n          35.38\n        ],\n        \"semantic_type\": \"\",\n        \"description\": \"\"\n      }\n    },\n    {\n      \"column\": \"Max\",\n      \"properties\": {\n        \"dtype\": \"number\",\n        \"std\": 35495.10390975249,\n        \"min\": 6.3,\n        \"max\": 146492.0,\n        \"num_unique_values\": 17,\n        \"samples\": [\n          146492.0,\n          6.3,\n          57.34\n        ],\n        \"semantic_type\": \"\",\n        \"description\": \"\"\n      }\n    },\n    {\n      \"column\": \"RetET%\",\n      \"properties\": {\n        \"dtype\": \"number\",\n        \"std\": 4.705191125704856,\n        \"min\": 0.0,\n        \"max\": 19.4,\n        \"num_unique_values\": 2,\n        \"samples\": [\n          0.0,\n          19.4\n        ],\n        \"semantic_type\": \"\",\n        \"description\": \"\"\n      }\n    },\n    {\n      \"column\": \"RiskET%\",\n      \"properties\": {\n        \"dtype\": \"number\",\n        \"std\": 2.4253562503633286,\n        \"min\": 0.0,\n        \"max\": 10.0,\n        \"num_unique_values\": 2,\n        \"samples\": [\n          0.0,\n          10.0\n        ],\n        \"semantic_type\": \"\",\n        \"description\": \"\"\n      }\n    },\n    {\n      \"column\": \"SharpeE\",\n      \"properties\": {\n        \"dtype\": \"number\",\n        \"std\": 0.10356271189051419,\n        \"min\": 0.0,\n        \"max\": 0.427,\n        \"num_unique_values\": 2,\n        \"samples\": [\n          0.0,\n          0.427\n        ],\n        \"semantic_type\": \"\",\n        \"description\": \"\"\n      }\n    },\n    {\n      \"column\": \"RetHT%\",\n      \"properties\": {\n        \"dtype\": \"number\",\n        \"std\": 3.444005875515927,\n        \"min\": 0.0,\n        \"max\": 14.2,\n        \"num_unique_values\": 2,\n        \"samples\": [\n          0.0,\n          14.2\n        ],\n        \"semantic_type\": \"\",\n        \"description\": \"\"\n      }\n    },\n    {\n      \"column\": \"SharpeH\",\n      \"properties\": {\n        \"dtype\": \"number\",\n        \"std\": 0.018917778752833975,\n        \"min\": -0.078,\n        \"max\": 0.0,\n        \"num_unique_values\": 2,\n        \"samples\": [\n          0.0,\n          -0.078\n        ],\n        \"semantic_type\": \"\",\n        \"description\": \"\"\n      }\n    },\n    {\n      \"column\": \"ShMaxE-W\",\n      \"properties\": {\n        \"dtype\": \"number\",\n        \"std\": 13.11130744366682,\n        \"min\": 0.0,\n        \"max\": 53.1,\n        \"num_unique_values\": 8,\n        \"samples\": [\n          0.0,\n          14.099999999999998\n        ],\n        \"semantic_type\": \"\",\n        \"description\": \"\"\n      }\n    },\n    {\n      \"column\": \"ShMaxRetE%\",\n      \"properties\": {\n        \"dtype\": \"number\",\n        \"std\": 6.427194063462826,\n        \"min\": 0.0,\n        \"max\": 26.5,\n        \"num_unique_values\": 2,\n        \"samples\": [\n          0.0,\n          26.5\n        ],\n        \"semantic_type\": \"\",\n        \"description\": \"\"\n      }\n    },\n    {\n      \"column\": \"ShTg-W\",\n      \"properties\": {\n        \"dtype\": \"number\",\n        \"std\": 11.838626875986233,\n        \"min\": 0.0,\n        \"max\": 49.102,\n        \"num_unique_values\": 14,\n        \"samples\": [\n          9.565,\n          0.009\n        ],\n        \"semantic_type\": \"\",\n        \"description\": \"\"\n      }\n    },\n    {\n      \"column\": \"ShTgRetE%\",\n      \"properties\": {\n        \"dtype\": \"number\",\n        \"std\": 5.699587188353823,\n        \"min\": 0.0,\n        \"max\": 23.5,\n        \"num_unique_values\": 2,\n        \"samples\": [\n          0.0,\n          23.5\n        ],\n        \"semantic_type\": \"\",\n        \"description\": \"\"\n      }\n    }\n  ]\n}"
            }
          },
          "metadata": {}
        }
      ]
    },
    {
      "cell_type": "code",
      "execution_count": 237,
      "metadata": {
        "id": "ODQ2jlYnQjNS"
      },
      "outputs": [],
      "source": [
        "# Autentication in Google Docs (only once)\n",
        "auth.authenticate_user()\n",
        "creds, _ = default()\n",
        "gc = gspread.authorize(creds)"
      ]
    },
    {
      "cell_type": "code",
      "execution_count": 238,
      "metadata": {
        "id": "wyqrePZyZtys"
      },
      "outputs": [],
      "source": [
        "# Open workbook and worksheets\n",
        "wb = gc.open('Quotes')\n",
        "wss = wb.worksheet('Stockvar')\n",
        "wsr = wb.worksheet('RealStatevar')\n",
        "wssus = wb.worksheet('StockUSvar')\n",
        "wseus = wb.worksheet('ETFUSvar')\n",
        "wsport = wb.worksheet('Portfolio')"
      ]
    },
    {
      "cell_type": "code",
      "execution_count": 239,
      "metadata": {
        "id": "yjSeVpqvaYkH",
        "colab": {
          "base_uri": "https://localhost:8080/"
        },
        "outputId": "790b8a0d-27a1-4d3d-d97d-ea12d2950d65"
      },
      "outputs": [
        {
          "output_type": "execute_result",
          "data": {
            "text/plain": [
              "{'spreadsheetId': '1qgTSxri55kYWVahW6sH3Fbn3ofWzhq93umUJhcwO7Uk',\n",
              " 'updatedRange': 'Portfolio!A1:Q18',\n",
              " 'updatedRows': 18,\n",
              " 'updatedColumns': 17,\n",
              " 'updatedCells': 306}"
            ]
          },
          "metadata": {},
          "execution_count": 239
        }
      ],
      "source": [
        "# Write data in the worksheets\n",
        "wss.update([stockvar.columns.values.tolist()] + stockvar.values.tolist())\n",
        "wsr.update([realstatevar.columns.values.tolist()] + realstatevar.values.tolist())\n",
        "wssus.update([stockusvar.columns.values.tolist()] + stockusvar.values.tolist())\n",
        "wseus.update([etfusvar.columns.values.tolist()] + etfusvar.values.tolist())\n",
        "wsport.update([portfolio.columns.values.tolist()] + portfolio.values.tolist())"
      ]
    },
    {
      "cell_type": "code",
      "source": [
        "# FUNDS EXPLORER ROUTINE\n",
        "#\n",
        "# tickerr = ['IFIX.SA','BTLG11.SA','HGCR11.SA','HGBS11.SA','HGRE11.SA','HGRU11.SA','HSLG11.SA','HSML11.SA','HTMX11.SA','JSAF11.SA','JFLL11.SA','KNCA11.SA','KNHF11.SA','KNIP11.SA','MALL11.SA','MFII11.SA','SADI11.SA','TGAR11.SA','TRXF11.SA','VGHF11.SA','VISC11.SA']\n",
        "# Remove \".SA\" from real state funds dataframe tickers\n",
        "tickerradjusted = [nome.replace('.SA', '') for nome in tickerr]\n",
        "# Remove \"IFIX\" ticker\n",
        "if \"IFIX\" in tickerradjusted:\n",
        "    tickerradjusted.remove(\"IFIX\")\n",
        "#"
      ],
      "metadata": {
        "id": "lIdkgEQpBJ2M"
      },
      "execution_count": 240,
      "outputs": []
    },
    {
      "cell_type": "code",
      "source": [
        "# Funds list filter, exclude tickers not in real state funds list\n",
        "fundsexplorer = fundsexplorer[fundsexplorer['Fundos'].isin(tickerradjusted)]\n",
        "# display(fundsexplorer)"
      ],
      "metadata": {
        "id": "o37F8excBqCE"
      },
      "execution_count": 241,
      "outputs": []
    },
    {
      "cell_type": "code",
      "source": [
        "# Open worksheet\n",
        "wsrfunds = wb.worksheet('FundsExplorer')"
      ],
      "metadata": {
        "id": "hR9qvtdHCOdP"
      },
      "execution_count": 242,
      "outputs": []
    },
    {
      "cell_type": "code",
      "source": [
        "# Write data in the worksheets\n",
        "wsrfunds.update([fundsexplorer.columns.values.tolist()] + fundsexplorer.fillna('').values.tolist())"
      ],
      "metadata": {
        "id": "Lcs4T3nlCe8Z",
        "colab": {
          "base_uri": "https://localhost:8080/"
        },
        "outputId": "eaab072b-ea7b-4c9f-ba9c-23a74b84d4a5"
      },
      "execution_count": 243,
      "outputs": [
        {
          "output_type": "execute_result",
          "data": {
            "text/plain": [
              "{'spreadsheetId': '1qgTSxri55kYWVahW6sH3Fbn3ofWzhq93umUJhcwO7Uk',\n",
              " 'updatedRange': 'FundsExplorer!A1:AD21',\n",
              " 'updatedRows': 21,\n",
              " 'updatedColumns': 30,\n",
              " 'updatedCells': 630}"
            ]
          },
          "metadata": {},
          "execution_count": 243
        }
      ]
    }
  ],
  "metadata": {
    "colab": {
      "provenance": [],
      "authorship_tag": "ABX9TyOp18+8sXbgODCIcODeWM+i",
      "include_colab_link": true
    },
    "kernelspec": {
      "display_name": "Python 3",
      "name": "python3"
    },
    "language_info": {
      "name": "python"
    }
  },
  "nbformat": 4,
  "nbformat_minor": 0
}