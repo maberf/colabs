{
  "cells": [
    {
      "cell_type": "markdown",
      "metadata": {
        "id": "view-in-github",
        "colab_type": "text"
      },
      "source": [
        "<a href=\"https://colab.research.google.com/github/maberf/colabs/blob/main/Portfolio.ipynb\" target=\"_parent\"><img src=\"https://colab.research.google.com/assets/colab-badge.svg\" alt=\"Open In Colab\"/></a>"
      ]
    },
    {
      "cell_type": "code",
      "execution_count": null,
      "metadata": {
        "id": "QVYwmuIWyMbm"
      },
      "outputs": [],
      "source": [
        "import pandas as pd\n",
        "import numpy as np\n",
        "from scipy.optimize import minimize\n",
        "import yfinance as yf\n",
        "import os\n",
        "import datetime as dt\n",
        "from google.colab import drive\n",
        "from google.colab import auth\n",
        "from google.auth import default\n",
        "import gspread"
      ]
    },
    {
      "cell_type": "code",
      "execution_count": null,
      "metadata": {
        "id": "cVJoINlOnWyN"
      },
      "outputs": [],
      "source": [
        "# Stock tickers - Insert here# Real Estate Invesments Trust tickers - INSERT OR ADJUST HERE\n",
        "# Try to mantain IBOV + 25 assets in alphabetical order to easly adjust google docs spreadsheet\n",
        "tickers = ['^BVSP','ASAI3.SA','AURE3.SA','B3SA3.SA','BBAS3.SA','BBDC4.SA','BBSE3.SA','CGAS3.SA','CPFE3.SA','CSAN3.SA','EGIE3.SA','ELET6.SA','IVVB11.SA','JALL3.SA','JHSF3.SA','KLBN11.SA','LEVE3.SA','LREN3.SA','ODPV3.SA','PETR4.SA','PRIO3.SA','RAIZ4.SA','STBP3.SA','TAEE11.SA','VALE3.SA','VIVT3.SA']"
      ]
    },
    {
      "cell_type": "code",
      "execution_count": null,
      "metadata": {
        "id": "j7mFM3kZa37g"
      },
      "outputs": [],
      "source": [
        "# Real Estate Invesments Trust tickers - INSERT OR ADJUST HERE\n",
        "# Try to mantain IFIX + 20 assets in alphabetical order to easly adjust google docs spreadsheet\n",
        "# IFIX here only to a space in dataframe, yahoo finance return IFIX.SA maximum 5 days. IFIX should be calculated downloading an Investing.com csv file history and it must be uploaded in personal Google Drive. This code read it.\n",
        "tickerr = ['IFIX.SA','BTLG11.SA','HGCR11.SA','HGBS11.SA','HGRE11.SA','HGRU11.SA','HSLG11.SA','HSML11.SA','HTMX11.SA','JSAF11.SA','JFLL11.SA','KNCA11.SA','KNHF11.SA','KNIP11.SA','MALL11.SA','MFII11.SA','SADI11.SA','TGAR11.SA','TRXF11.SA','VGHF11.SA','VISC11.SA']"
      ]
    },
    {
      "cell_type": "code",
      "source": [
        "# US Stocks tickers - INSERT OR ADJUST HERE\n",
        "# Try to mantain SP500 + USDBRL + 20 assets in alphabetical order to easly adjust google docs spreadsheet\n",
        "tickersus = ['^GSPC','USDBRL=X','AAPL','AIG','BAC','BHP','DHI','EXC','KMB','KO','LOPE','LYB','MGA','MSFT','MSTR','NVDA','TGT','TMUS','UPS','UNH','X','XOM']"
      ],
      "metadata": {
        "id": "3oGcgtj8QVcD"
      },
      "execution_count": null,
      "outputs": []
    },
    {
      "cell_type": "code",
      "source": [
        "# US ETFs tickers - INSERT OR ADJUST HERE\n",
        "# Try to mantain SP500 + USDBRL + 10 assets in alphabetical order to easly adjust google docs spreadsheet\n",
        "tickereus = ['^GSPC','USDBRL=X','FBTC','JEPI','HACK', 'IVV','SCHD','SOXX','SPY','TLT','SMH','TFLO']"
      ],
      "metadata": {
        "id": "XLzaMHIfsuyc"
      },
      "execution_count": null,
      "outputs": []
    },
    {
      "cell_type": "code",
      "source": [
        "# Portfolio tickers - INSERT OR ADJUST HERE\n",
        "tickerport = ['^BVSP','USDBRL=X','BBAS3.SA','CPFE3.SA','ELET6.SA','FBTC','HSML11.SA','HTMX11.SA','IVVB11.SA','PETR4.SA','SADI11.SA','SCHD','TFLO','TGAR11.SA','TRXF11.SA','VALE3.SA']\n",
        "# Portfolio tickers weight - INSERT OR ADJUST HERE IN THE SAME ORDER!\n",
        "weightport = [0.0, 0.0, 5.885, 3.688, 5.110, 3.314, 2.776, 6.154, 9.425, 7.494, 7.068, 32.646, 4.042, 4.111, 5.118, 3.169]\n",
        "# Portfolio tickers expected returns - INSERT OR ADJUST HERE IN THE SAME ORDER!\n",
        "# IBOV (^BVSP) MUST always be zero!\n",
        "expretport = [0.0, 0.0, 27.3, 15.0, 1.5, 30.0, 12.0, 32.4, 17.0, 15.0, 20.8, 17.0, 10.0, 18.2, 17.6, 10.9]"
      ],
      "metadata": {
        "id": "lbxAtnEFV3ex"
      },
      "execution_count": null,
      "outputs": []
    },
    {
      "cell_type": "code",
      "source": [
        "# Risk free rate in percentage - INSERT OR ADJUST HERE\n",
        "riskfree = 13.25"
      ],
      "metadata": {
        "id": "uWISQcWhrNVd"
      },
      "execution_count": null,
      "outputs": []
    },
    {
      "cell_type": "code",
      "source": [
        "# Portfolio dataframe creation\n",
        "portfolio = pd.DataFrame({'Ticker': tickerport, 'W': weightport, 'RetE%':expretport})"
      ],
      "metadata": {
        "id": "94SgPSqR0Fi5"
      },
      "execution_count": null,
      "outputs": []
    },
    {
      "cell_type": "code",
      "source": [
        "# Excluding .SA, renaming ^BVSP to IBOV and USDBRL=X to USDBRL\n",
        "portfolio['Ticker'] = portfolio['Ticker'].str.replace('.SA', '', regex=False)\n",
        "portfolio['Ticker'] = portfolio['Ticker'].str.replace('^BVSP', 'IBOV', regex=False)\n",
        "portfolio['Ticker'] = portfolio['Ticker'].str.replace('USDBRL=X', 'USDBRL', regex=False)\n",
        "# display(portfolio)"
      ],
      "metadata": {
        "id": "y5BMLvAG2F8b"
      },
      "execution_count": null,
      "outputs": []
    },
    {
      "cell_type": "code",
      "execution_count": null,
      "metadata": {
        "colab": {
          "base_uri": "https://localhost:8080/"
        },
        "id": "lsdtOFcYy8Xx",
        "outputId": "ffd05479-8314-4433-86da-2a97aa98304e"
      },
      "outputs": [
        {
          "output_type": "stream",
          "name": "stderr",
          "text": [
            "[*********************100%***********************]  26 of 26 completed\n",
            "[*********************100%***********************]  21 of 21 completed\n",
            "[*********************100%***********************]  22 of 22 completed\n",
            "[*********************100%***********************]  12 of 12 completed\n",
            "[*********************100%***********************]  16 of 16 completed\n"
          ]
        }
      ],
      "source": [
        "# Load tickers history prices in a dataframe considering a certain period of time - ADJUST HERE, default 1 year (1y)\n",
        "# Sometimes some ticker has problems in yahoo finance. If it happens, close the session and try again. Or change the ticker, because problem in one ticker will cause problem in all code running.\n",
        "# Check success download completed to all dataframes, otherwise the code will broke in next lines.\n",
        "dfs = yf.download(tickers, period='1y')['Close']\n",
        "dfr = yf.download(tickerr, period='1y')['Close']\n",
        "dfsus = yf.download(tickersus, period='1y')['Close']\n",
        "dfeus = yf.download(tickereus, period='1y')['Close']\n",
        "dfport = yf.download(tickerport, period='1y')['Close']\n",
        "# Remove timezone from index\n",
        "dfs.index = pd.to_datetime(dfs.index).tz_localize(None)\n",
        "dfr.index = pd.to_datetime(dfr.index).tz_localize(None)\n",
        "dfsus.index = pd.to_datetime(dfsus.index).tz_localize(None)\n",
        "dfeus.index = pd.to_datetime(dfeus.index).tz_localize(None)\n",
        "dfport.index = pd.to_datetime(dfport.index).tz_localize(None)\n",
        "# display(dfs)\n",
        "# display(dfr)\n",
        "# display(dfeus)\n",
        "# display(dfport)"
      ]
    },
    {
      "cell_type": "code",
      "source": [
        "# Convert US assets in BRL values, it should be adjusted according the assets in portfolio - ADJUST HERE\n",
        "dfport['SCHD'] = dfport['SCHD'] * dfport['USDBRL=X']\n",
        "dfport['TFLO'] = dfport['TFLO'] * dfport['USDBRL=X']\n",
        "dfport['FBTC'] = dfport['FBTC'] * dfport['USDBRL=X']\n",
        "# display(dfport)"
      ],
      "metadata": {
        "id": "TaNHjHLrezZz"
      },
      "execution_count": null,
      "outputs": []
    },
    {
      "cell_type": "code",
      "source": [
        "# IFIX historic series from Investing.com to be appended in real state dataframe dfr - https://br.investing.com/indices/bm-fbovespa-real-estate-ifix-historical-data\n",
        "# Download the file from site and copy to your google drive. Rename de file as history.csv. Adjust the path below in \" ifixfile = .... \" command line according your file location.\n",
        "# Google Drive mounth\n",
        "drive.mount('/content/drive', force_remount=True)\n",
        "# File path on Google Drive - Download the file and upload to Financas folder in Google Drive. Rename the path according file name uploaded.\n",
        "ifixfile = '/content/drive/MyDrive/Financas/history.csv'\n",
        "# File csv to dataframe converting quote to float\n",
        "ifix = pd.read_csv(ifixfile, thousands = '.', decimal = ',', dtype = {'Último':np.float64})\n",
        "# Excluding and rename columns\n",
        "ifix = ifix.drop(columns=['Abertura', 'Máxima', 'Mínima', 'Vol.', 'Var%'])\n",
        "ifix = ifix.rename(columns={'Data': 'Date', 'Último': 'IFIX.SA'})\n",
        "# Date format in Date column\n",
        "ifix['Date'] = pd.to_datetime(ifix['Date'], format='%d%m%Y', errors='coerce')\n",
        "ifix.set_index('Date', inplace=True)\n",
        "# Solve eventual duplicated registers, grouped by mean\n",
        "ifix = ifix.groupby(level=0).mean()\n",
        "# display(ifix)"
      ],
      "metadata": {
        "colab": {
          "base_uri": "https://localhost:8080/"
        },
        "id": "OIILfCdkKEMK",
        "outputId": "fc4644ee-57ca-4d37-d6f9-d8e44083e565"
      },
      "execution_count": null,
      "outputs": [
        {
          "output_type": "stream",
          "name": "stdout",
          "text": [
            "Mounted at /content/drive\n"
          ]
        }
      ]
    },
    {
      "cell_type": "code",
      "source": [
        "# Replace dfr dataframe by ifix values by index key (date)\n",
        "dfr.update(ifix)\n",
        "# display(dfr)"
      ],
      "metadata": {
        "id": "mdikcSplKQUd"
      },
      "execution_count": null,
      "outputs": []
    },
    {
      "cell_type": "code",
      "source": [
        "# Excluding .SA, renaming ^BVSP to IBOV, ^GSPC to SP500\n",
        "dfs.columns = [col.replace('.SA', '') for col in dfs.columns]\n",
        "dfs.columns = [col.replace('^BVSP', 'IBOV') for col in dfs.columns]\n",
        "dfr.columns = [col.replace('.SA', '') for col in dfr.columns]\n",
        "dfsus.columns = [col.replace('^GSPC', 'SP500') for col in dfsus.columns]\n",
        "dfsus.columns = [col.replace('USDBRL=X', 'USDBRL') for col in dfsus.columns]\n",
        "dfeus.columns = [col.replace('^GSPC', 'SP500') for col in dfeus.columns]\n",
        "dfeus.columns = [col.replace('USDBRL=X', 'USDBRL') for col in dfeus.columns]\n",
        "dfport.columns = [col.replace('.SA', '') for col in dfport.columns]\n",
        "dfport.columns = [col.replace('^BVSP', 'IBOV') for col in dfport.columns]\n",
        "dfport.columns = [col.replace('USDBRL=X', 'USDBRL') for col in dfport.columns]"
      ],
      "metadata": {
        "id": "oHbSRWbA7xsq"
      },
      "execution_count": null,
      "outputs": []
    },
    {
      "cell_type": "code",
      "execution_count": null,
      "metadata": {
        "id": "UDCUEPHVJjoL"
      },
      "outputs": [],
      "source": [
        "# Exclude NaNs, in the first row and in the dfr Date registers that not included in IFIX excel file.\n",
        "dfs.dropna(inplace=True)\n",
        "dfr.dropna(inplace=True)\n",
        "dfsus.dropna(inplace=True)\n",
        "dfeus.dropna(inplace=True)\n",
        "dfport.dropna(inplace=True)\n",
        "# Other conformations such as ascending order and the market indexes in the first column\n",
        "dfs = dfs[sorted(dfs.columns)]\n",
        "dfr = dfr[sorted(dfr.columns)]\n",
        "dfsus = dfsus[sorted(dfsus.columns)]\n",
        "dfus = dfeus[sorted(dfeus.columns)]\n",
        "dfport = dfport[sorted(dfport.columns)]\n",
        "dfs = dfs[['IBOV'] + [col for col in dfs.columns if col != 'IBOV']]\n",
        "dfr = dfr[['IFIX'] + [col for col in dfr.columns if col != 'IFIX']]\n",
        "dfsus = dfsus[['SP500', 'USDBRL'] + [col for col in dfsus.columns if col not in ['SP500', 'USDBRL']]]\n",
        "dfeus = dfeus[['SP500', 'USDBRL'] + [col for col in dfeus.columns if col not in ['SP500', 'USDBRL']]]\n",
        "dfport = dfport[['IBOV', 'USDBRL'] + [col for col in dfport.columns if col not in ['IBOV', 'USDBRL']]]\n",
        "# Here dataframes should be ready for calculations. It will be made and uploaded in dfxvar dataframes later.\n",
        "# display(dfs)\n",
        "# display(dfr)\n",
        "# display(dfsus)\n",
        "# display(dfeus)\n",
        "# display(dfport)"
      ]
    },
    {
      "cell_type": "code",
      "execution_count": null,
      "metadata": {
        "id": "TcgVC4D3YRGZ"
      },
      "outputs": [],
      "source": [
        "# Calculate daily variation\n",
        "dfsvar = dfs.pct_change()\n",
        "dfrvar = dfr.pct_change()\n",
        "dfsusvar = dfsus.pct_change()\n",
        "dfeusvar = dfeus.pct_change()\n",
        "dfportvar = dfport.pct_change()\n",
        "# Excluding MaNs first line\n",
        "dfsvar.dropna(inplace=True)\n",
        "dfrvar.dropna(inplace=True)\n",
        "dfsusvar.dropna(inplace=True)\n",
        "dfeusvar.dropna(inplace=True)\n",
        "dfportvar.dropna(inplace=True)\n",
        "# display(dfsvar)\n",
        "# display(dfrvar)\n",
        "# display(dfsusvar)\n",
        "# display(dfeusvar)\n",
        "# display(dfportvar)"
      ]
    },
    {
      "cell_type": "code",
      "source": [
        "# Market Percentage Return calculation and column add in output dataframes\n",
        "stockvar = pd.DataFrame(dfsvar.mean()*252*100).rename(columns={0: 'Ret%'})\n",
        "stockvar.index.name = 'Ticker'\n",
        "stockvar['Ret%'] = stockvar['Ret%'].round(1)\n",
        "realstatevar = pd.DataFrame(dfrvar.mean()*252*100).rename(columns={0: 'Ret%'})\n",
        "realstatevar.index.name = 'Ticker'\n",
        "realstatevar['Ret%'] = realstatevar['Ret%'].round(1)\n",
        "stockusvar = pd.DataFrame(dfsusvar.mean()*252*100).rename(columns={0: 'Ret%'})\n",
        "stockusvar.index.name = 'Ticker'\n",
        "stockusvar['Ret%'] = stockusvar['Ret%'].round(1)\n",
        "etfusvar = pd.DataFrame(dfeusvar.mean()*252*100).rename(columns={0: 'Ret%'})\n",
        "etfusvar.index.name = 'Ticker'\n",
        "etfusvar['Ret%'] = etfusvar['Ret%'].round(1)\n",
        "portvar = pd.DataFrame(dfportvar.mean()*252*100).rename(columns={0: 'Ret%'})\n",
        "portvar.index.name = 'Ticker'\n",
        "portvar['Ret%'] = portvar['Ret%'].round(1)\n",
        "# display(stockvar)\n",
        "# display(realstatevar)\n",
        "# display(stockusvar)\n",
        "# display(etfusvar)\n",
        "# display(portvar)"
      ],
      "metadata": {
        "id": "sIp8E6j_gf-v"
      },
      "execution_count": null,
      "outputs": []
    },
    {
      "cell_type": "code",
      "execution_count": null,
      "metadata": {
        "id": "Dbp_7QIAZ2bh"
      },
      "outputs": [],
      "source": [
        "# Market return variance calculation\n",
        "vars = dfsvar.var()*252\n",
        "varr = dfrvar.var()*252\n",
        "varsus = dfsusvar.var()*252\n",
        "vareus = dfeusvar.var()*252\n",
        "varport = dfportvar.var()*252\n",
        "# display(vars)\n",
        "# display(varr)\n",
        "# display(varsus)\n",
        "# display(vareus)\n",
        "# display(varport)"
      ]
    },
    {
      "cell_type": "code",
      "source": [
        "# Market risk calculation, in percentage (%). Add column in output dataframes\n",
        "stockvar['Risk%'] = dfsvar.std()*np.sqrt(252)*100\n",
        "stockvar['Risk%'] = stockvar['Risk%'].round(0)\n",
        "realstatevar['Risk%'] = dfrvar.std()*np.sqrt(252)*100\n",
        "realstatevar['Risk%'] = realstatevar['Risk%'].round(0)\n",
        "stockusvar['Risk%'] = dfsusvar.std()*np.sqrt(252)*100\n",
        "stockusvar['Risk%'] = stockusvar['Risk%'].round(0)\n",
        "etfusvar['Risk%'] = dfeusvar.std()*np.sqrt(252)*100\n",
        "etfusvar['Risk%'] = etfusvar['Risk%'].round(0)\n",
        "portvar['Risk%'] = dfportvar.std()*np.sqrt(252)*100\n",
        "portvar['Risk%'] = portvar['Risk%'].round(0)\n",
        "# display(stockvar)\n",
        "# display(realstatevar)\n",
        "# display(stockusvar)\n",
        "# display(etfusvar)\n",
        "# display(portvar)"
      ],
      "metadata": {
        "id": "wa3KeoAjpuGF"
      },
      "execution_count": null,
      "outputs": []
    },
    {
      "cell_type": "code",
      "execution_count": null,
      "metadata": {
        "id": "foFpvk98EV1M"
      },
      "outputs": [],
      "source": [
        "# Covariance calculation\n",
        "covs = dfsvar.cov()*252\n",
        "covr = dfrvar.cov()*252\n",
        "covsus = dfsusvar.cov()*252\n",
        "coveus = dfeusvar.cov()*252\n",
        "covport = dfportvar.cov()*252\n",
        "# display(covs)\n",
        "# display(covr)\n",
        "# display(covsus)\n",
        "# display(coveus)\n",
        "# display(covport)"
      ]
    },
    {
      "cell_type": "code",
      "execution_count": null,
      "metadata": {
        "id": "ZFGifgTrAoDA"
      },
      "outputs": [],
      "source": [
        "# Beta calculation\n",
        "betas = covs['IBOV']/vars['IBOV']\n",
        "betas = betas.round(3)\n",
        "betas.name = 'Beta'\n",
        "betar = covr['IFIX']/varr['IFIX']\n",
        "betar = betar.round(3)\n",
        "betar.name = 'Beta'\n",
        "betasus = covsus['SP500']/varsus['SP500']\n",
        "betasus = betasus.round(3)\n",
        "betasus.name = 'Beta'\n",
        "betaeus = coveus['SP500']/vareus['SP500']\n",
        "betaeus = betaeus.round(3)\n",
        "betaeus.name = 'Beta'\n",
        "betaport = covport['IBOV']/varport['IBOV']\n",
        "betaport = betaport.round(3)\n",
        "betaport.name = 'Beta'\n",
        "# display(betas)\n",
        "# display(betar)\n",
        "# display(betasus)\n",
        "# display(betaeus)\n",
        "# display(betaport)"
      ]
    },
    {
      "cell_type": "code",
      "source": [
        "# Adding Beta to column output dataframes\n",
        "stockvar['Beta'] = betas\n",
        "realstatevar['Beta'] = betar\n",
        "stockusvar['Beta'] = betasus\n",
        "etfusvar['Beta'] = betaeus\n",
        "portvar['Beta'] = betaport\n",
        "# display(stockvar)\n",
        "# display(realstatevar)\n",
        "# display(stockusvar)\n",
        "# display(etfusvar)\n",
        "# display(portvar)"
      ],
      "metadata": {
        "id": "Zanbv1uJnfju"
      },
      "execution_count": null,
      "outputs": []
    },
    {
      "cell_type": "code",
      "source": [
        "# Adding Min to column output dataframes\n",
        "stockvar['Min'] = dfs.min()\n",
        "stockvar['Min'] = stockvar['Min'].round(2)\n",
        "realstatevar['Min'] = dfr.min()\n",
        "realstatevar['Min'] = realstatevar['Min'].round(2)\n",
        "stockusvar['Min'] = dfsus.min()\n",
        "stockusvar['Min'] = stockusvar['Min'].round(2)\n",
        "etfusvar['Min'] = dfeus.min()\n",
        "etfusvar['Min'] = etfusvar['Min'].round(2)\n",
        "portvar['Min'] = dfport.min()\n",
        "portvar['Min'] = portvar['Min'].round(2)\n",
        "# display(stockvar)\n",
        "# display(realstatevar)\n",
        "# display(stockusvar)\n",
        "# display(etfusvar)\n",
        "# display(portvar)"
      ],
      "metadata": {
        "id": "YnAEVEP1YD4a"
      },
      "execution_count": null,
      "outputs": []
    },
    {
      "cell_type": "code",
      "source": [
        "# Adding Max to column output dataframes\n",
        "stockvar['Max'] = dfs.max()\n",
        "stockvar['Max'] = stockvar['Max'].round(2)\n",
        "realstatevar['Max'] = dfr.max()\n",
        "realstatevar['Max'] = realstatevar['Max'].round(2)\n",
        "stockusvar['Max'] = dfsus.max()\n",
        "stockusvar['Max'] = stockusvar['Max'].round(2)\n",
        "etfusvar['Max'] = dfeus.max()\n",
        "etfusvar['Max'] = etfusvar['Max'].round(2)\n",
        "portvar['Max'] = dfport.max()\n",
        "portvar['Max'] = portvar['Max'].round(2)\n",
        "# display(stockvar)\n",
        "# display(realstatevar)\n",
        "# display(stockusvar)\n",
        "# display(etfusvar)\n",
        "# display(portvar)"
      ],
      "metadata": {
        "id": "v4fdFkBNZ6Ei"
      },
      "execution_count": null,
      "outputs": []
    },
    {
      "cell_type": "code",
      "source": [
        "# Organizing columns order and making Index column as index of dataframes\n",
        "stockvar = stockvar.reset_index()\n",
        "realstatevar = realstatevar.reset_index()\n",
        "stockusvar = stockusvar.reset_index()\n",
        "etfusvar = etfusvar.reset_index()\n",
        "portvar = portvar.reset_index()\n",
        "# display(stockvar)\n",
        "# display(realstatevar)\n",
        "# display(stockusvar)\n",
        "# display(etfusvar)\n",
        "# display(portvar)"
      ],
      "metadata": {
        "id": "YYMn4_w7vIg-"
      },
      "execution_count": null,
      "outputs": []
    },
    {
      "cell_type": "code",
      "source": [
        "# Portfolio dataframe assembling\n",
        "portfolio = pd.merge(portfolio, portvar, on='Ticker', how='inner')\n",
        "# portfolio = portfolio[sorted(portfolio.columns)]\n",
        "# portfolio = portfolio[['IBOV', 'USDBRL'] + [col for col in portfolio.columns if col not in ['IBOV', 'USDBRL']]]\n",
        "# firstsnames = ['IBOV','USDBRL']\n",
        "firstsnames = ['IBOV', 'USDBRL']\n",
        "portfolio.iloc[2:] = portfolio[~portfolio['Ticker'].isin(firstsnames)].sort_values(by='Ticker').values\n",
        "# display(portfolio)"
      ],
      "metadata": {
        "id": "T366MMVaumwm"
      },
      "execution_count": null,
      "outputs": []
    },
    {
      "cell_type": "code",
      "source": [
        "# Portfolio Total Return calculation\n",
        "portfolioretexptotal = (portfolio['W']/100).dot(portfolio['RetE%'])\n",
        "portfoliorettotal = (portfolio['W']/100).dot(portfolio['Ret%'])\n",
        "# display(portfoliorettotal)"
      ],
      "metadata": {
        "id": "Ozm3ZSpvuYOH"
      },
      "execution_count": null,
      "outputs": []
    },
    {
      "cell_type": "code",
      "source": [
        "# Portolio Total Variance calculation\n",
        "# It uses LINEAR ALGEBRA, LINES AND COLUMNS MUST BE ALINGNED! CONFIRM IT, check covariance calculations (covport) and portfolio lines. SHOULD BE EQUAL!\n",
        "# Converts weights to column array\n",
        "weight = (portfolio['W']/100).to_numpy().reshape(-1, 1) # Converte para array coluna\n",
        "# Matrix multiplications: Variance = Weight.T x Covariance x Weight. See Portfolio Theory. T means transposed matrix.\n",
        "# The result should be a dataframe 1x1 with only the value of total portfolio variance\n",
        "# other line code possible: portvartotal = weight.T @ covport @ weight\n",
        "portvartotal = (weight.T.dot(covport).dot(weight)).item()\n",
        "# display(weight)\n",
        "# display(portvartotal)"
      ],
      "metadata": {
        "id": "0p-nasYGbkh2"
      },
      "execution_count": null,
      "outputs": []
    },
    {
      "cell_type": "code",
      "source": [
        "# Total Portfolio Percentage Risk calculation\n",
        "portfoliorisktotal = (np.sqrt(portvartotal))*100\n",
        "# display(portfoliorisktotal)"
      ],
      "metadata": {
        "id": "JxT6X2JzqNyk"
      },
      "execution_count": null,
      "outputs": []
    },
    {
      "cell_type": "code",
      "source": [
        "# Portfolio Sharpes calculations\n",
        "portfoliosharpeexp = portfolioretexptotal/portfoliorisktotal\n",
        "portfoliosharpe = portfoliorettotal/portfoliorisktotal\n",
        "# display(portfoliosharpe)"
      ],
      "metadata": {
        "id": "O_qGQliuy0PK"
      },
      "execution_count": null,
      "outputs": []
    },
    {
      "cell_type": "code",
      "source": [
        "# Portfolio adding columns with Total Return, Total Risk and Sharpe values in first register(in the same line of IBOV value index). Other registers being filled with zero.\n",
        "portfolio['RetETotal%'] = [portfolioretexptotal] + [0] * (len(portfolio) - 1)\n",
        "portfolio['RetETotal%'] = portfolio['RetETotal%'].round(1)\n",
        "portfolio['RetTotal%'] = [portfoliorettotal] + [0] * (len(portfolio) - 1)\n",
        "portfolio['RetTotal%'] = portfolio['RetTotal%'].round(1)\n",
        "portfolio['RiskTotal%'] = [portfoliorisktotal] + [0] * (len(portfolio) - 1)\n",
        "portfolio['RiskTotal%'] = portfolio['RiskTotal%'].round(0)\n",
        "portfolio['SharpeE'] = [portfoliosharpeexp] + [0] * (len(portfolio) - 1)\n",
        "portfolio['SharpeE'] = portfolio['SharpeE'].round(3)\n",
        "portfolio['Sharpe'] = [portfoliosharpe] + [0] * (len(portfolio) - 1)\n",
        "portfolio['Sharpe'] = portfolio['Sharpe'].round(3)\n",
        "# Calculate Total Beta and add in IBOV line\n",
        "portfolio.at[0, 'Beta'] = (portfolio['W'] /100 * portfolio['Beta']).sum()\n",
        "portfolio['Beta'] = portfolio['Beta'].round(3)\n",
        "# display(portfolio)"
      ],
      "metadata": {
        "id": "shtCO9Nl2dSK"
      },
      "execution_count": null,
      "outputs": []
    },
    {
      "cell_type": "code",
      "source": [
        "# Code structure begin to calculate sharpe maximizaton\n",
        "#\n",
        "# Funnctio to calculate negative Sharpe Ratio\n",
        "def negative_sharpe_ratio(weights, expected_returns, cov_matrix, riskfree):\n",
        "    portfolio_return = np.dot(weights, expected_returns)\n",
        "    portfolio_volatility = np.sqrt(np.dot(weights.T, np.dot(cov_matrix, weights)))\n",
        "    sharpe_ratio = (portfolio_return - riskfree) / portfolio_volatility\n",
        "    return -sharpe_ratio  # negative to maximize in throught scipy.optimize minimize library"
      ],
      "metadata": {
        "id": "Gv15bT5Aog0B"
      },
      "execution_count": null,
      "outputs": []
    },
    {
      "cell_type": "code",
      "source": [
        "# Extracting expected returns\n",
        "expected_returns = portfolio['RetE%'].values"
      ],
      "metadata": {
        "id": "Jhj-5HIcpryC"
      },
      "execution_count": null,
      "outputs": []
    },
    {
      "cell_type": "code",
      "source": [
        "# Convert covariance dataframe in numpy matrix\n",
        "cov_matrix = covport.values"
      ],
      "metadata": {
        "id": "8Scvi-sRpy8l"
      },
      "execution_count": null,
      "outputs": []
    },
    {
      "cell_type": "code",
      "source": [
        "weights = [values / 100 for values in weightport]"
      ],
      "metadata": {
        "id": "41tz294FuOTM"
      },
      "execution_count": null,
      "outputs": []
    },
    {
      "cell_type": "code",
      "source": [
        "# Weights restrictions = 1\n",
        "constraints = ({'type': 'eq', 'fun': lambda weights: np.sum(weights) - 1})"
      ],
      "metadata": {
        "id": "7BDtLcjWo1-r"
      },
      "execution_count": null,
      "outputs": []
    },
    {
      "cell_type": "code",
      "source": [
        "# Weights limits (no short opertions, only long ones)\n",
        "bounds = tuple((0, 1) for _ in range(len(expected_returns)))"
      ],
      "metadata": {
        "id": "skN0OS7Co6Ci"
      },
      "execution_count": null,
      "outputs": []
    },
    {
      "cell_type": "code",
      "source": [
        "# Initial weights to begin interaction\n",
        "initial_weights = portfolio['W'].values"
      ],
      "metadata": {
        "id": "PITOXj9ko_09"
      },
      "execution_count": null,
      "outputs": []
    },
    {
      "cell_type": "code",
      "source": [
        "# Optimization\n",
        "result = minimize(\n",
        "    negative_sharpe_ratio,\n",
        "    initial_weights,\n",
        "    args=(expected_returns, cov_matrix, riskfree),\n",
        "    method='SLSQP',\n",
        "    bounds=bounds,\n",
        "    constraints=constraints\n",
        ")"
      ],
      "metadata": {
        "id": "9bZiec_JpD6i"
      },
      "execution_count": null,
      "outputs": []
    },
    {
      "cell_type": "code",
      "source": [
        "# Final result\n",
        "optimal_weights = result.x\n",
        "max_sharpe = -result.fun  # negative once we multilpy to negative in the funcion operation\n",
        "#\n",
        "#  Code structure end to calculate sharpe maximizaton"
      ],
      "metadata": {
        "id": "VbS9qLuXpIyN"
      },
      "execution_count": null,
      "outputs": []
    },
    {
      "cell_type": "code",
      "source": [
        "#  Add Maximum Sharpe ticker weights to portfolio dataframe\n",
        "portfolio['SharpeEMax-W'] = optimal_weights\n",
        "portfolio['SharpeEMax-W']  = ((portfolio['SharpeEMax-W'])*100).round(3)"
      ],
      "metadata": {
        "id": "kpBjFnaUEZxP"
      },
      "execution_count": null,
      "outputs": []
    },
    {
      "cell_type": "code",
      "source": [
        "# Add Maximum Sharpe value to portfolio dataframe in IBOV line\n",
        "portfolio.at[0, 'SharpeEMax-W'] = max_sharpe\n",
        "# portfolio['SharpeEMax'] = [max_sharpe] + [0] * (len(portfolio) - 1)\n",
        "portfolio['SharpeEMax-W'] = portfolio['SharpeEMax-W'].round(3)"
      ],
      "metadata": {
        "id": "NajFekHEGdNy"
      },
      "execution_count": null,
      "outputs": []
    },
    {
      "cell_type": "code",
      "source": [
        "#  Add Maximum Sharpe ticker weights to portfolio dataframe\n",
        "sharpeemaxret = (portfolio['RetE%'] * portfolio['SharpeEMax-W'] / 100).sum()\n",
        "portfolio['SharpeEMax-Ret%'] = [sharpeemaxret]+ [0] * (len(portfolio) - 1)\n",
        "portfolio['SharpeEMax-Ret%'] = portfolio['SharpeEMax-Ret%'].round(2)\n",
        "display(portfolio)"
      ],
      "metadata": {
        "colab": {
          "base_uri": "https://localhost:8080/",
          "height": 551
        },
        "id": "2BfFWd1uQUJ7",
        "outputId": "e6a84dbc-9b5e-4805-9524-29896724966b"
      },
      "execution_count": null,
      "outputs": [
        {
          "output_type": "display_data",
          "data": {
            "text/plain": [
              "    Ticker       W  RetE%  Ret%  Risk%   Beta        Min        Max  \\\n",
              "0     IBOV   0.000    0.0   2.8   14.0  0.286  118533.00  137344.00   \n",
              "1   USDBRL   0.000    0.0  16.7   14.0 -0.004       4.97       6.30   \n",
              "2    BBAS3   5.885   27.3   7.9   19.0  0.810      23.44      29.08   \n",
              "3    CPFE3   3.688   15.0  14.0   20.0  0.602      31.00      39.15   \n",
              "4    ELET6   5.110    1.5   3.4   21.0  1.036      36.95      44.92   \n",
              "5     FBTC   3.314   30.0  53.7   59.0  0.444     260.22     573.73   \n",
              "6   HSML11   2.776   12.0  -9.5   16.0  0.098      68.09      90.83   \n",
              "7   HTMX11   6.154   32.4   0.4   24.0 -0.047     144.70     190.09   \n",
              "8   IVVB11   9.425   17.0  26.5   16.0 -0.239     284.40     417.20   \n",
              "9    PETR4   7.494   15.0  21.4   23.0  0.657      29.15      38.50   \n",
              "10  SADI11   7.068   20.8  48.8   22.0 -0.008       5.35       8.49   \n",
              "11    SCHD  32.646   17.0  26.9   19.0  0.278     125.69     175.95   \n",
              "12    TFLO   4.042   10.0  21.8   14.0 -0.003     239.20     315.88   \n",
              "13  TGAR11   4.111   18.2 -27.0   19.0  0.070      74.18     112.49   \n",
              "14  TRXF11   5.118   17.6   5.8   11.0  0.036      90.30     103.90   \n",
              "15   VALE3   3.169   10.9   5.3   24.0  0.846      49.58      61.29   \n",
              "\n",
              "    RetETotal%  RetTotal%  RiskTotal%  SharpeE  Sharpe  SharpeEMax-W  \\\n",
              "0         17.7       19.3        10.0    1.836   1.998       127.351   \n",
              "1          0.0        0.0         0.0    0.000   0.000         0.000   \n",
              "2          0.0        0.0         0.0    0.000   0.000        31.761   \n",
              "3          0.0        0.0         0.0    0.000   0.000         0.000   \n",
              "4          0.0        0.0         0.0    0.000   0.000         0.000   \n",
              "5          0.0        0.0         0.0    0.000   0.000         1.997   \n",
              "6          0.0        0.0         0.0    0.000   0.000         0.000   \n",
              "7          0.0        0.0         0.0    0.000   0.000        23.073   \n",
              "8          0.0        0.0         0.0    0.000   0.000        16.843   \n",
              "9          0.0        0.0         0.0    0.000   0.000         0.000   \n",
              "10         0.0        0.0         0.0    0.000   0.000         9.618   \n",
              "11         0.0        0.0         0.0    0.000   0.000         0.000   \n",
              "12         0.0        0.0         0.0    0.000   0.000         0.000   \n",
              "13         0.0        0.0         0.0    0.000   0.000         0.000   \n",
              "14         0.0        0.0         0.0    0.000   0.000        16.708   \n",
              "15         0.0        0.0         0.0    0.000   0.000         0.000   \n",
              "\n",
              "    SharpeEMax-Ret%  \n",
              "0             24.55  \n",
              "1              0.00  \n",
              "2              0.00  \n",
              "3              0.00  \n",
              "4              0.00  \n",
              "5              0.00  \n",
              "6              0.00  \n",
              "7              0.00  \n",
              "8              0.00  \n",
              "9              0.00  \n",
              "10             0.00  \n",
              "11             0.00  \n",
              "12             0.00  \n",
              "13             0.00  \n",
              "14             0.00  \n",
              "15             0.00  "
            ],
            "text/html": [
              "\n",
              "  <div id=\"df-16f4eb50-daf8-4818-803a-1f4ff1445418\" class=\"colab-df-container\">\n",
              "    <div>\n",
              "<style scoped>\n",
              "    .dataframe tbody tr th:only-of-type {\n",
              "        vertical-align: middle;\n",
              "    }\n",
              "\n",
              "    .dataframe tbody tr th {\n",
              "        vertical-align: top;\n",
              "    }\n",
              "\n",
              "    .dataframe thead th {\n",
              "        text-align: right;\n",
              "    }\n",
              "</style>\n",
              "<table border=\"1\" class=\"dataframe\">\n",
              "  <thead>\n",
              "    <tr style=\"text-align: right;\">\n",
              "      <th></th>\n",
              "      <th>Ticker</th>\n",
              "      <th>W</th>\n",
              "      <th>RetE%</th>\n",
              "      <th>Ret%</th>\n",
              "      <th>Risk%</th>\n",
              "      <th>Beta</th>\n",
              "      <th>Min</th>\n",
              "      <th>Max</th>\n",
              "      <th>RetETotal%</th>\n",
              "      <th>RetTotal%</th>\n",
              "      <th>RiskTotal%</th>\n",
              "      <th>SharpeE</th>\n",
              "      <th>Sharpe</th>\n",
              "      <th>SharpeEMax-W</th>\n",
              "      <th>SharpeEMax-Ret%</th>\n",
              "    </tr>\n",
              "  </thead>\n",
              "  <tbody>\n",
              "    <tr>\n",
              "      <th>0</th>\n",
              "      <td>IBOV</td>\n",
              "      <td>0.000</td>\n",
              "      <td>0.0</td>\n",
              "      <td>2.8</td>\n",
              "      <td>14.0</td>\n",
              "      <td>0.286</td>\n",
              "      <td>118533.00</td>\n",
              "      <td>137344.00</td>\n",
              "      <td>17.7</td>\n",
              "      <td>19.3</td>\n",
              "      <td>10.0</td>\n",
              "      <td>1.836</td>\n",
              "      <td>1.998</td>\n",
              "      <td>127.351</td>\n",
              "      <td>24.55</td>\n",
              "    </tr>\n",
              "    <tr>\n",
              "      <th>1</th>\n",
              "      <td>USDBRL</td>\n",
              "      <td>0.000</td>\n",
              "      <td>0.0</td>\n",
              "      <td>16.7</td>\n",
              "      <td>14.0</td>\n",
              "      <td>-0.004</td>\n",
              "      <td>4.97</td>\n",
              "      <td>6.30</td>\n",
              "      <td>0.0</td>\n",
              "      <td>0.0</td>\n",
              "      <td>0.0</td>\n",
              "      <td>0.000</td>\n",
              "      <td>0.000</td>\n",
              "      <td>0.000</td>\n",
              "      <td>0.00</td>\n",
              "    </tr>\n",
              "    <tr>\n",
              "      <th>2</th>\n",
              "      <td>BBAS3</td>\n",
              "      <td>5.885</td>\n",
              "      <td>27.3</td>\n",
              "      <td>7.9</td>\n",
              "      <td>19.0</td>\n",
              "      <td>0.810</td>\n",
              "      <td>23.44</td>\n",
              "      <td>29.08</td>\n",
              "      <td>0.0</td>\n",
              "      <td>0.0</td>\n",
              "      <td>0.0</td>\n",
              "      <td>0.000</td>\n",
              "      <td>0.000</td>\n",
              "      <td>31.761</td>\n",
              "      <td>0.00</td>\n",
              "    </tr>\n",
              "    <tr>\n",
              "      <th>3</th>\n",
              "      <td>CPFE3</td>\n",
              "      <td>3.688</td>\n",
              "      <td>15.0</td>\n",
              "      <td>14.0</td>\n",
              "      <td>20.0</td>\n",
              "      <td>0.602</td>\n",
              "      <td>31.00</td>\n",
              "      <td>39.15</td>\n",
              "      <td>0.0</td>\n",
              "      <td>0.0</td>\n",
              "      <td>0.0</td>\n",
              "      <td>0.000</td>\n",
              "      <td>0.000</td>\n",
              "      <td>0.000</td>\n",
              "      <td>0.00</td>\n",
              "    </tr>\n",
              "    <tr>\n",
              "      <th>4</th>\n",
              "      <td>ELET6</td>\n",
              "      <td>5.110</td>\n",
              "      <td>1.5</td>\n",
              "      <td>3.4</td>\n",
              "      <td>21.0</td>\n",
              "      <td>1.036</td>\n",
              "      <td>36.95</td>\n",
              "      <td>44.92</td>\n",
              "      <td>0.0</td>\n",
              "      <td>0.0</td>\n",
              "      <td>0.0</td>\n",
              "      <td>0.000</td>\n",
              "      <td>0.000</td>\n",
              "      <td>0.000</td>\n",
              "      <td>0.00</td>\n",
              "    </tr>\n",
              "    <tr>\n",
              "      <th>5</th>\n",
              "      <td>FBTC</td>\n",
              "      <td>3.314</td>\n",
              "      <td>30.0</td>\n",
              "      <td>53.7</td>\n",
              "      <td>59.0</td>\n",
              "      <td>0.444</td>\n",
              "      <td>260.22</td>\n",
              "      <td>573.73</td>\n",
              "      <td>0.0</td>\n",
              "      <td>0.0</td>\n",
              "      <td>0.0</td>\n",
              "      <td>0.000</td>\n",
              "      <td>0.000</td>\n",
              "      <td>1.997</td>\n",
              "      <td>0.00</td>\n",
              "    </tr>\n",
              "    <tr>\n",
              "      <th>6</th>\n",
              "      <td>HSML11</td>\n",
              "      <td>2.776</td>\n",
              "      <td>12.0</td>\n",
              "      <td>-9.5</td>\n",
              "      <td>16.0</td>\n",
              "      <td>0.098</td>\n",
              "      <td>68.09</td>\n",
              "      <td>90.83</td>\n",
              "      <td>0.0</td>\n",
              "      <td>0.0</td>\n",
              "      <td>0.0</td>\n",
              "      <td>0.000</td>\n",
              "      <td>0.000</td>\n",
              "      <td>0.000</td>\n",
              "      <td>0.00</td>\n",
              "    </tr>\n",
              "    <tr>\n",
              "      <th>7</th>\n",
              "      <td>HTMX11</td>\n",
              "      <td>6.154</td>\n",
              "      <td>32.4</td>\n",
              "      <td>0.4</td>\n",
              "      <td>24.0</td>\n",
              "      <td>-0.047</td>\n",
              "      <td>144.70</td>\n",
              "      <td>190.09</td>\n",
              "      <td>0.0</td>\n",
              "      <td>0.0</td>\n",
              "      <td>0.0</td>\n",
              "      <td>0.000</td>\n",
              "      <td>0.000</td>\n",
              "      <td>23.073</td>\n",
              "      <td>0.00</td>\n",
              "    </tr>\n",
              "    <tr>\n",
              "      <th>8</th>\n",
              "      <td>IVVB11</td>\n",
              "      <td>9.425</td>\n",
              "      <td>17.0</td>\n",
              "      <td>26.5</td>\n",
              "      <td>16.0</td>\n",
              "      <td>-0.239</td>\n",
              "      <td>284.40</td>\n",
              "      <td>417.20</td>\n",
              "      <td>0.0</td>\n",
              "      <td>0.0</td>\n",
              "      <td>0.0</td>\n",
              "      <td>0.000</td>\n",
              "      <td>0.000</td>\n",
              "      <td>16.843</td>\n",
              "      <td>0.00</td>\n",
              "    </tr>\n",
              "    <tr>\n",
              "      <th>9</th>\n",
              "      <td>PETR4</td>\n",
              "      <td>7.494</td>\n",
              "      <td>15.0</td>\n",
              "      <td>21.4</td>\n",
              "      <td>23.0</td>\n",
              "      <td>0.657</td>\n",
              "      <td>29.15</td>\n",
              "      <td>38.50</td>\n",
              "      <td>0.0</td>\n",
              "      <td>0.0</td>\n",
              "      <td>0.0</td>\n",
              "      <td>0.000</td>\n",
              "      <td>0.000</td>\n",
              "      <td>0.000</td>\n",
              "      <td>0.00</td>\n",
              "    </tr>\n",
              "    <tr>\n",
              "      <th>10</th>\n",
              "      <td>SADI11</td>\n",
              "      <td>7.068</td>\n",
              "      <td>20.8</td>\n",
              "      <td>48.8</td>\n",
              "      <td>22.0</td>\n",
              "      <td>-0.008</td>\n",
              "      <td>5.35</td>\n",
              "      <td>8.49</td>\n",
              "      <td>0.0</td>\n",
              "      <td>0.0</td>\n",
              "      <td>0.0</td>\n",
              "      <td>0.000</td>\n",
              "      <td>0.000</td>\n",
              "      <td>9.618</td>\n",
              "      <td>0.00</td>\n",
              "    </tr>\n",
              "    <tr>\n",
              "      <th>11</th>\n",
              "      <td>SCHD</td>\n",
              "      <td>32.646</td>\n",
              "      <td>17.0</td>\n",
              "      <td>26.9</td>\n",
              "      <td>19.0</td>\n",
              "      <td>0.278</td>\n",
              "      <td>125.69</td>\n",
              "      <td>175.95</td>\n",
              "      <td>0.0</td>\n",
              "      <td>0.0</td>\n",
              "      <td>0.0</td>\n",
              "      <td>0.000</td>\n",
              "      <td>0.000</td>\n",
              "      <td>0.000</td>\n",
              "      <td>0.00</td>\n",
              "    </tr>\n",
              "    <tr>\n",
              "      <th>12</th>\n",
              "      <td>TFLO</td>\n",
              "      <td>4.042</td>\n",
              "      <td>10.0</td>\n",
              "      <td>21.8</td>\n",
              "      <td>14.0</td>\n",
              "      <td>-0.003</td>\n",
              "      <td>239.20</td>\n",
              "      <td>315.88</td>\n",
              "      <td>0.0</td>\n",
              "      <td>0.0</td>\n",
              "      <td>0.0</td>\n",
              "      <td>0.000</td>\n",
              "      <td>0.000</td>\n",
              "      <td>0.000</td>\n",
              "      <td>0.00</td>\n",
              "    </tr>\n",
              "    <tr>\n",
              "      <th>13</th>\n",
              "      <td>TGAR11</td>\n",
              "      <td>4.111</td>\n",
              "      <td>18.2</td>\n",
              "      <td>-27.0</td>\n",
              "      <td>19.0</td>\n",
              "      <td>0.070</td>\n",
              "      <td>74.18</td>\n",
              "      <td>112.49</td>\n",
              "      <td>0.0</td>\n",
              "      <td>0.0</td>\n",
              "      <td>0.0</td>\n",
              "      <td>0.000</td>\n",
              "      <td>0.000</td>\n",
              "      <td>0.000</td>\n",
              "      <td>0.00</td>\n",
              "    </tr>\n",
              "    <tr>\n",
              "      <th>14</th>\n",
              "      <td>TRXF11</td>\n",
              "      <td>5.118</td>\n",
              "      <td>17.6</td>\n",
              "      <td>5.8</td>\n",
              "      <td>11.0</td>\n",
              "      <td>0.036</td>\n",
              "      <td>90.30</td>\n",
              "      <td>103.90</td>\n",
              "      <td>0.0</td>\n",
              "      <td>0.0</td>\n",
              "      <td>0.0</td>\n",
              "      <td>0.000</td>\n",
              "      <td>0.000</td>\n",
              "      <td>16.708</td>\n",
              "      <td>0.00</td>\n",
              "    </tr>\n",
              "    <tr>\n",
              "      <th>15</th>\n",
              "      <td>VALE3</td>\n",
              "      <td>3.169</td>\n",
              "      <td>10.9</td>\n",
              "      <td>5.3</td>\n",
              "      <td>24.0</td>\n",
              "      <td>0.846</td>\n",
              "      <td>49.58</td>\n",
              "      <td>61.29</td>\n",
              "      <td>0.0</td>\n",
              "      <td>0.0</td>\n",
              "      <td>0.0</td>\n",
              "      <td>0.000</td>\n",
              "      <td>0.000</td>\n",
              "      <td>0.000</td>\n",
              "      <td>0.00</td>\n",
              "    </tr>\n",
              "  </tbody>\n",
              "</table>\n",
              "</div>\n",
              "    <div class=\"colab-df-buttons\">\n",
              "\n",
              "  <div class=\"colab-df-container\">\n",
              "    <button class=\"colab-df-convert\" onclick=\"convertToInteractive('df-16f4eb50-daf8-4818-803a-1f4ff1445418')\"\n",
              "            title=\"Convert this dataframe to an interactive table.\"\n",
              "            style=\"display:none;\">\n",
              "\n",
              "  <svg xmlns=\"http://www.w3.org/2000/svg\" height=\"24px\" viewBox=\"0 -960 960 960\">\n",
              "    <path d=\"M120-120v-720h720v720H120Zm60-500h600v-160H180v160Zm220 220h160v-160H400v160Zm0 220h160v-160H400v160ZM180-400h160v-160H180v160Zm440 0h160v-160H620v160ZM180-180h160v-160H180v160Zm440 0h160v-160H620v160Z\"/>\n",
              "  </svg>\n",
              "    </button>\n",
              "\n",
              "  <style>\n",
              "    .colab-df-container {\n",
              "      display:flex;\n",
              "      gap: 12px;\n",
              "    }\n",
              "\n",
              "    .colab-df-convert {\n",
              "      background-color: #E8F0FE;\n",
              "      border: none;\n",
              "      border-radius: 50%;\n",
              "      cursor: pointer;\n",
              "      display: none;\n",
              "      fill: #1967D2;\n",
              "      height: 32px;\n",
              "      padding: 0 0 0 0;\n",
              "      width: 32px;\n",
              "    }\n",
              "\n",
              "    .colab-df-convert:hover {\n",
              "      background-color: #E2EBFA;\n",
              "      box-shadow: 0px 1px 2px rgba(60, 64, 67, 0.3), 0px 1px 3px 1px rgba(60, 64, 67, 0.15);\n",
              "      fill: #174EA6;\n",
              "    }\n",
              "\n",
              "    .colab-df-buttons div {\n",
              "      margin-bottom: 4px;\n",
              "    }\n",
              "\n",
              "    [theme=dark] .colab-df-convert {\n",
              "      background-color: #3B4455;\n",
              "      fill: #D2E3FC;\n",
              "    }\n",
              "\n",
              "    [theme=dark] .colab-df-convert:hover {\n",
              "      background-color: #434B5C;\n",
              "      box-shadow: 0px 1px 3px 1px rgba(0, 0, 0, 0.15);\n",
              "      filter: drop-shadow(0px 1px 2px rgba(0, 0, 0, 0.3));\n",
              "      fill: #FFFFFF;\n",
              "    }\n",
              "  </style>\n",
              "\n",
              "    <script>\n",
              "      const buttonEl =\n",
              "        document.querySelector('#df-16f4eb50-daf8-4818-803a-1f4ff1445418 button.colab-df-convert');\n",
              "      buttonEl.style.display =\n",
              "        google.colab.kernel.accessAllowed ? 'block' : 'none';\n",
              "\n",
              "      async function convertToInteractive(key) {\n",
              "        const element = document.querySelector('#df-16f4eb50-daf8-4818-803a-1f4ff1445418');\n",
              "        const dataTable =\n",
              "          await google.colab.kernel.invokeFunction('convertToInteractive',\n",
              "                                                    [key], {});\n",
              "        if (!dataTable) return;\n",
              "\n",
              "        const docLinkHtml = 'Like what you see? Visit the ' +\n",
              "          '<a target=\"_blank\" href=https://colab.research.google.com/notebooks/data_table.ipynb>data table notebook</a>'\n",
              "          + ' to learn more about interactive tables.';\n",
              "        element.innerHTML = '';\n",
              "        dataTable['output_type'] = 'display_data';\n",
              "        await google.colab.output.renderOutput(dataTable, element);\n",
              "        const docLink = document.createElement('div');\n",
              "        docLink.innerHTML = docLinkHtml;\n",
              "        element.appendChild(docLink);\n",
              "      }\n",
              "    </script>\n",
              "  </div>\n",
              "\n",
              "\n",
              "<div id=\"df-e940be70-b2a9-4d63-b7a7-d33539873dc4\">\n",
              "  <button class=\"colab-df-quickchart\" onclick=\"quickchart('df-e940be70-b2a9-4d63-b7a7-d33539873dc4')\"\n",
              "            title=\"Suggest charts\"\n",
              "            style=\"display:none;\">\n",
              "\n",
              "<svg xmlns=\"http://www.w3.org/2000/svg\" height=\"24px\"viewBox=\"0 0 24 24\"\n",
              "     width=\"24px\">\n",
              "    <g>\n",
              "        <path d=\"M19 3H5c-1.1 0-2 .9-2 2v14c0 1.1.9 2 2 2h14c1.1 0 2-.9 2-2V5c0-1.1-.9-2-2-2zM9 17H7v-7h2v7zm4 0h-2V7h2v10zm4 0h-2v-4h2v4z\"/>\n",
              "    </g>\n",
              "</svg>\n",
              "  </button>\n",
              "\n",
              "<style>\n",
              "  .colab-df-quickchart {\n",
              "      --bg-color: #E8F0FE;\n",
              "      --fill-color: #1967D2;\n",
              "      --hover-bg-color: #E2EBFA;\n",
              "      --hover-fill-color: #174EA6;\n",
              "      --disabled-fill-color: #AAA;\n",
              "      --disabled-bg-color: #DDD;\n",
              "  }\n",
              "\n",
              "  [theme=dark] .colab-df-quickchart {\n",
              "      --bg-color: #3B4455;\n",
              "      --fill-color: #D2E3FC;\n",
              "      --hover-bg-color: #434B5C;\n",
              "      --hover-fill-color: #FFFFFF;\n",
              "      --disabled-bg-color: #3B4455;\n",
              "      --disabled-fill-color: #666;\n",
              "  }\n",
              "\n",
              "  .colab-df-quickchart {\n",
              "    background-color: var(--bg-color);\n",
              "    border: none;\n",
              "    border-radius: 50%;\n",
              "    cursor: pointer;\n",
              "    display: none;\n",
              "    fill: var(--fill-color);\n",
              "    height: 32px;\n",
              "    padding: 0;\n",
              "    width: 32px;\n",
              "  }\n",
              "\n",
              "  .colab-df-quickchart:hover {\n",
              "    background-color: var(--hover-bg-color);\n",
              "    box-shadow: 0 1px 2px rgba(60, 64, 67, 0.3), 0 1px 3px 1px rgba(60, 64, 67, 0.15);\n",
              "    fill: var(--button-hover-fill-color);\n",
              "  }\n",
              "\n",
              "  .colab-df-quickchart-complete:disabled,\n",
              "  .colab-df-quickchart-complete:disabled:hover {\n",
              "    background-color: var(--disabled-bg-color);\n",
              "    fill: var(--disabled-fill-color);\n",
              "    box-shadow: none;\n",
              "  }\n",
              "\n",
              "  .colab-df-spinner {\n",
              "    border: 2px solid var(--fill-color);\n",
              "    border-color: transparent;\n",
              "    border-bottom-color: var(--fill-color);\n",
              "    animation:\n",
              "      spin 1s steps(1) infinite;\n",
              "  }\n",
              "\n",
              "  @keyframes spin {\n",
              "    0% {\n",
              "      border-color: transparent;\n",
              "      border-bottom-color: var(--fill-color);\n",
              "      border-left-color: var(--fill-color);\n",
              "    }\n",
              "    20% {\n",
              "      border-color: transparent;\n",
              "      border-left-color: var(--fill-color);\n",
              "      border-top-color: var(--fill-color);\n",
              "    }\n",
              "    30% {\n",
              "      border-color: transparent;\n",
              "      border-left-color: var(--fill-color);\n",
              "      border-top-color: var(--fill-color);\n",
              "      border-right-color: var(--fill-color);\n",
              "    }\n",
              "    40% {\n",
              "      border-color: transparent;\n",
              "      border-right-color: var(--fill-color);\n",
              "      border-top-color: var(--fill-color);\n",
              "    }\n",
              "    60% {\n",
              "      border-color: transparent;\n",
              "      border-right-color: var(--fill-color);\n",
              "    }\n",
              "    80% {\n",
              "      border-color: transparent;\n",
              "      border-right-color: var(--fill-color);\n",
              "      border-bottom-color: var(--fill-color);\n",
              "    }\n",
              "    90% {\n",
              "      border-color: transparent;\n",
              "      border-bottom-color: var(--fill-color);\n",
              "    }\n",
              "  }\n",
              "</style>\n",
              "\n",
              "  <script>\n",
              "    async function quickchart(key) {\n",
              "      const quickchartButtonEl =\n",
              "        document.querySelector('#' + key + ' button');\n",
              "      quickchartButtonEl.disabled = true;  // To prevent multiple clicks.\n",
              "      quickchartButtonEl.classList.add('colab-df-spinner');\n",
              "      try {\n",
              "        const charts = await google.colab.kernel.invokeFunction(\n",
              "            'suggestCharts', [key], {});\n",
              "      } catch (error) {\n",
              "        console.error('Error during call to suggestCharts:', error);\n",
              "      }\n",
              "      quickchartButtonEl.classList.remove('colab-df-spinner');\n",
              "      quickchartButtonEl.classList.add('colab-df-quickchart-complete');\n",
              "    }\n",
              "    (() => {\n",
              "      let quickchartButtonEl =\n",
              "        document.querySelector('#df-e940be70-b2a9-4d63-b7a7-d33539873dc4 button');\n",
              "      quickchartButtonEl.style.display =\n",
              "        google.colab.kernel.accessAllowed ? 'block' : 'none';\n",
              "    })();\n",
              "  </script>\n",
              "</div>\n",
              "\n",
              "  <div id=\"id_d6d1585f-fc49-4cce-88ad-7ddf34e2220d\">\n",
              "    <style>\n",
              "      .colab-df-generate {\n",
              "        background-color: #E8F0FE;\n",
              "        border: none;\n",
              "        border-radius: 50%;\n",
              "        cursor: pointer;\n",
              "        display: none;\n",
              "        fill: #1967D2;\n",
              "        height: 32px;\n",
              "        padding: 0 0 0 0;\n",
              "        width: 32px;\n",
              "      }\n",
              "\n",
              "      .colab-df-generate:hover {\n",
              "        background-color: #E2EBFA;\n",
              "        box-shadow: 0px 1px 2px rgba(60, 64, 67, 0.3), 0px 1px 3px 1px rgba(60, 64, 67, 0.15);\n",
              "        fill: #174EA6;\n",
              "      }\n",
              "\n",
              "      [theme=dark] .colab-df-generate {\n",
              "        background-color: #3B4455;\n",
              "        fill: #D2E3FC;\n",
              "      }\n",
              "\n",
              "      [theme=dark] .colab-df-generate:hover {\n",
              "        background-color: #434B5C;\n",
              "        box-shadow: 0px 1px 3px 1px rgba(0, 0, 0, 0.15);\n",
              "        filter: drop-shadow(0px 1px 2px rgba(0, 0, 0, 0.3));\n",
              "        fill: #FFFFFF;\n",
              "      }\n",
              "    </style>\n",
              "    <button class=\"colab-df-generate\" onclick=\"generateWithVariable('portfolio')\"\n",
              "            title=\"Generate code using this dataframe.\"\n",
              "            style=\"display:none;\">\n",
              "\n",
              "  <svg xmlns=\"http://www.w3.org/2000/svg\" height=\"24px\"viewBox=\"0 0 24 24\"\n",
              "       width=\"24px\">\n",
              "    <path d=\"M7,19H8.4L18.45,9,17,7.55,7,17.6ZM5,21V16.75L18.45,3.32a2,2,0,0,1,2.83,0l1.4,1.43a1.91,1.91,0,0,1,.58,1.4,1.91,1.91,0,0,1-.58,1.4L9.25,21ZM18.45,9,17,7.55Zm-12,3A5.31,5.31,0,0,0,4.9,8.1,5.31,5.31,0,0,0,1,6.5,5.31,5.31,0,0,0,4.9,4.9,5.31,5.31,0,0,0,6.5,1,5.31,5.31,0,0,0,8.1,4.9,5.31,5.31,0,0,0,12,6.5,5.46,5.46,0,0,0,6.5,12Z\"/>\n",
              "  </svg>\n",
              "    </button>\n",
              "    <script>\n",
              "      (() => {\n",
              "      const buttonEl =\n",
              "        document.querySelector('#id_d6d1585f-fc49-4cce-88ad-7ddf34e2220d button.colab-df-generate');\n",
              "      buttonEl.style.display =\n",
              "        google.colab.kernel.accessAllowed ? 'block' : 'none';\n",
              "\n",
              "      buttonEl.onclick = () => {\n",
              "        google.colab.notebook.generateWithVariable('portfolio');\n",
              "      }\n",
              "      })();\n",
              "    </script>\n",
              "  </div>\n",
              "\n",
              "    </div>\n",
              "  </div>\n"
            ],
            "application/vnd.google.colaboratory.intrinsic+json": {
              "type": "dataframe",
              "variable_name": "portfolio",
              "summary": "{\n  \"name\": \"portfolio\",\n  \"rows\": 16,\n  \"fields\": [\n    {\n      \"column\": \"Ticker\",\n      \"properties\": {\n        \"dtype\": \"string\",\n        \"num_unique_values\": 16,\n        \"samples\": [\n          \"IBOV\",\n          \"USDBRL\",\n          \"FBTC\"\n        ],\n        \"semantic_type\": \"\",\n        \"description\": \"\"\n      }\n    },\n    {\n      \"column\": \"W\",\n      \"properties\": {\n        \"dtype\": \"number\",\n        \"std\": 7.465879398972368,\n        \"min\": 0.0,\n        \"max\": 32.646,\n        \"num_unique_values\": 15,\n        \"samples\": [\n          7.068,\n          4.042,\n          0.0\n        ],\n        \"semantic_type\": \"\",\n        \"description\": \"\"\n      }\n    },\n    {\n      \"column\": \"RetE%\",\n      \"properties\": {\n        \"dtype\": \"number\",\n        \"std\": 9.727518953977937,\n        \"min\": 0.0,\n        \"max\": 32.4,\n        \"num_unique_values\": 13,\n        \"samples\": [\n          17.6,\n          10.0,\n          0.0\n        ],\n        \"semantic_type\": \"\",\n        \"description\": \"\"\n      }\n    },\n    {\n      \"column\": \"Ret%\",\n      \"properties\": {\n        \"dtype\": \"number\",\n        \"std\": 20.111695395134312,\n        \"min\": -27.0,\n        \"max\": 53.7,\n        \"num_unique_values\": 16,\n        \"samples\": [\n          2.8,\n          16.7,\n          53.7\n        ],\n        \"semantic_type\": \"\",\n        \"description\": \"\"\n      }\n    },\n    {\n      \"column\": \"Risk%\",\n      \"properties\": {\n        \"dtype\": \"number\",\n        \"std\": 10.884047960203043,\n        \"min\": 11.0,\n        \"max\": 59.0,\n        \"num_unique_values\": 10,\n        \"samples\": [\n          22.0,\n          19.0,\n          16.0\n        ],\n        \"semantic_type\": \"\",\n        \"description\": \"\"\n      }\n    },\n    {\n      \"column\": \"Beta\",\n      \"properties\": {\n        \"dtype\": \"number\",\n        \"std\": 0.38237501225890796,\n        \"min\": -0.239,\n        \"max\": 1.036,\n        \"num_unique_values\": 16,\n        \"samples\": [\n          0.286,\n          -0.004,\n          0.444\n        ],\n        \"semantic_type\": \"\",\n        \"description\": \"\"\n      }\n    },\n    {\n      \"column\": \"Min\",\n      \"properties\": {\n        \"dtype\": \"number\",\n        \"std\": 29608.935441271078,\n        \"min\": 4.97,\n        \"max\": 118533.0,\n        \"num_unique_values\": 16,\n        \"samples\": [\n          118533.0,\n          4.97,\n          260.22\n        ],\n        \"semantic_type\": \"\",\n        \"description\": \"\"\n      }\n    },\n    {\n      \"column\": \"Max\",\n      \"properties\": {\n        \"dtype\": \"number\",\n        \"std\": 34299.57902705114,\n        \"min\": 6.3,\n        \"max\": 137344.0,\n        \"num_unique_values\": 16,\n        \"samples\": [\n          137344.0,\n          6.3,\n          573.73\n        ],\n        \"semantic_type\": \"\",\n        \"description\": \"\"\n      }\n    },\n    {\n      \"column\": \"RetETotal%\",\n      \"properties\": {\n        \"dtype\": \"number\",\n        \"std\": 4.424999999999997,\n        \"min\": 0.0,\n        \"max\": 17.7,\n        \"num_unique_values\": 2,\n        \"samples\": [\n          0.0,\n          17.7\n        ],\n        \"semantic_type\": \"\",\n        \"description\": \"\"\n      }\n    },\n    {\n      \"column\": \"RetTotal%\",\n      \"properties\": {\n        \"dtype\": \"number\",\n        \"std\": 4.825000000000002,\n        \"min\": 0.0,\n        \"max\": 19.3,\n        \"num_unique_values\": 2,\n        \"samples\": [\n          0.0,\n          19.3\n        ],\n        \"semantic_type\": \"\",\n        \"description\": \"\"\n      }\n    },\n    {\n      \"column\": \"RiskTotal%\",\n      \"properties\": {\n        \"dtype\": \"number\",\n        \"std\": 2.5,\n        \"min\": 0.0,\n        \"max\": 10.0,\n        \"num_unique_values\": 2,\n        \"samples\": [\n          0.0,\n          10.0\n        ],\n        \"semantic_type\": \"\",\n        \"description\": \"\"\n      }\n    },\n    {\n      \"column\": \"SharpeE\",\n      \"properties\": {\n        \"dtype\": \"number\",\n        \"std\": 0.4590000000000001,\n        \"min\": 0.0,\n        \"max\": 1.836,\n        \"num_unique_values\": 2,\n        \"samples\": [\n          0.0,\n          1.836\n        ],\n        \"semantic_type\": \"\",\n        \"description\": \"\"\n      }\n    },\n    {\n      \"column\": \"Sharpe\",\n      \"properties\": {\n        \"dtype\": \"number\",\n        \"std\": 0.4994999999999998,\n        \"min\": 0.0,\n        \"max\": 1.998,\n        \"num_unique_values\": 2,\n        \"samples\": [\n          0.0,\n          1.998\n        ],\n        \"semantic_type\": \"\",\n        \"description\": \"\"\n      }\n    },\n    {\n      \"column\": \"SharpeEMax-W\",\n      \"properties\": {\n        \"dtype\": \"number\",\n        \"std\": 31.82054857262049,\n        \"min\": 0.0,\n        \"max\": 127.351,\n        \"num_unique_values\": 8,\n        \"samples\": [\n          0.0,\n          16.843\n        ],\n        \"semantic_type\": \"\",\n        \"description\": \"\"\n      }\n    },\n    {\n      \"column\": \"SharpeEMax-Ret%\",\n      \"properties\": {\n        \"dtype\": \"number\",\n        \"std\": 6.137500000000005,\n        \"min\": 0.0,\n        \"max\": 24.55,\n        \"num_unique_values\": 2,\n        \"samples\": [\n          0.0,\n          24.55\n        ],\n        \"semantic_type\": \"\",\n        \"description\": \"\"\n      }\n    }\n  ]\n}"
            }
          },
          "metadata": {}
        }
      ]
    },
    {
      "cell_type": "code",
      "execution_count": null,
      "metadata": {
        "id": "ODQ2jlYnQjNS"
      },
      "outputs": [],
      "source": [
        "# Autentication in Google Docs (only once)\n",
        "auth.authenticate_user()\n",
        "creds, _ = default()\n",
        "gc = gspread.authorize(creds)"
      ]
    },
    {
      "cell_type": "code",
      "execution_count": null,
      "metadata": {
        "id": "wyqrePZyZtys"
      },
      "outputs": [],
      "source": [
        "# Open workbook and worksheets\n",
        "wb = gc.open('Quotes')\n",
        "wss = wb.worksheet('Stockvar')\n",
        "wsr = wb.worksheet('RealStatevar')\n",
        "wssus = wb.worksheet('StockUSvar')\n",
        "wseus = wb.worksheet('ETFUSvar')\n",
        "wsport = wb.worksheet('Portfolio')"
      ]
    },
    {
      "cell_type": "code",
      "execution_count": null,
      "metadata": {
        "id": "yjSeVpqvaYkH",
        "colab": {
          "base_uri": "https://localhost:8080/"
        },
        "outputId": "d7a54925-8c38-4fcb-cc08-ace03192eb77"
      },
      "outputs": [
        {
          "output_type": "execute_result",
          "data": {
            "text/plain": [
              "{'spreadsheetId': '1qgTSxri55kYWVahW6sH3Fbn3ofWzhq93umUJhcwO7Uk',\n",
              " 'updatedRange': 'Portfolio!A1:O17',\n",
              " 'updatedRows': 17,\n",
              " 'updatedColumns': 15,\n",
              " 'updatedCells': 255}"
            ]
          },
          "metadata": {},
          "execution_count": 373
        }
      ],
      "source": [
        "# Write data in the worksheets\n",
        "wss.update([stockvar.columns.values.tolist()] + stockvar.values.tolist())\n",
        "wsr.update([realstatevar.columns.values.tolist()] + realstatevar.values.tolist())\n",
        "wssus.update([stockusvar.columns.values.tolist()] + stockusvar.values.tolist())\n",
        "wseus.update([etfusvar.columns.values.tolist()] + etfusvar.values.tolist())\n",
        "wsport.update([portfolio.columns.values.tolist()] + portfolio.values.tolist())"
      ]
    }
  ],
  "metadata": {
    "colab": {
      "provenance": [],
      "authorship_tag": "ABX9TyOP6CElZrX7XdQll4flpFZG",
      "include_colab_link": true
    },
    "kernelspec": {
      "display_name": "Python 3",
      "name": "python3"
    },
    "language_info": {
      "name": "python"
    }
  },
  "nbformat": 4,
  "nbformat_minor": 0
}